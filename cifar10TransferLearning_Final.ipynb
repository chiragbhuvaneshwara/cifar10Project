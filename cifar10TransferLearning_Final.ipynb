{
 "cells": [
  {
   "cell_type": "markdown",
   "metadata": {
    "colab_type": "text",
    "id": "KQkIRkKyC1lt"
   },
   "source": [
    "# Cifar 10 classification performed using Transfer Learning\n",
    "\n",
    "VGG Net, Alex Net, GoogLeNet, Resnet and Inception v3 trained. \n",
    "\n",
    "Accuracy achieved: \n",
    "\n",
    "          Models || Test Accuracy \n",
    "   \n",
    "    VGG19_bn Net || 91.06%\n",
    "  \n",
    "        Alex Net || 90.05%\n",
    "      \n",
    "       GoogLeNet || 95.78%\n",
    "     \n",
    "        ResNet34 || 96.42%\n",
    "      \n",
    "    Inception v3 || *    \n",
    "    \n",
    "*- I was unable to train because of insufficient VRAM. "
   ]
  },
  {
   "cell_type": "markdown",
   "metadata": {
    "colab_type": "text",
    "id": "1xFXehdSC1l2"
   },
   "source": [
    "# Settings to run on Google Colab\n",
    "\n",
    "Stores the trained models in Google Drive\n",
    "\n",
    "Comment the following out if running on your own system"
   ]
  },
  {
   "cell_type": "code",
   "execution_count": 65,
   "metadata": {
    "colab": {
     "base_uri": "https://localhost:8080/",
     "height": 54
    },
    "colab_type": "code",
    "id": "9FZcLxebgS7v",
    "outputId": "ee5b9570-d61d-436c-8910-f3e6ae9eec17"
   },
   "outputs": [
    {
     "name": "stdout",
     "output_type": "stream",
     "text": [
      "Drive already mounted at /content/gdrive; to attempt to forcibly remount, call drive.mount(\"/content/gdrive\", force_remount=True).\n"
     ]
    }
   ],
   "source": [
    "import os\n",
    "from google.colab import drive\n",
    "drive.mount('/content/gdrive')"
   ]
  },
  {
   "cell_type": "code",
   "execution_count": 66,
   "metadata": {
    "colab": {
     "base_uri": "https://localhost:8080/",
     "height": 306
    },
    "colab_type": "code",
    "id": "EW8Uthz-giiN",
    "outputId": "e878222d-9659-4f15-b6ba-b93c4d179b94"
   },
   "outputs": [
    {
     "data": {
      "text/plain": [
       "['dataset',\n",
       " 'CNN_models',\n",
       " 'DNN_models',\n",
       " 'dog.png',\n",
       " 'cifar10TransferLearning2.ipynb',\n",
       " '11_truck.png',\n",
       " '9993_dog.png',\n",
       " '85_dog.png',\n",
       " '1387_truck.png',\n",
       " 'cifar10WebApp.ipynb',\n",
       " 'cifar10TransferLearning.ipynb',\n",
       " 'TransferLearning_models_Final',\n",
       " 'TransferLearning_models',\n",
       " 'cifar10DNN.ipynb',\n",
       " 'cifar10CNN.ipynb',\n",
       " 'cifar10TransferLearningFinal.ipynb',\n",
       " 'cifar10CNN_Final.ipynb']"
      ]
     },
     "execution_count": 66,
     "metadata": {
      "tags": []
     },
     "output_type": "execute_result"
    }
   ],
   "source": [
    "path = 'gdrive/My Drive/Colab Notebooks/cifar10Project/'\n",
    "os.listdir(path)"
   ]
  },
  {
   "cell_type": "markdown",
   "metadata": {
    "colab_type": "text",
    "id": "JCvDXq79C1l_"
   },
   "source": [
    "# Settings to run on your own system\n",
    "\n",
    "Comment the following out if running on Google Drive"
   ]
  },
  {
   "cell_type": "code",
   "execution_count": 0,
   "metadata": {
    "colab": {},
    "colab_type": "code",
    "id": "INJSvaYHC1mA"
   },
   "outputs": [],
   "source": [
    "path = ''"
   ]
  },
  {
   "cell_type": "code",
   "execution_count": 0,
   "metadata": {
    "colab": {
     "base_uri": "https://localhost:8080/",
     "height": 17
    },
    "colab_type": "code",
    "id": "cQyi59FeRrIf",
    "outputId": "c937bed1-3174-4ea9-b486-4f8e44bd92fb"
   },
   "outputs": [
    {
     "data": {
      "text/html": [
       "<style>.container { width:100% !important; }</style>"
      ],
      "text/plain": [
       "<IPython.core.display.HTML object>"
      ]
     },
     "metadata": {
      "tags": []
     },
     "output_type": "display_data"
    }
   ],
   "source": [
    "# Sets width of jupyter notebook to full\n",
    "from IPython.core.display import display, HTML\n",
    "display(HTML(\"<style>.container { width:100% !important; }</style>\"))"
   ]
  },
  {
   "cell_type": "markdown",
   "metadata": {
    "colab_type": "text",
    "id": "ghHiB3OPC1lv"
   },
   "source": [
    "# Folder Structure\n",
    "\n",
    "Set up an empty folder called *TransferLearning_models* in your working directory(either on your system or on Google Drive) so that the trained models can be saved and accessed from this folder.\n",
    "\n",
    "Below code prints folder structure in local device."
   ]
  },
  {
   "cell_type": "code",
   "execution_count": 67,
   "metadata": {
    "colab": {
     "base_uri": "https://localhost:8080/",
     "height": 391
    },
    "colab_type": "code",
    "id": "3WYScAecC1lw",
    "outputId": "e0ce84b4-da1a-4300-ec73-6d428541db5e",
    "scrolled": false
   },
   "outputs": [
    {
     "name": "stdout",
     "output_type": "stream",
     "text": [
      "TransferLearning_models/\n",
      "    model8.ckpt\n",
      "    model11.ckpt\n",
      "    model12.ckpt\n",
      "    model17.ckpt\n",
      "    model28.ckpt\n",
      "    model33.ckpt\n",
      "    vggModel.ckpt\n",
      "    model1.ckpt\n",
      "    model2.ckpt\n",
      "    model3.ckpt\n",
      "    model4.ckpt\n",
      "    model5.ckpt\n",
      "    model6.ckpt\n",
      "    model7.ckpt\n",
      "    model9.ckpt\n",
      "    model10.ckpt\n",
      "    model14.ckpt\n",
      "    model18.ckpt\n",
      "    model20.ckpt\n",
      "    model22.ckpt\n",
      "    model23.ckpt\n"
     ]
    }
   ],
   "source": [
    "import os\n",
    "\n",
    "def list_files(startpath):\n",
    "    for root, dirs, files in os.walk(startpath):\n",
    "        level = root.replace(startpath, '').count(os.sep)\n",
    "        indent = ' ' * 4 * (level)\n",
    "        print('{}{}/'.format(indent, os.path.basename(root)))\n",
    "        subindent = ' ' * 4 * (level + 1)\n",
    "        for f in files:\n",
    "            print('{}{}'.format(subindent, f))\n",
    "            \n",
    "# currentDirectory = os.getcwd() # For working on own system\n",
    "currentDirectory = path # For working on Google Colab\n",
    "\n",
    "list_files(os.path.join(currentDirectory, 'TransferLearning_models'))"
   ]
  },
  {
   "cell_type": "markdown",
   "metadata": {
    "colab_type": "text",
    "id": "TTP6d4y_C1mI"
   },
   "source": [
    "# The code to train the models"
   ]
  },
  {
   "cell_type": "markdown",
   "metadata": {
    "colab_type": "text",
    "id": "XzVQikoTC1mJ"
   },
   "source": [
    "# 1. Importing Libraries "
   ]
  },
  {
   "cell_type": "code",
   "execution_count": 0,
   "metadata": {
    "colab": {},
    "colab_type": "code",
    "id": "I7-ga6Y7RrIm"
   },
   "outputs": [],
   "source": [
    "import torch\n",
    "import torch.nn as nn\n",
    "import torchvision\n",
    "import torchvision.transforms as transforms\n",
    "from torchvision import models\n",
    "import numpy as np\n",
    "import matplotlib.pyplot as plt\n",
    "import os\n",
    "import cv2\n",
    "import random\n",
    "import PIL\n",
    "import seaborn as sns\n",
    "import sklearn.metrics\n",
    "import pickle\n",
    "import warnings\n",
    "warnings.filterwarnings(\"ignore\")"
   ]
  },
  {
   "cell_type": "markdown",
   "metadata": {
    "colab_type": "text",
    "id": "FTbVNXURC1mN"
   },
   "source": [
    "## 1.1 PyTorch Version and checking if GPU is active"
   ]
  },
  {
   "cell_type": "code",
   "execution_count": 69,
   "metadata": {
    "colab": {
     "base_uri": "https://localhost:8080/",
     "height": 102
    },
    "colab_type": "code",
    "id": "xWK4vbCdRrIt",
    "outputId": "80626f8d-d279-47fc-b3af-c190c850792a"
   },
   "outputs": [
    {
     "name": "stdout",
     "output_type": "stream",
     "text": [
      "tensor([[-1.5088e-38,  0.0000e+00,  4.4842e-44],\n",
      "        [ 0.0000e+00,         nan,  1.2886e-39],\n",
      "        [ 2.6964e+23,  2.6823e+23,  1.6782e-07],\n",
      "        [ 3.2876e+21,  8.1719e+20,  6.8693e-07],\n",
      "        [ 2.6847e+23,  2.0777e+20,  9.8170e-27]], device='cuda:0')\n"
     ]
    }
   ],
   "source": [
    "# Checking if running on GPU or CPU \n",
    "\n",
    "# torch.cuda.set_device(1)\n",
    "x=torch.Tensor(5,3)\n",
    "print(x.cuda())"
   ]
  },
  {
   "cell_type": "code",
   "execution_count": 70,
   "metadata": {
    "colab": {
     "base_uri": "https://localhost:8080/",
     "height": 102
    },
    "colab_type": "code",
    "id": "nvGW-XcRDyz7",
    "outputId": "bdfc8ea8-7e5d-491e-b0a3-fcbeaaf88f61"
   },
   "outputs": [
    {
     "data": {
      "text/plain": [
       "tensor([[-1.5088e-38,  0.0000e+00,  4.4842e-44],\n",
       "        [ 0.0000e+00,         nan,  1.2886e-39],\n",
       "        [ 2.6964e+23,  2.6823e+23,  1.6782e-07],\n",
       "        [ 3.2876e+21,  8.1719e+20,  6.8693e-07],\n",
       "        [ 2.6847e+23,  2.0777e+20,  9.8170e-27]])"
      ]
     },
     "execution_count": 70,
     "metadata": {
      "tags": []
     },
     "output_type": "execute_result"
    }
   ],
   "source": [
    "x.cpu()"
   ]
  },
  {
   "cell_type": "code",
   "execution_count": 71,
   "metadata": {
    "colab": {
     "base_uri": "https://localhost:8080/",
     "height": 34
    },
    "colab_type": "code",
    "id": "Iyh50YKkRrIx",
    "outputId": "2786883f-c4b7-4e8b-a69d-632dc33ae6b4"
   },
   "outputs": [
    {
     "name": "stdout",
     "output_type": "stream",
     "text": [
      "1.1.0\n"
     ]
    }
   ],
   "source": [
    "print(torch.__version__)"
   ]
  },
  {
   "cell_type": "markdown",
   "metadata": {
    "colab_type": "text",
    "id": "H0H87qXhC1me"
   },
   "source": [
    "# 2.  Setting up the Cifar 10 Dataset"
   ]
  },
  {
   "cell_type": "markdown",
   "metadata": {
    "colab_type": "text",
    "id": "jglafLXkC1mf"
   },
   "source": [
    "## 2.1 Data Augmentation"
   ]
  },
  {
   "cell_type": "code",
   "execution_count": 0,
   "metadata": {
    "colab": {},
    "colab_type": "code",
    "id": "mfxvBBcrRrI2"
   },
   "outputs": [],
   "source": [
    "# Set to False if you don't want to augment the data\n",
    "data_aug = True "
   ]
  },
  {
   "cell_type": "code",
   "execution_count": 0,
   "metadata": {
    "colab": {},
    "colab_type": "code",
    "id": "SSxRf1UqRrI5"
   },
   "outputs": [],
   "source": [
    "data_aug_transforms = []\n",
    "\n",
    "if data_aug == True:\n",
    "\n",
    "    data_aug_transforms = [\n",
    "        transforms.RandomCrop((32,32), padding=4),\n",
    "#         transforms.RandomHorizontalFlip(),\n",
    "#         transforms.RandomRotation(15),\n",
    "#         transforms.RandomAffine(degrees=0, translate=(.3,.7)),\n",
    "#         transforms.ColorJitter(\n",
    "#                 brightness=float(0.1*np.random.rand(1)),\n",
    "#                 contrast=float(0.1*np.random.rand(1)),\n",
    "#                 saturation=float(0.1*np.random.rand(1)),\n",
    "#                 hue=float(0.1*np.random.rand(1))),\n",
    "#         \n",
    "#         transforms.Resize((224,224)),\n",
    "        transforms.ColorJitter(hue=.25, saturation=.25),\n",
    "        transforms.RandomHorizontalFlip(),\n",
    "        transforms.RandomRotation(20, resample=PIL.Image.BILINEAR),\n",
    "        transforms.RandomGrayscale(p=0.1)\n",
    "                    ]"
   ]
  },
  {
   "cell_type": "code",
   "execution_count": 0,
   "metadata": {
    "colab": {},
    "colab_type": "code",
    "id": "XmJHfouURrI8"
   },
   "outputs": [],
   "source": [
    "norm_transform = transforms.Compose(data_aug_transforms+[transforms.ToTensor(),\n",
    "                                     transforms.Normalize((0.4914, 0.4822, 0.4465), (0.2023, 0.1994, 0.2010))\n",
    "                                     ])\n",
    "test_transform = transforms.Compose([transforms.ToTensor(),\n",
    "                                     transforms.Normalize((0.4914, 0.4822, 0.4465), (0.2023, 0.1994, 0.2010))\n",
    "                                     ])"
   ]
  },
  {
   "cell_type": "markdown",
   "metadata": {
    "colab_type": "text",
    "id": "83opga0HC1mo"
   },
   "source": [
    "## 2.2 Loading the Cifar 10 Dataset using Pytorch"
   ]
  },
  {
   "cell_type": "code",
   "execution_count": 0,
   "metadata": {
    "colab": {},
    "colab_type": "code",
    "id": "J7D9C1SPRrJA"
   },
   "outputs": [],
   "source": [
    "cifar_dataset = torchvision.datasets.CIFAR10(root=path+'dataset/',\n",
    "                                           train=True,\n",
    "                                           transform=norm_transform,\n",
    "                                           download=False)\n",
    "\n",
    "test_dataset = torchvision.datasets.CIFAR10(root=path+'dataset/',\n",
    "                                          train=False,\n",
    "                                          transform=test_transform)"
   ]
  },
  {
   "cell_type": "markdown",
   "metadata": {
    "colab_type": "text",
    "id": "5CX6SX7nC1ms"
   },
   "source": [
    "# 3. Defining the models"
   ]
  },
  {
   "cell_type": "markdown",
   "metadata": {
    "colab_type": "text",
    "id": "pXHP3q1UC1mt"
   },
   "source": [
    "## 3.1 VGG 19 with Batch Normalization model"
   ]
  },
  {
   "cell_type": "code",
   "execution_count": 0,
   "metadata": {
    "colab": {},
    "colab_type": "code",
    "id": "MhB0KQ2DRrJd"
   },
   "outputs": [],
   "source": [
    "class VggModel(nn.Module):\n",
    "    def __init__(self, n_class, fine_tune, pretrained=True):\n",
    "        super(VggModel, self).__init__()\n",
    "        \n",
    "        #load the pretrained model\n",
    "        vgg11_bn = models.vgg19_bn(pretrained=pretrained)\n",
    "        self.model = nn.Sequential()\n",
    "        self.model.features = vgg11_bn.features\n",
    "        set_parameter_requires_grad(self.model, fine_tune)\n",
    "\n",
    "        #adding 2 linear layers\n",
    "        self.model.classifier = nn.Sequential(\n",
    "                    nn.Linear(in_features= 512, out_features=256, bias=True),\n",
    "                    nn.BatchNorm1d(256),\n",
    "                    nn.ReLU(),\n",
    "                    nn.Linear(in_features=256, out_features=n_class, bias=True)\n",
    "                        )\n",
    "\n",
    "    def forward(self, x):\n",
    "\n",
    "        x = self.model.features(x)\n",
    "        x = x.squeeze()\n",
    "        out = self.model.classifier(x)\n",
    "\n",
    "        return out"
   ]
  },
  {
   "cell_type": "markdown",
   "metadata": {
    "colab_type": "text",
    "id": "NeJ1GCIZC1mz"
   },
   "source": [
    "## 3.2 Interpolation and Alex Net Model"
   ]
  },
  {
   "cell_type": "code",
   "execution_count": 0,
   "metadata": {
    "colab": {},
    "colab_type": "code",
    "id": "OyJCXWWPYv05"
   },
   "outputs": [],
   "source": [
    "class Interpolate(nn.Module):\n",
    "    def __init__(self, size, mode):\n",
    "        super(Interpolate, self).__init__()\n",
    "        self.interp = nn.functional.interpolate\n",
    "        self.size = size\n",
    "        self.mode = mode\n",
    "        \n",
    "    def forward(self, x):\n",
    "        x = self.interp(x, size=self.size, mode=self.mode, align_corners=False)\n",
    "        return x"
   ]
  },
  {
   "cell_type": "code",
   "execution_count": 0,
   "metadata": {
    "colab": {},
    "colab_type": "code",
    "id": "c3jOeBfJRrJj"
   },
   "outputs": [],
   "source": [
    "class AlexModel(nn.Module):\n",
    "    def __init__(self, n_class, fine_tune, pretrained=True):\n",
    "        super(AlexModel, self).__init__()\n",
    "        \n",
    "        self.input = Interpolate((227,227),'bilinear')\n",
    "        #load the pretrained model\n",
    "        alexNet = models.alexnet(pretrained=pretrained)\n",
    "        self.model = nn.Sequential()\n",
    "        self.model.features = alexNet.features\n",
    "        self.avgpool = alexNet.avgpool\n",
    "        set_parameter_requires_grad(self.model, fine_tune)\n",
    "\n",
    "        #adding 3 linear layers\n",
    "        self.model.classifier = nn.Sequential(\n",
    "            nn.Dropout(),\n",
    "            nn.Linear(256 * 6 * 6, 512),\n",
    "            nn.ReLU(inplace=True),\n",
    "            nn.Dropout(),\n",
    "            nn.Linear(512, 256),\n",
    "            nn.ReLU(inplace=True),\n",
    "            nn.Linear(256, n_class))\n",
    "            \n",
    "            \n",
    "    def forward(self, x):\n",
    "        x = self.input(x)\n",
    "        x = self.model.features(x)\n",
    "        x = self.avgpool(x)\n",
    "        x = x.view(x.size(0), 256 * 6 * 6)\n",
    "        out = self.model.classifier(x)\n",
    "\n",
    "        return out"
   ]
  },
  {
   "cell_type": "markdown",
   "metadata": {
    "colab_type": "text",
    "id": "SEFpIf9FC1m7"
   },
   "source": [
    "## 3.3 Resnet 34 model\n",
    "Also uses the previously defined Interpolate Class"
   ]
  },
  {
   "cell_type": "code",
   "execution_count": 0,
   "metadata": {
    "colab": {},
    "colab_type": "code",
    "id": "5PRKCXF_RrJo"
   },
   "outputs": [],
   "source": [
    "class ResNetModel(nn.Module):\n",
    "    def __init__(self, n_class, fine_tune, pretrained=True):\n",
    "        super(ResNetModel, self).__init__()\n",
    "        \n",
    "        self.input = Interpolate((224,224),'bilinear')\n",
    "        \n",
    "        #load the pretrained model\n",
    "        resnet = models.resnet34(pretrained=pretrained)\n",
    "        # delete the last fc layer.\n",
    "        modules = list(resnet.children())[:-1]      \n",
    "        self.model = nn.Sequential() \n",
    "        self.model.features = nn.Sequential(*modules)\n",
    "        set_parameter_requires_grad(self.model, fine_tune)\n",
    "\n",
    "        #adding 2 linear layers\n",
    "        self.model.classifier = nn.Sequential(\n",
    "                    nn.Dropout(),\n",
    "                    nn.Linear(512*1, 512, bias=True),\n",
    "                    nn.Dropout(),\n",
    "                    nn.ReLU(),\n",
    "                    nn.Linear(in_features= 512, out_features=n_class, bias=True)\n",
    "                        )\n",
    "\n",
    "    def forward(self, x):\n",
    "      \n",
    "        x = self.input(x)\n",
    "        x = self.model.features(x)\n",
    "        x = x.view(x.size(0), -1)\n",
    "        out = self.model.classifier(x)\n",
    "\n",
    "        return out"
   ]
  },
  {
   "cell_type": "markdown",
   "metadata": {
    "colab_type": "text",
    "id": "_iEcDWj1C1m_"
   },
   "source": [
    "## 3.4 GoogLeNet model\n",
    "Also uses the previously defined Interpolate Class"
   ]
  },
  {
   "cell_type": "code",
   "execution_count": 0,
   "metadata": {
    "colab": {},
    "colab_type": "code",
    "id": "xQJ5ZNFfUUu2"
   },
   "outputs": [],
   "source": [
    "class GoogLeNetModel(nn.Module):\n",
    "    def __init__(self, n_class, fine_tune, pretrained=True):\n",
    "        super(GoogLeNetModel, self).__init__()\n",
    "        \n",
    "        self.input = Interpolate((224,224),'bilinear')\n",
    "          \n",
    "        #load the pretrained model\n",
    "        googleNet = models.googlenet(pretrained=pretrained)\n",
    "        # delete the last fc layer.\n",
    "        modules = list(googleNet.children())[:-1]      \n",
    "        self.model = nn.Sequential() \n",
    "        self.model.features = nn.Sequential(*modules)\n",
    "        set_parameter_requires_grad(self.model, fine_tune)\n",
    "\n",
    "        #adding 2 linear layers\n",
    "        self.model.classifier = nn.Sequential(\n",
    "                    nn.Dropout(),\n",
    "                    nn.Linear(in_features=1024, out_features=512, bias=True),\n",
    "                    nn.Dropout(),\n",
    "                    nn.ReLU(),\n",
    "                    nn.Linear(in_features=512, out_features=n_class, bias=True)\n",
    "                        )\n",
    "\n",
    "    def forward(self, x):\n",
    "      \n",
    "        x = self.input(x)\n",
    "        x_ch0 = torch.unsqueeze(x[:, 0], 1) * (0.229 / 0.5) + (0.485 - 0.5) / 0.5\n",
    "        x_ch1 = torch.unsqueeze(x[:, 1], 1) * (0.224 / 0.5) + (0.456 - 0.5) / 0.5\n",
    "        x_ch2 = torch.unsqueeze(x[:, 2], 1) * (0.225 / 0.5) + (0.406 - 0.5) / 0.5\n",
    "        x = torch.cat((x_ch0, x_ch1, x_ch2), 1)\n",
    "        \n",
    "        x = self.model.features(x)\n",
    "        \n",
    "        x = x.view(x.size(0), -1)\n",
    "        out = self.model.classifier(x)\n",
    "\n",
    "        return out"
   ]
  },
  {
   "cell_type": "markdown",
   "metadata": {
    "colab_type": "text",
    "id": "bLnCzZ7DC1nF"
   },
   "source": [
    "## 3.5 Inception v3 model\n",
    "Also uses the previously defined Interpolate Class"
   ]
  },
  {
   "cell_type": "code",
   "execution_count": 0,
   "metadata": {
    "colab": {},
    "colab_type": "code",
    "id": "yQQaeP9hRrJs"
   },
   "outputs": [],
   "source": [
    "class InceptionModel(nn.Module):\n",
    "    def __init__(self, n_class, fine_tune, pretrained=True):\n",
    "        super(InceptionModel, self).__init__()\n",
    "        \n",
    "        self.input = Interpolate((299,299),'bilinear')\n",
    "        \n",
    "        #load the pretrained model\n",
    "        inceptionNet = models.inception_v3(pretrained=pretrained)\n",
    "        # delete the last fc layer.\n",
    "        modules = list(inceptionNet.children())[:-1]      \n",
    "        self.model = nn.Sequential() \n",
    "        self.model.features = nn.Sequential(*modules)\n",
    "        set_parameter_requires_grad(self.model, fine_tune)\n",
    "\n",
    "        #adding 2 linear layers\n",
    "        self.model.classifier = nn.Sequential(\n",
    "                    nn.Dropout(),\n",
    "                    nn.Linear(in_features=2048, out_features=512, bias=True),\n",
    "                    nn.Dropout(),\n",
    "                    nn.ReLU(),\n",
    "                    nn.Linear(in_features=512, out_features=n_class, bias=True)\n",
    "                        )\n",
    "\n",
    "    def forward(self, x):\n",
    "      \n",
    "        x = self.input(x)\n",
    "        x_ch0 = torch.unsqueeze(x[:, 0], 1) * (0.229 / 0.5) + (0.485 - 0.5) / 0.5\n",
    "        x_ch1 = torch.unsqueeze(x[:, 1], 1) * (0.224 / 0.5) + (0.456 - 0.5) / 0.5\n",
    "        x_ch2 = torch.unsqueeze(x[:, 2], 1) * (0.225 / 0.5) + (0.406 - 0.5) / 0.5\n",
    "        x = torch.cat((x_ch0, x_ch1, x_ch2), 1)\n",
    "        \n",
    "        x = self.model.features(x)\n",
    "        \n",
    "        x = x.view(x.size(0), -1)\n",
    "        out = self.model.classifier(x)\n",
    "\n",
    "        return out"
   ]
  },
  {
   "cell_type": "markdown",
   "metadata": {
    "colab_type": "text",
    "id": "4st78-7dC1nI"
   },
   "source": [
    "## 3.6 Initialize weights of model and update the learning rate"
   ]
  },
  {
   "cell_type": "code",
   "execution_count": 0,
   "metadata": {
    "colab": {},
    "colab_type": "code",
    "id": "0AP3I_DnRrJN"
   },
   "outputs": [],
   "source": [
    "def weights_init(m):\n",
    "    if type(m) == nn.Linear:\n",
    "        nn.init.normal_(m.weight.data, mean=0.0, std=1e-3)\n",
    "        m.bias.data.fill_(0.0)\n",
    "\n",
    "def update_lr(optimizer, lr):\n",
    "    for param_group in optimizer.param_groups:\n",
    "        param_group['lr'] = lr"
   ]
  },
  {
   "cell_type": "markdown",
   "metadata": {
    "colab_type": "text",
    "id": "6HjItcZxC1nL"
   },
   "source": [
    "## 3.7 Turning off the gradient computation for the Conv Layers and printing the number of trainable parameters in the model"
   ]
  },
  {
   "cell_type": "code",
   "execution_count": 0,
   "metadata": {
    "colab": {},
    "colab_type": "code",
    "id": "WIBICmc3RrJa"
   },
   "outputs": [],
   "source": [
    "def set_parameter_requires_grad(model, feature_extracting):\n",
    "    if feature_extracting:\n",
    "        for param in model.parameters():\n",
    "            param.requires_grad = False"
   ]
  },
  {
   "cell_type": "code",
   "execution_count": 0,
   "metadata": {
    "colab": {},
    "colab_type": "code",
    "id": "Px6BWxkwRrJx"
   },
   "outputs": [],
   "source": [
    "def PrintModelSize(model, disp=True):\n",
    "    model_sz = sum(p.numel() for p in model.parameters() if p.requires_grad)\n",
    "    print(\"Number of trainable parameters = \",model_sz)\n",
    "    return model_sz"
   ]
  },
  {
   "cell_type": "markdown",
   "metadata": {
    "colab_type": "text",
    "id": "C_fgnB9DC1nQ"
   },
   "source": [
    "# 4. Training the models "
   ]
  },
  {
   "cell_type": "markdown",
   "metadata": {
    "colab_type": "text",
    "id": "swCxIrKcC1nR"
   },
   "source": [
    "## 4.1 Setting random seeds for reproducibility of results"
   ]
  },
  {
   "cell_type": "code",
   "execution_count": 0,
   "metadata": {
    "colab": {},
    "colab_type": "code",
    "id": "OShM5ojPRrJH"
   },
   "outputs": [],
   "source": [
    "n = 2\n",
    "def setSeeds(n):\n",
    "  np.random.seed(n)\n",
    "  torch.cuda.manual_seed_all(n)\n",
    "  torch.manual_seed(n)\n",
    "  \n",
    "setSeeds(n)"
   ]
  },
  {
   "cell_type": "markdown",
   "metadata": {
    "colab_type": "text",
    "id": "xTArQuwtC1nV"
   },
   "source": [
    "## 4.2 Loading the dataset and checking the active device "
   ]
  },
  {
   "cell_type": "code",
   "execution_count": 0,
   "metadata": {
    "colab": {},
    "colab_type": "code",
    "id": "raftU1YrRrJX"
   },
   "outputs": [],
   "source": [
    "batch_size = 200\n",
    "num_training= 49000\n",
    "num_validation =1000\n",
    "mask = list(range(num_training))\n",
    "train_dataset = torch.utils.data.Subset(cifar_dataset, mask)\n",
    "mask = list(range(num_training, num_training + num_validation))\n",
    "val_dataset = torch.utils.data.Subset(cifar_dataset, mask)\n",
    "\n",
    "train_loader = torch.utils.data.DataLoader(dataset=train_dataset,\n",
    "                                           batch_size=batch_size,\n",
    "                                           shuffle=True)\n",
    "\n",
    "val_loader = torch.utils.data.DataLoader(dataset=val_dataset,\n",
    "                                           batch_size=batch_size,\n",
    "                                           shuffle=False)\n",
    "\n",
    "test_loader = torch.utils.data.DataLoader(dataset=test_dataset,\n",
    "                                          batch_size=batch_size,\n",
    "                                          shuffle=False)"
   ]
  },
  {
   "cell_type": "code",
   "execution_count": 87,
   "metadata": {
    "colab": {
     "base_uri": "https://localhost:8080/",
     "height": 34
    },
    "colab_type": "code",
    "id": "-RT0xBF8RrJQ",
    "outputId": "52e2f6f1-8ddf-429e-ecd8-7303efec261b"
   },
   "outputs": [
    {
     "name": "stdout",
     "output_type": "stream",
     "text": [
      "Using device: cuda\n"
     ]
    }
   ],
   "source": [
    "device = torch.device('cuda' if torch.cuda.is_available() else 'cpu')\n",
    "print('Using device: %s'%device)"
   ]
  },
  {
   "cell_type": "markdown",
   "metadata": {
    "colab_type": "text",
    "id": "aWkCGyVTC1nc"
   },
   "source": [
    "## 4.3 Training the model \n",
    "\n",
    "1. The below functions trains the model and saves the model after each epoch if the validation accuracy increases.\n",
    "2. In the end, the model with the highest validation accuracy is loaded and tested on the test set"
   ]
  },
  {
   "cell_type": "code",
   "execution_count": 0,
   "metadata": {
    "colab": {},
    "colab_type": "code",
    "id": "ulp4iNQIRrJ3"
   },
   "outputs": [],
   "source": [
    "def trainAndTest(modelClass, num_classes, fine_tune, pretrained, nameOfModel):\n",
    "    \n",
    "    # Initialize the model for this run\n",
    "    model= modelClass(num_classes, fine_tune, pretrained)\n",
    "    model.apply(weights_init)\n",
    "    \n",
    "    # Print the model we just instantiated\n",
    "    print(model)\n",
    "\n",
    "    print(\"Params to learn:\")\n",
    "    if fine_tune:\n",
    "        params_to_update = []\n",
    "\n",
    "        for name,param in model.named_parameters():\n",
    "            if param.requires_grad == True:\n",
    "                params_to_update.append(param)\n",
    "                print(\"\\t\",name)\n",
    "\n",
    "    else:\n",
    "        params_to_update = model.parameters()\n",
    "        for name,param in model.named_parameters():\n",
    "            if param.requires_grad == True:\n",
    "                print(\"\\t\",name)\n",
    "\n",
    "    model.to(device)\n",
    "\n",
    "    # Loss and optimizer\n",
    "    criterion = nn.CrossEntropyLoss()\n",
    "    optimizer = torch.optim.Adam(params_to_update, lr=learning_rate, weight_decay=reg)\n",
    "\n",
    "    # Train the model\n",
    "    lr = learning_rate\n",
    "    Loss = []                           #to save all the model losses\n",
    "    valAcc = []\n",
    "    total_step = len(train_loader)\n",
    "    for epoch in range(num_epochs):\n",
    "        for i, (images, labels) in enumerate(train_loader):\n",
    "            # Move tensors to the configured device\n",
    "            images = images.to(device)\n",
    "            labels = labels.to(device)\n",
    "            \n",
    "\n",
    "            # Forward pass\n",
    "            outputs = model(images)\n",
    "                \n",
    "            loss = criterion(outputs, labels)\n",
    "\n",
    "            # Backward and optimize\n",
    "            optimizer.zero_grad()\n",
    "            loss.backward()\n",
    "            optimizer.step()\n",
    "\n",
    "            if (i+1) % 100 == 0:\n",
    "                print ('Epoch [{}/{}], Step [{}/{}], Loss: {:.4f}'\n",
    "                       .format(epoch+1, num_epochs, i+1, total_step, loss.item()))\n",
    "\n",
    "            Loss.append(loss)               #save the loss so we can get accuracies later\n",
    "        # Code to update the lr\n",
    "        lr *= learning_rate_decay\n",
    "        update_lr(optimizer, lr)\n",
    "        with torch.no_grad():\n",
    "            correct = 0\n",
    "            total = 0\n",
    "            for images, labels in val_loader:\n",
    "                images = images.to(device)\n",
    "                labels = labels.to(device)\n",
    "                outputs = model(images)\n",
    "                _, predicted = torch.max(outputs.data, 1)\n",
    "                total += labels.size(0)\n",
    "                correct += (predicted == labels).sum().item()\n",
    "\n",
    "            current_valAcc = 100 * correct / total\n",
    "            valAcc.append(current_valAcc)\n",
    "            if current_valAcc >= np.amax(valAcc):\n",
    "                torch.save(model.state_dict(),path+'TransferLearning_models/model'+str(epoch+1)+'.ckpt')\n",
    "\n",
    "            print('Validataion accuracy is: {} %'.format(100 * correct / total))\n",
    "\n",
    "    last_model = model\n",
    "    last_model.eval()\n",
    "    \n",
    "    best_id = np.argmax(valAcc)\n",
    "    best_model = modelClass(num_classes, fine_tune, pretrained).to(device)\n",
    "    best_model.load_state_dict(torch.load(path+'TransferLearning_models/model'+str(best_id+1)+'.ckpt'))\n",
    "    best_model.eval()\n",
    "    \n",
    "    print('Testing ........................................')\n",
    "    # Test the model\n",
    "    with torch.no_grad():\n",
    "        correct = 0\n",
    "        total = 0\n",
    "        for images, labels in test_loader:\n",
    "            images = images.to(device)\n",
    "            labels = labels.to(device)\n",
    "            outputs = best_model(images)\n",
    "            _, predicted = torch.max(outputs.data, 1)\n",
    "            total += labels.size(0)\n",
    "            correct += (predicted == labels).sum().item()\n",
    "        \n",
    "        accBestNet = 100 * correct / total\n",
    "        print('Accuracy of the best network on the {} test images: {} %'.format(total, 100 * correct / total))\n",
    "        print(\"Best Epoch: \", best_id+1)\n",
    "\n",
    "    with torch.no_grad():\n",
    "        correct = 0\n",
    "        total = 0\n",
    "        for images, labels in test_loader:\n",
    "            images = images.to(device)\n",
    "            labels = labels.to(device)\n",
    "            outputs = last_model(images)\n",
    "            _, predicted = torch.max(outputs.data, 1)\n",
    "            total += labels.size(0)\n",
    "            correct += (predicted == labels).sum().item()\n",
    "\n",
    "        print('Accuracy of the last network on the {} test images: {} %'.format(total, 100 * correct / total))\n",
    "        \n",
    "    # Save the best model checkpoint\n",
    "    torch.save(best_model.state_dict(), path+'TransferLearning_models/'+nameOfModel+'.ckpt')\n",
    "\n",
    "\n",
    "    plt.plot(Loss, label = \"Loss\")\n",
    "    plt.xlabel(\"Iterations\")\n",
    "    plt.ylabel(\"Loss\")\n",
    "    plt.legend(loc=\"upper left\")\n",
    "    plt.show()\n",
    "\n",
    "    plt.plot(valAcc, label = \"Val Acc\")\n",
    "    plt.xlabel(\"Epochs\")\n",
    "    plt.ylabel(\"Validation Accuracy\")\n",
    "    plt.legend(loc=\"upper right\")\n",
    "    plt.show()\n",
    "    \n",
    "    return best_model, accBestNet"
   ]
  },
  {
   "cell_type": "markdown",
   "metadata": {
    "colab_type": "text",
    "id": "bma3rfySC1ne"
   },
   "source": [
    "## 4.4 Training the VGG Model"
   ]
  },
  {
   "cell_type": "code",
   "execution_count": 0,
   "metadata": {
    "colab": {
     "base_uri": "https://localhost:8080/",
     "height": 6023
    },
    "colab_type": "code",
    "id": "jN_6v1LRKRHr",
    "outputId": "39876cd4-740d-4454-b31f-95182d10dbfa",
    "scrolled": true
   },
   "outputs": [
    {
     "name": "stderr",
     "output_type": "stream",
     "text": [
      "Downloading: \"https://download.pytorch.org/models/vgg19_bn-c79401a0.pth\" to /root/.cache/torch/checkpoints/vgg19_bn-c79401a0.pth\n",
      "100%|██████████| 574769405/574769405 [00:09<00:00, 62226648.28it/s]\n"
     ]
    },
    {
     "name": "stdout",
     "output_type": "stream",
     "text": [
      "VggModel(\n",
      "  (model): Sequential(\n",
      "    (features): Sequential(\n",
      "      (0): Conv2d(3, 64, kernel_size=(3, 3), stride=(1, 1), padding=(1, 1))\n",
      "      (1): BatchNorm2d(64, eps=1e-05, momentum=0.1, affine=True, track_running_stats=True)\n",
      "      (2): ReLU(inplace)\n",
      "      (3): Conv2d(64, 64, kernel_size=(3, 3), stride=(1, 1), padding=(1, 1))\n",
      "      (4): BatchNorm2d(64, eps=1e-05, momentum=0.1, affine=True, track_running_stats=True)\n",
      "      (5): ReLU(inplace)\n",
      "      (6): MaxPool2d(kernel_size=2, stride=2, padding=0, dilation=1, ceil_mode=False)\n",
      "      (7): Conv2d(64, 128, kernel_size=(3, 3), stride=(1, 1), padding=(1, 1))\n",
      "      (8): BatchNorm2d(128, eps=1e-05, momentum=0.1, affine=True, track_running_stats=True)\n",
      "      (9): ReLU(inplace)\n",
      "      (10): Conv2d(128, 128, kernel_size=(3, 3), stride=(1, 1), padding=(1, 1))\n",
      "      (11): BatchNorm2d(128, eps=1e-05, momentum=0.1, affine=True, track_running_stats=True)\n",
      "      (12): ReLU(inplace)\n",
      "      (13): MaxPool2d(kernel_size=2, stride=2, padding=0, dilation=1, ceil_mode=False)\n",
      "      (14): Conv2d(128, 256, kernel_size=(3, 3), stride=(1, 1), padding=(1, 1))\n",
      "      (15): BatchNorm2d(256, eps=1e-05, momentum=0.1, affine=True, track_running_stats=True)\n",
      "      (16): ReLU(inplace)\n",
      "      (17): Conv2d(256, 256, kernel_size=(3, 3), stride=(1, 1), padding=(1, 1))\n",
      "      (18): BatchNorm2d(256, eps=1e-05, momentum=0.1, affine=True, track_running_stats=True)\n",
      "      (19): ReLU(inplace)\n",
      "      (20): Conv2d(256, 256, kernel_size=(3, 3), stride=(1, 1), padding=(1, 1))\n",
      "      (21): BatchNorm2d(256, eps=1e-05, momentum=0.1, affine=True, track_running_stats=True)\n",
      "      (22): ReLU(inplace)\n",
      "      (23): Conv2d(256, 256, kernel_size=(3, 3), stride=(1, 1), padding=(1, 1))\n",
      "      (24): BatchNorm2d(256, eps=1e-05, momentum=0.1, affine=True, track_running_stats=True)\n",
      "      (25): ReLU(inplace)\n",
      "      (26): MaxPool2d(kernel_size=2, stride=2, padding=0, dilation=1, ceil_mode=False)\n",
      "      (27): Conv2d(256, 512, kernel_size=(3, 3), stride=(1, 1), padding=(1, 1))\n",
      "      (28): BatchNorm2d(512, eps=1e-05, momentum=0.1, affine=True, track_running_stats=True)\n",
      "      (29): ReLU(inplace)\n",
      "      (30): Conv2d(512, 512, kernel_size=(3, 3), stride=(1, 1), padding=(1, 1))\n",
      "      (31): BatchNorm2d(512, eps=1e-05, momentum=0.1, affine=True, track_running_stats=True)\n",
      "      (32): ReLU(inplace)\n",
      "      (33): Conv2d(512, 512, kernel_size=(3, 3), stride=(1, 1), padding=(1, 1))\n",
      "      (34): BatchNorm2d(512, eps=1e-05, momentum=0.1, affine=True, track_running_stats=True)\n",
      "      (35): ReLU(inplace)\n",
      "      (36): Conv2d(512, 512, kernel_size=(3, 3), stride=(1, 1), padding=(1, 1))\n",
      "      (37): BatchNorm2d(512, eps=1e-05, momentum=0.1, affine=True, track_running_stats=True)\n",
      "      (38): ReLU(inplace)\n",
      "      (39): MaxPool2d(kernel_size=2, stride=2, padding=0, dilation=1, ceil_mode=False)\n",
      "      (40): Conv2d(512, 512, kernel_size=(3, 3), stride=(1, 1), padding=(1, 1))\n",
      "      (41): BatchNorm2d(512, eps=1e-05, momentum=0.1, affine=True, track_running_stats=True)\n",
      "      (42): ReLU(inplace)\n",
      "      (43): Conv2d(512, 512, kernel_size=(3, 3), stride=(1, 1), padding=(1, 1))\n",
      "      (44): BatchNorm2d(512, eps=1e-05, momentum=0.1, affine=True, track_running_stats=True)\n",
      "      (45): ReLU(inplace)\n",
      "      (46): Conv2d(512, 512, kernel_size=(3, 3), stride=(1, 1), padding=(1, 1))\n",
      "      (47): BatchNorm2d(512, eps=1e-05, momentum=0.1, affine=True, track_running_stats=True)\n",
      "      (48): ReLU(inplace)\n",
      "      (49): Conv2d(512, 512, kernel_size=(3, 3), stride=(1, 1), padding=(1, 1))\n",
      "      (50): BatchNorm2d(512, eps=1e-05, momentum=0.1, affine=True, track_running_stats=True)\n",
      "      (51): ReLU(inplace)\n",
      "      (52): MaxPool2d(kernel_size=2, stride=2, padding=0, dilation=1, ceil_mode=False)\n",
      "    )\n",
      "    (classifier): Sequential(\n",
      "      (0): Linear(in_features=512, out_features=256, bias=True)\n",
      "      (1): BatchNorm1d(256, eps=1e-05, momentum=0.1, affine=True, track_running_stats=True)\n",
      "      (2): ReLU()\n",
      "      (3): Linear(in_features=256, out_features=10, bias=True)\n",
      "    )\n",
      "  )\n",
      ")\n",
      "Params to learn:\n",
      "\t model.features.0.weight\n",
      "\t model.features.0.bias\n",
      "\t model.features.1.weight\n",
      "\t model.features.1.bias\n",
      "\t model.features.3.weight\n",
      "\t model.features.3.bias\n",
      "\t model.features.4.weight\n",
      "\t model.features.4.bias\n",
      "\t model.features.7.weight\n",
      "\t model.features.7.bias\n",
      "\t model.features.8.weight\n",
      "\t model.features.8.bias\n",
      "\t model.features.10.weight\n",
      "\t model.features.10.bias\n",
      "\t model.features.11.weight\n",
      "\t model.features.11.bias\n",
      "\t model.features.14.weight\n",
      "\t model.features.14.bias\n",
      "\t model.features.15.weight\n",
      "\t model.features.15.bias\n",
      "\t model.features.17.weight\n",
      "\t model.features.17.bias\n",
      "\t model.features.18.weight\n",
      "\t model.features.18.bias\n",
      "\t model.features.20.weight\n",
      "\t model.features.20.bias\n",
      "\t model.features.21.weight\n",
      "\t model.features.21.bias\n",
      "\t model.features.23.weight\n",
      "\t model.features.23.bias\n",
      "\t model.features.24.weight\n",
      "\t model.features.24.bias\n",
      "\t model.features.27.weight\n",
      "\t model.features.27.bias\n",
      "\t model.features.28.weight\n",
      "\t model.features.28.bias\n",
      "\t model.features.30.weight\n",
      "\t model.features.30.bias\n",
      "\t model.features.31.weight\n",
      "\t model.features.31.bias\n",
      "\t model.features.33.weight\n",
      "\t model.features.33.bias\n",
      "\t model.features.34.weight\n",
      "\t model.features.34.bias\n",
      "\t model.features.36.weight\n",
      "\t model.features.36.bias\n",
      "\t model.features.37.weight\n",
      "\t model.features.37.bias\n",
      "\t model.features.40.weight\n",
      "\t model.features.40.bias\n",
      "\t model.features.41.weight\n",
      "\t model.features.41.bias\n",
      "\t model.features.43.weight\n",
      "\t model.features.43.bias\n",
      "\t model.features.44.weight\n",
      "\t model.features.44.bias\n",
      "\t model.features.46.weight\n",
      "\t model.features.46.bias\n",
      "\t model.features.47.weight\n",
      "\t model.features.47.bias\n",
      "\t model.features.49.weight\n",
      "\t model.features.49.bias\n",
      "\t model.features.50.weight\n",
      "\t model.features.50.bias\n",
      "\t model.classifier.0.weight\n",
      "\t model.classifier.0.bias\n",
      "\t model.classifier.1.weight\n",
      "\t model.classifier.1.bias\n",
      "\t model.classifier.3.weight\n",
      "\t model.classifier.3.bias\n",
      "Epoch [1/60], Step [100/245], Loss: 1.2645\n",
      "Epoch [1/60], Step [200/245], Loss: 0.9289\n",
      "Validataion accuracy is: 74.9 %\n",
      "Epoch [2/60], Step [100/245], Loss: 0.7383\n",
      "Epoch [2/60], Step [200/245], Loss: 0.6395\n",
      "Validataion accuracy is: 78.5 %\n",
      "Epoch [3/60], Step [100/245], Loss: 0.5645\n",
      "Epoch [3/60], Step [200/245], Loss: 0.6068\n",
      "Validataion accuracy is: 81.2 %\n",
      "Epoch [4/60], Step [100/245], Loss: 0.5126\n",
      "Epoch [4/60], Step [200/245], Loss: 0.5938\n",
      "Validataion accuracy is: 83.8 %\n",
      "Epoch [5/60], Step [100/245], Loss: 0.4214\n",
      "Epoch [5/60], Step [200/245], Loss: 0.4375\n",
      "Validataion accuracy is: 82.6 %\n",
      "Epoch [6/60], Step [100/245], Loss: 0.3924\n",
      "Epoch [6/60], Step [200/245], Loss: 0.3460\n",
      "Validataion accuracy is: 81.6 %\n",
      "Epoch [7/60], Step [100/245], Loss: 0.3345\n",
      "Epoch [7/60], Step [200/245], Loss: 0.3649\n",
      "Validataion accuracy is: 86.1 %\n",
      "Epoch [8/60], Step [100/245], Loss: 0.3067\n",
      "Epoch [8/60], Step [200/245], Loss: 0.4100\n",
      "Validataion accuracy is: 83.7 %\n",
      "Epoch [9/60], Step [100/245], Loss: 0.2915\n",
      "Epoch [9/60], Step [200/245], Loss: 0.3231\n",
      "Validataion accuracy is: 84.9 %\n",
      "Epoch [10/60], Step [100/245], Loss: 0.3385\n",
      "Epoch [10/60], Step [200/245], Loss: 0.3124\n",
      "Validataion accuracy is: 85.7 %\n",
      "Epoch [11/60], Step [100/245], Loss: 0.2004\n",
      "Epoch [11/60], Step [200/245], Loss: 0.2789\n",
      "Validataion accuracy is: 87.2 %\n",
      "Epoch [12/60], Step [100/245], Loss: 0.2803\n",
      "Epoch [12/60], Step [200/245], Loss: 0.2662\n",
      "Validataion accuracy is: 87.0 %\n",
      "Epoch [13/60], Step [100/245], Loss: 0.2157\n",
      "Epoch [13/60], Step [200/245], Loss: 0.2606\n",
      "Validataion accuracy is: 87.0 %\n",
      "Epoch [14/60], Step [100/245], Loss: 0.2757\n",
      "Epoch [14/60], Step [200/245], Loss: 0.2305\n",
      "Validataion accuracy is: 86.5 %\n",
      "Epoch [15/60], Step [100/245], Loss: 0.2593\n",
      "Epoch [15/60], Step [200/245], Loss: 0.2315\n",
      "Validataion accuracy is: 88.2 %\n",
      "Epoch [16/60], Step [100/245], Loss: 0.2279\n",
      "Epoch [16/60], Step [200/245], Loss: 0.1859\n",
      "Validataion accuracy is: 86.6 %\n",
      "Epoch [17/60], Step [100/245], Loss: 0.2076\n",
      "Epoch [17/60], Step [200/245], Loss: 0.1800\n",
      "Validataion accuracy is: 85.6 %\n",
      "Epoch [18/60], Step [100/245], Loss: 0.2081\n",
      "Epoch [18/60], Step [200/245], Loss: 0.1884\n",
      "Validataion accuracy is: 89.1 %\n",
      "Epoch [19/60], Step [100/245], Loss: 0.2045\n",
      "Epoch [19/60], Step [200/245], Loss: 0.1487\n",
      "Validataion accuracy is: 87.1 %\n",
      "Epoch [20/60], Step [100/245], Loss: 0.2109\n",
      "Epoch [20/60], Step [200/245], Loss: 0.1884\n",
      "Validataion accuracy is: 87.6 %\n",
      "Epoch [21/60], Step [100/245], Loss: 0.1450\n",
      "Epoch [21/60], Step [200/245], Loss: 0.2326\n",
      "Validataion accuracy is: 86.5 %\n",
      "Epoch [22/60], Step [100/245], Loss: 0.1907\n",
      "Epoch [22/60], Step [200/245], Loss: 0.1931\n",
      "Validataion accuracy is: 86.8 %\n",
      "Epoch [23/60], Step [100/245], Loss: 0.1167\n",
      "Epoch [23/60], Step [200/245], Loss: 0.1466\n",
      "Validataion accuracy is: 87.6 %\n",
      "Epoch [24/60], Step [100/245], Loss: 0.2276\n",
      "Epoch [24/60], Step [200/245], Loss: 0.1266\n",
      "Validataion accuracy is: 86.5 %\n",
      "Epoch [25/60], Step [100/245], Loss: 0.1202\n",
      "Epoch [25/60], Step [200/245], Loss: 0.1572\n",
      "Validataion accuracy is: 87.8 %\n",
      "Epoch [26/60], Step [100/245], Loss: 0.1968\n",
      "Epoch [26/60], Step [200/245], Loss: 0.1600\n",
      "Validataion accuracy is: 88.4 %\n",
      "Epoch [27/60], Step [100/245], Loss: 0.1497\n",
      "Epoch [27/60], Step [200/245], Loss: 0.1629\n",
      "Validataion accuracy is: 88.5 %\n",
      "Epoch [28/60], Step [100/245], Loss: 0.1788\n",
      "Epoch [28/60], Step [200/245], Loss: 0.1279\n",
      "Validataion accuracy is: 87.5 %\n",
      "Epoch [29/60], Step [100/245], Loss: 0.1111\n",
      "Epoch [29/60], Step [200/245], Loss: 0.1686\n",
      "Validataion accuracy is: 88.5 %\n",
      "Epoch [30/60], Step [100/245], Loss: 0.1129\n",
      "Epoch [30/60], Step [200/245], Loss: 0.1643\n",
      "Validataion accuracy is: 88.1 %\n",
      "Epoch [31/60], Step [100/245], Loss: 0.1395\n",
      "Epoch [31/60], Step [200/245], Loss: 0.1071\n",
      "Validataion accuracy is: 86.7 %\n",
      "Epoch [32/60], Step [100/245], Loss: 0.1616\n",
      "Epoch [32/60], Step [200/245], Loss: 0.0650\n",
      "Validataion accuracy is: 88.1 %\n",
      "Epoch [33/60], Step [100/245], Loss: 0.1101\n",
      "Epoch [33/60], Step [200/245], Loss: 0.1053\n",
      "Validataion accuracy is: 89.7 %\n",
      "Epoch [34/60], Step [100/245], Loss: 0.1995\n",
      "Epoch [34/60], Step [200/245], Loss: 0.1688\n",
      "Validataion accuracy is: 87.3 %\n",
      "Epoch [35/60], Step [100/245], Loss: 0.0737\n",
      "Epoch [35/60], Step [200/245], Loss: 0.0721\n",
      "Validataion accuracy is: 86.9 %\n",
      "Epoch [36/60], Step [100/245], Loss: 0.1433\n",
      "Epoch [36/60], Step [200/245], Loss: 0.1545\n",
      "Validataion accuracy is: 86.4 %\n",
      "Epoch [37/60], Step [100/245], Loss: 0.1736\n",
      "Epoch [37/60], Step [200/245], Loss: 0.1467\n",
      "Validataion accuracy is: 86.3 %\n",
      "Epoch [38/60], Step [100/245], Loss: 0.1621\n",
      "Epoch [38/60], Step [200/245], Loss: 0.1240\n",
      "Validataion accuracy is: 88.2 %\n",
      "Epoch [39/60], Step [100/245], Loss: 0.1235\n",
      "Epoch [39/60], Step [200/245], Loss: 0.0886\n",
      "Validataion accuracy is: 88.2 %\n",
      "Epoch [40/60], Step [100/245], Loss: 0.0924\n",
      "Epoch [40/60], Step [200/245], Loss: 0.1101\n",
      "Validataion accuracy is: 88.8 %\n",
      "Epoch [41/60], Step [100/245], Loss: 0.1662\n",
      "Epoch [41/60], Step [200/245], Loss: 0.1018\n",
      "Validataion accuracy is: 88.1 %\n",
      "Epoch [42/60], Step [100/245], Loss: 0.0898\n",
      "Epoch [42/60], Step [200/245], Loss: 0.1934\n",
      "Validataion accuracy is: 87.0 %\n",
      "Epoch [43/60], Step [100/245], Loss: 0.0997\n",
      "Epoch [43/60], Step [200/245], Loss: 0.1205\n",
      "Validataion accuracy is: 87.6 %\n",
      "Epoch [44/60], Step [100/245], Loss: 0.1271\n",
      "Epoch [44/60], Step [200/245], Loss: 0.0904\n",
      "Validataion accuracy is: 88.7 %\n",
      "Epoch [45/60], Step [100/245], Loss: 0.0807\n",
      "Epoch [45/60], Step [200/245], Loss: 0.1410\n",
      "Validataion accuracy is: 88.7 %\n",
      "Epoch [46/60], Step [100/245], Loss: 0.0752\n",
      "Epoch [46/60], Step [200/245], Loss: 0.1058\n",
      "Validataion accuracy is: 87.1 %\n",
      "Epoch [47/60], Step [100/245], Loss: 0.1462\n",
      "Epoch [47/60], Step [200/245], Loss: 0.0883\n",
      "Validataion accuracy is: 88.7 %\n",
      "Epoch [48/60], Step [100/245], Loss: 0.2009\n",
      "Epoch [48/60], Step [200/245], Loss: 0.0838\n",
      "Validataion accuracy is: 88.0 %\n",
      "Epoch [49/60], Step [100/245], Loss: 0.1058\n",
      "Epoch [49/60], Step [200/245], Loss: 0.1459\n",
      "Validataion accuracy is: 87.8 %\n",
      "Epoch [50/60], Step [100/245], Loss: 0.1451\n",
      "Epoch [50/60], Step [200/245], Loss: 0.0971\n",
      "Validataion accuracy is: 88.2 %\n",
      "Epoch [51/60], Step [100/245], Loss: 0.0955\n",
      "Epoch [51/60], Step [200/245], Loss: 0.1116\n",
      "Validataion accuracy is: 88.7 %\n",
      "Epoch [52/60], Step [100/245], Loss: 0.1846\n",
      "Epoch [52/60], Step [200/245], Loss: 0.0764\n",
      "Validataion accuracy is: 88.2 %\n",
      "Epoch [53/60], Step [100/245], Loss: 0.0853\n",
      "Epoch [53/60], Step [200/245], Loss: 0.0883\n",
      "Validataion accuracy is: 88.4 %\n",
      "Epoch [54/60], Step [100/245], Loss: 0.1394\n",
      "Epoch [54/60], Step [200/245], Loss: 0.0927\n",
      "Validataion accuracy is: 87.1 %\n",
      "Epoch [55/60], Step [100/245], Loss: 0.1392\n",
      "Epoch [55/60], Step [200/245], Loss: 0.1262\n",
      "Validataion accuracy is: 87.4 %\n",
      "Epoch [56/60], Step [100/245], Loss: 0.1500\n",
      "Epoch [56/60], Step [200/245], Loss: 0.1187\n",
      "Validataion accuracy is: 87.2 %\n",
      "Epoch [57/60], Step [100/245], Loss: 0.1714\n",
      "Epoch [57/60], Step [200/245], Loss: 0.0956\n",
      "Validataion accuracy is: 88.5 %\n",
      "Epoch [58/60], Step [100/245], Loss: 0.1143\n",
      "Epoch [58/60], Step [200/245], Loss: 0.1494\n",
      "Validataion accuracy is: 87.8 %\n",
      "Epoch [59/60], Step [100/245], Loss: 0.1316\n",
      "Epoch [59/60], Step [200/245], Loss: 0.0803\n",
      "Validataion accuracy is: 88.7 %\n",
      "Epoch [60/60], Step [100/245], Loss: 0.1260\n",
      "Epoch [60/60], Step [200/245], Loss: 0.1508\n",
      "Validataion accuracy is: 87.7 %\n",
      "Testing ........................................\n",
      "Accuracy of the best network on the 10000 test images: 91.06 %\n",
      "Best Epoch:  33\n",
      "Accuracy of the last network on the 10000 test images: 91.11 %\n"
     ]
    },
    {
     "data": {
      "image/png": "[encoded data removed]",
      "text/plain": [
       "<Figure size 432x288 with 1 Axes>"
      ]
     },
     "metadata": {
      "tags": []
     },
     "output_type": "display_data"
    },
    {
     "data": {
      "image/png": "[encoded data removed]",
      "text/plain": [
       "<Figure size 432x288 with 1 Axes>"
      ]
     },
     "metadata": {
      "tags": []
     },
     "output_type": "display_data"
    }
   ],
   "source": [
    "setSeeds(2)\n",
    "input_size = 32 * 32 * 3\n",
    "layer_config= [512, 256]\n",
    "num_classes = 10\n",
    "num_epochs = 60\n",
    "batch_size = 600\n",
    "learning_rate = 1e-4\n",
    "learning_rate_decay = 0.9\n",
    "reg=0.001\n",
    "\n",
    "vgg, accVGG = trainAndTest(VggModel, num_classes, fine_tune=False, pretrained=True, nameOfModel='vggModel')"
   ]
  },
  {
   "cell_type": "markdown",
   "metadata": {
    "colab_type": "text",
    "id": "frgOWOmvC1nh"
   },
   "source": [
    "## 4.5 Training the Alex Net Model"
   ]
  },
  {
   "cell_type": "code",
   "execution_count": 0,
   "metadata": {
    "colab": {
     "base_uri": "https://localhost:8080/",
     "height": 4494
    },
    "colab_type": "code",
    "id": "vRfS5T3AKq1E",
    "outputId": "3c160767-3a17-448d-feeb-a68205150a18"
   },
   "outputs": [
    {
     "name": "stderr",
     "output_type": "stream",
     "text": [
      "Downloading: \"https://download.pytorch.org/models/alexnet-owt-4df8aa71.pth\" to /root/.cache/torch/checkpoints/alexnet-owt-4df8aa71.pth\n",
      "100%|██████████| 244418560/244418560 [00:02<00:00, 90077826.42it/s]\n"
     ]
    },
    {
     "name": "stdout",
     "output_type": "stream",
     "text": [
      "AlexModel(\n",
      "  (input): Interpolate()\n",
      "  (model): Sequential(\n",
      "    (features): Sequential(\n",
      "      (0): Conv2d(3, 64, kernel_size=(11, 11), stride=(4, 4), padding=(2, 2))\n",
      "      (1): ReLU(inplace)\n",
      "      (2): MaxPool2d(kernel_size=3, stride=2, padding=0, dilation=1, ceil_mode=False)\n",
      "      (3): Conv2d(64, 192, kernel_size=(5, 5), stride=(1, 1), padding=(2, 2))\n",
      "      (4): ReLU(inplace)\n",
      "      (5): MaxPool2d(kernel_size=3, stride=2, padding=0, dilation=1, ceil_mode=False)\n",
      "      (6): Conv2d(192, 384, kernel_size=(3, 3), stride=(1, 1), padding=(1, 1))\n",
      "      (7): ReLU(inplace)\n",
      "      (8): Conv2d(384, 256, kernel_size=(3, 3), stride=(1, 1), padding=(1, 1))\n",
      "      (9): ReLU(inplace)\n",
      "      (10): Conv2d(256, 256, kernel_size=(3, 3), stride=(1, 1), padding=(1, 1))\n",
      "      (11): ReLU(inplace)\n",
      "      (12): MaxPool2d(kernel_size=3, stride=2, padding=0, dilation=1, ceil_mode=False)\n",
      "    )\n",
      "    (classifier): Sequential(\n",
      "      (0): Dropout(p=0.5)\n",
      "      (1): Linear(in_features=9216, out_features=512, bias=True)\n",
      "      (2): ReLU(inplace)\n",
      "      (3): Dropout(p=0.5)\n",
      "      (4): Linear(in_features=512, out_features=256, bias=True)\n",
      "      (5): ReLU(inplace)\n",
      "      (6): Linear(in_features=256, out_features=10, bias=True)\n",
      "    )\n",
      "  )\n",
      "  (avgpool): AdaptiveAvgPool2d(output_size=(6, 6))\n",
      ")\n",
      "Params to learn:\n",
      "\t model.features.0.weight\n",
      "\t model.features.0.bias\n",
      "\t model.features.3.weight\n",
      "\t model.features.3.bias\n",
      "\t model.features.6.weight\n",
      "\t model.features.6.bias\n",
      "\t model.features.8.weight\n",
      "\t model.features.8.bias\n",
      "\t model.features.10.weight\n",
      "\t model.features.10.bias\n",
      "\t model.classifier.1.weight\n",
      "\t model.classifier.1.bias\n",
      "\t model.classifier.4.weight\n",
      "\t model.classifier.4.bias\n",
      "\t model.classifier.6.weight\n",
      "\t model.classifier.6.bias\n",
      "Epoch [1/60], Step [100/245], Loss: 1.0512\n",
      "Epoch [1/60], Step [200/245], Loss: 0.9021\n",
      "Validataion accuracy is: 67.4 %\n",
      "Epoch [2/60], Step [100/245], Loss: 0.8694\n",
      "Epoch [2/60], Step [200/245], Loss: 0.8112\n",
      "Validataion accuracy is: 71.0 %\n",
      "Epoch [3/60], Step [100/245], Loss: 0.7385\n",
      "Epoch [3/60], Step [200/245], Loss: 0.7854\n",
      "Validataion accuracy is: 76.0 %\n",
      "Epoch [4/60], Step [100/245], Loss: 0.7465\n",
      "Epoch [4/60], Step [200/245], Loss: 0.6675\n",
      "Validataion accuracy is: 77.0 %\n",
      "Epoch [5/60], Step [100/245], Loss: 0.6575\n",
      "Epoch [5/60], Step [200/245], Loss: 0.5407\n",
      "Validataion accuracy is: 79.6 %\n",
      "Epoch [6/60], Step [100/245], Loss: 0.6723\n",
      "Epoch [6/60], Step [200/245], Loss: 0.5421\n",
      "Validataion accuracy is: 80.4 %\n",
      "Epoch [7/60], Step [100/245], Loss: 0.5015\n",
      "Epoch [7/60], Step [200/245], Loss: 0.7018\n",
      "Validataion accuracy is: 80.7 %\n",
      "Epoch [8/60], Step [100/245], Loss: 0.6059\n",
      "Epoch [8/60], Step [200/245], Loss: 0.4337\n",
      "Validataion accuracy is: 79.7 %\n",
      "Epoch [9/60], Step [100/245], Loss: 0.4618\n",
      "Epoch [9/60], Step [200/245], Loss: 0.6216\n",
      "Validataion accuracy is: 81.0 %\n",
      "Epoch [10/60], Step [100/245], Loss: 0.3899\n",
      "Epoch [10/60], Step [200/245], Loss: 0.4867\n",
      "Validataion accuracy is: 79.2 %\n",
      "Epoch [11/60], Step [100/245], Loss: 0.5242\n",
      "Epoch [11/60], Step [200/245], Loss: 0.3780\n",
      "Validataion accuracy is: 83.1 %\n",
      "Epoch [12/60], Step [100/245], Loss: 0.4886\n",
      "Epoch [12/60], Step [200/245], Loss: 0.5001\n",
      "Validataion accuracy is: 83.1 %\n",
      "Epoch [13/60], Step [100/245], Loss: 0.5044\n",
      "Epoch [13/60], Step [200/245], Loss: 0.4230\n",
      "Validataion accuracy is: 81.7 %\n",
      "Epoch [14/60], Step [100/245], Loss: 0.4254\n",
      "Epoch [14/60], Step [200/245], Loss: 0.4643\n",
      "Validataion accuracy is: 82.9 %\n",
      "Epoch [15/60], Step [100/245], Loss: 0.5015\n",
      "Epoch [15/60], Step [200/245], Loss: 0.4412\n",
      "Validataion accuracy is: 82.0 %\n",
      "Epoch [16/60], Step [100/245], Loss: 0.4461\n",
      "Epoch [16/60], Step [200/245], Loss: 0.4167\n",
      "Validataion accuracy is: 83.3 %\n",
      "Epoch [17/60], Step [100/245], Loss: 0.4428\n",
      "Epoch [17/60], Step [200/245], Loss: 0.3825\n",
      "Validataion accuracy is: 84.2 %\n",
      "Epoch [18/60], Step [100/245], Loss: 0.3795\n",
      "Epoch [18/60], Step [200/245], Loss: 0.4532\n",
      "Validataion accuracy is: 84.0 %\n",
      "Epoch [19/60], Step [100/245], Loss: 0.3882\n",
      "Epoch [19/60], Step [200/245], Loss: 0.3868\n",
      "Validataion accuracy is: 83.3 %\n",
      "Epoch [20/60], Step [100/245], Loss: 0.4021\n",
      "Epoch [20/60], Step [200/245], Loss: 0.3677\n",
      "Validataion accuracy is: 82.9 %\n",
      "Epoch [21/60], Step [100/245], Loss: 0.4761\n",
      "Epoch [21/60], Step [200/245], Loss: 0.3424\n",
      "Validataion accuracy is: 84.9 %\n",
      "Epoch [22/60], Step [100/245], Loss: 0.4023\n",
      "Epoch [22/60], Step [200/245], Loss: 0.4130\n",
      "Validataion accuracy is: 84.3 %\n",
      "Epoch [23/60], Step [100/245], Loss: 0.4572\n",
      "Validataion accuracy is: 83.6 %\n",
      "Epoch [24/60], Step [100/245], Loss: 0.3725\n",
      "Epoch [24/60], Step [200/245], Loss: 0.4255\n",
      "Validataion accuracy is: 85.0 %\n",
      "Epoch [25/60], Step [100/245], Loss: 0.3501\n",
      "Epoch [25/60], Step [200/245], Loss: 0.3800\n",
      "Validataion accuracy is: 85.8 %\n",
      "Epoch [26/60], Step [100/245], Loss: 0.3894\n",
      "Epoch [26/60], Step [200/245], Loss: 0.4698\n",
      "Validataion accuracy is: 83.8 %\n",
      "Epoch [27/60], Step [100/245], Loss: 0.3888\n",
      "Epoch [27/60], Step [200/245], Loss: 0.3594\n",
      "Validataion accuracy is: 84.4 %\n",
      "Epoch [28/60], Step [100/245], Loss: 0.3215\n",
      "Epoch [28/60], Step [200/245], Loss: 0.3684\n",
      "Validataion accuracy is: 82.0 %\n",
      "Epoch [29/60], Step [100/245], Loss: 0.3163\n",
      "Epoch [29/60], Step [200/245], Loss: 0.3790\n",
      "Validataion accuracy is: 84.5 %\n",
      "Epoch [30/60], Step [100/245], Loss: 0.3792\n",
      "Epoch [30/60], Step [200/245], Loss: 0.4434\n",
      "Validataion accuracy is: 84.1 %\n",
      "Epoch [31/60], Step [100/245], Loss: 0.4251\n",
      "Epoch [31/60], Step [200/245], Loss: 0.3626\n",
      "Validataion accuracy is: 84.8 %\n",
      "Epoch [32/60], Step [100/245], Loss: 0.3134\n",
      "Epoch [32/60], Step [200/245], Loss: 0.3592\n",
      "Validataion accuracy is: 84.3 %\n",
      "Epoch [33/60], Step [100/245], Loss: 0.3147\n",
      "Epoch [33/60], Step [200/245], Loss: 0.4350\n",
      "Validataion accuracy is: 85.9 %\n",
      "Epoch [34/60], Step [100/245], Loss: 0.3655\n",
      "Epoch [34/60], Step [200/245], Loss: 0.4500\n",
      "Validataion accuracy is: 83.4 %\n",
      "Epoch [35/60], Step [100/245], Loss: 0.3649\n",
      "Epoch [35/60], Step [200/245], Loss: 0.3702\n",
      "Validataion accuracy is: 83.8 %\n",
      "Epoch [36/60], Step [100/245], Loss: 0.4908\n",
      "Epoch [36/60], Step [200/245], Loss: 0.3807\n",
      "Validataion accuracy is: 85.4 %\n",
      "Epoch [37/60], Step [100/245], Loss: 0.3113\n",
      "Epoch [37/60], Step [200/245], Loss: 0.4315\n",
      "Validataion accuracy is: 85.2 %\n",
      "Epoch [38/60], Step [100/245], Loss: 0.3907\n",
      "Epoch [38/60], Step [200/245], Loss: 0.3037\n",
      "Validataion accuracy is: 83.7 %\n",
      "Epoch [39/60], Step [100/245], Loss: 0.3706\n",
      "Epoch [39/60], Step [200/245], Loss: 0.4808\n",
      "Validataion accuracy is: 85.7 %\n",
      "Epoch [40/60], Step [100/245], Loss: 0.3547\n",
      "Epoch [40/60], Step [200/245], Loss: 0.3302\n",
      "Validataion accuracy is: 85.8 %\n",
      "Epoch [41/60], Step [100/245], Loss: 0.4284\n",
      "Epoch [41/60], Step [200/245], Loss: 0.3505\n",
      "Validataion accuracy is: 84.8 %\n",
      "Epoch [42/60], Step [100/245], Loss: 0.3663\n",
      "Epoch [42/60], Step [200/245], Loss: 0.4618\n",
      "Validataion accuracy is: 84.2 %\n",
      "Epoch [43/60], Step [100/245], Loss: 0.3785\n",
      "Epoch [43/60], Step [200/245], Loss: 0.2404\n",
      "Validataion accuracy is: 84.4 %\n",
      "Epoch [44/60], Step [100/245], Loss: 0.3731\n",
      "Epoch [44/60], Step [200/245], Loss: 0.3591\n",
      "Validataion accuracy is: 83.8 %\n",
      "Epoch [45/60], Step [100/245], Loss: 0.4590\n",
      "Epoch [45/60], Step [200/245], Loss: 0.3266\n",
      "Validataion accuracy is: 86.1 %\n",
      "Epoch [46/60], Step [100/245], Loss: 0.3743\n",
      "Epoch [46/60], Step [200/245], Loss: 0.4015\n",
      "Validataion accuracy is: 84.8 %\n",
      "Epoch [47/60], Step [100/245], Loss: 0.4253\n",
      "Epoch [47/60], Step [200/245], Loss: 0.3683\n",
      "Validataion accuracy is: 83.9 %\n",
      "Epoch [48/60], Step [100/245], Loss: 0.3109\n",
      "Epoch [48/60], Step [200/245], Loss: 0.3669\n",
      "Validataion accuracy is: 84.5 %\n",
      "Epoch [49/60], Step [100/245], Loss: 0.4010\n",
      "Epoch [49/60], Step [200/245], Loss: 0.3795\n",
      "Validataion accuracy is: 84.9 %\n",
      "Epoch [50/60], Step [100/245], Loss: 0.3877\n",
      "Epoch [50/60], Step [200/245], Loss: 0.4251\n",
      "Validataion accuracy is: 84.3 %\n",
      "Epoch [51/60], Step [100/245], Loss: 0.4624\n",
      "Epoch [51/60], Step [200/245], Loss: 0.4454\n",
      "Validataion accuracy is: 86.1 %\n",
      "Epoch [52/60], Step [100/245], Loss: 0.2920\n",
      "Epoch [52/60], Step [200/245], Loss: 0.3061\n",
      "Validataion accuracy is: 84.6 %\n",
      "Epoch [53/60], Step [100/245], Loss: 0.3383\n",
      "Epoch [53/60], Step [200/245], Loss: 0.3658\n",
      "Validataion accuracy is: 83.0 %\n",
      "Epoch [54/60], Step [100/245], Loss: 0.3401\n",
      "Epoch [54/60], Step [200/245], Loss: 0.3775\n",
      "Validataion accuracy is: 84.8 %\n",
      "Epoch [55/60], Step [100/245], Loss: 0.3370\n",
      "Epoch [55/60], Step [200/245], Loss: 0.3524\n",
      "Validataion accuracy is: 84.3 %\n",
      "Epoch [56/60], Step [100/245], Loss: 0.3421\n",
      "Epoch [56/60], Step [200/245], Loss: 0.3308\n",
      "Validataion accuracy is: 83.2 %\n",
      "Epoch [57/60], Step [100/245], Loss: 0.3515\n",
      "Epoch [57/60], Step [200/245], Loss: 0.3830\n",
      "Validataion accuracy is: 84.2 %\n",
      "Epoch [58/60], Step [100/245], Loss: 0.3661\n",
      "Epoch [58/60], Step [200/245], Loss: 0.2539\n",
      "Validataion accuracy is: 84.1 %\n",
      "Epoch [59/60], Step [100/245], Loss: 0.3318\n",
      "Epoch [59/60], Step [200/245], Loss: 0.4202\n",
      "Validataion accuracy is: 83.2 %\n",
      "Epoch [60/60], Step [100/245], Loss: 0.3854\n",
      "Epoch [60/60], Step [200/245], Loss: 0.3886\n",
      "Validataion accuracy is: 86.5 %\n",
      "Testing ........................................\n",
      "Accuracy of the best network on the 10000 test images: 90.05 %\n",
      "Best Epoch:  60\n",
      "Accuracy of the last network on the 10000 test images: 90.05 %\n"
     ]
    },
    {
     "data": {
      "image/png": "[encoded data removed]",
      "text/plain": [
       "<Figure size 432x288 with 1 Axes>"
      ]
     },
     "metadata": {
      "tags": []
     },
     "output_type": "display_data"
    },
    {
     "data": {
      "image/png": "[encoded data removed]",
      "text/plain": [
       "<Figure size 432x288 with 1 Axes>"
      ]
     },
     "metadata": {
      "tags": []
     },
     "output_type": "display_data"
    }
   ],
   "source": [
    "setSeeds(2)\n",
    "input_size = 32 * 32 * 3\n",
    "layer_config= [512, 256]\n",
    "num_classes = 10\n",
    "num_epochs = 60\n",
    "batch_size = 600\n",
    "learning_rate = 1e-4\n",
    "learning_rate_decay = 0.9\n",
    "reg=0.001\n",
    "\n",
    "alex, accALEX = trainAndTest(AlexModel, num_classes, fine_tune=False, pretrained=True, nameOfModel='alexModel')"
   ]
  },
  {
   "cell_type": "markdown",
   "metadata": {
    "colab_type": "text",
    "id": "SyUV1mIfC1nk"
   },
   "source": [
    "## 4.6 Training the GoogLeNet Model"
   ]
  },
  {
   "cell_type": "code",
   "execution_count": 0,
   "metadata": {
    "colab": {
     "base_uri": "https://localhost:8080/",
     "height": 12262
    },
    "colab_type": "code",
    "id": "rTnFO0DIU8b2",
    "outputId": "f6f972c7-b8af-4f34-a6d9-c1d73c2744d4"
   },
   "outputs": [
    {
     "name": "stdout",
     "output_type": "stream",
     "text": [
      "GoogLeNetModel(\n",
      "  (input): Interpolate()\n",
      "  (model): Sequential(\n",
      "    (features): Sequential(\n",
      "      (0): BasicConv2d(\n",
      "        (conv): Conv2d(3, 64, kernel_size=(7, 7), stride=(2, 2), padding=(3, 3), bias=False)\n",
      "        (bn): BatchNorm2d(64, eps=0.001, momentum=0.1, affine=True, track_running_stats=True)\n",
      "      )\n",
      "      (1): MaxPool2d(kernel_size=3, stride=2, padding=0, dilation=1, ceil_mode=True)\n",
      "      (2): BasicConv2d(\n",
      "        (conv): Conv2d(64, 64, kernel_size=(1, 1), stride=(1, 1), bias=False)\n",
      "        (bn): BatchNorm2d(64, eps=0.001, momentum=0.1, affine=True, track_running_stats=True)\n",
      "      )\n",
      "      (3): BasicConv2d(\n",
      "        (conv): Conv2d(64, 192, kernel_size=(3, 3), stride=(1, 1), padding=(1, 1), bias=False)\n",
      "        (bn): BatchNorm2d(192, eps=0.001, momentum=0.1, affine=True, track_running_stats=True)\n",
      "      )\n",
      "      (4): MaxPool2d(kernel_size=3, stride=2, padding=0, dilation=1, ceil_mode=True)\n",
      "      (5): Inception(\n",
      "        (branch1): BasicConv2d(\n",
      "          (conv): Conv2d(192, 64, kernel_size=(1, 1), stride=(1, 1), bias=False)\n",
      "          (bn): BatchNorm2d(64, eps=0.001, momentum=0.1, affine=True, track_running_stats=True)\n",
      "        )\n",
      "        (branch2): Sequential(\n",
      "          (0): BasicConv2d(\n",
      "            (conv): Conv2d(192, 96, kernel_size=(1, 1), stride=(1, 1), bias=False)\n",
      "            (bn): BatchNorm2d(96, eps=0.001, momentum=0.1, affine=True, track_running_stats=True)\n",
      "          )\n",
      "          (1): BasicConv2d(\n",
      "            (conv): Conv2d(96, 128, kernel_size=(3, 3), stride=(1, 1), padding=(1, 1), bias=False)\n",
      "            (bn): BatchNorm2d(128, eps=0.001, momentum=0.1, affine=True, track_running_stats=True)\n",
      "          )\n",
      "        )\n",
      "        (branch3): Sequential(\n",
      "          (0): BasicConv2d(\n",
      "            (conv): Conv2d(192, 16, kernel_size=(1, 1), stride=(1, 1), bias=False)\n",
      "            (bn): BatchNorm2d(16, eps=0.001, momentum=0.1, affine=True, track_running_stats=True)\n",
      "          )\n",
      "          (1): BasicConv2d(\n",
      "            (conv): Conv2d(16, 32, kernel_size=(3, 3), stride=(1, 1), padding=(1, 1), bias=False)\n",
      "            (bn): BatchNorm2d(32, eps=0.001, momentum=0.1, affine=True, track_running_stats=True)\n",
      "          )\n",
      "        )\n",
      "        (branch4): Sequential(\n",
      "          (0): MaxPool2d(kernel_size=3, stride=1, padding=1, dilation=1, ceil_mode=True)\n",
      "          (1): BasicConv2d(\n",
      "            (conv): Conv2d(192, 32, kernel_size=(1, 1), stride=(1, 1), bias=False)\n",
      "            (bn): BatchNorm2d(32, eps=0.001, momentum=0.1, affine=True, track_running_stats=True)\n",
      "          )\n",
      "        )\n",
      "      )\n",
      "      (6): Inception(\n",
      "        (branch1): BasicConv2d(\n",
      "          (conv): Conv2d(256, 128, kernel_size=(1, 1), stride=(1, 1), bias=False)\n",
      "          (bn): BatchNorm2d(128, eps=0.001, momentum=0.1, affine=True, track_running_stats=True)\n",
      "        )\n",
      "        (branch2): Sequential(\n",
      "          (0): BasicConv2d(\n",
      "            (conv): Conv2d(256, 128, kernel_size=(1, 1), stride=(1, 1), bias=False)\n",
      "            (bn): BatchNorm2d(128, eps=0.001, momentum=0.1, affine=True, track_running_stats=True)\n",
      "          )\n",
      "          (1): BasicConv2d(\n",
      "            (conv): Conv2d(128, 192, kernel_size=(3, 3), stride=(1, 1), padding=(1, 1), bias=False)\n",
      "            (bn): BatchNorm2d(192, eps=0.001, momentum=0.1, affine=True, track_running_stats=True)\n",
      "          )\n",
      "        )\n",
      "        (branch3): Sequential(\n",
      "          (0): BasicConv2d(\n",
      "            (conv): Conv2d(256, 32, kernel_size=(1, 1), stride=(1, 1), bias=False)\n",
      "            (bn): BatchNorm2d(32, eps=0.001, momentum=0.1, affine=True, track_running_stats=True)\n",
      "          )\n",
      "          (1): BasicConv2d(\n",
      "            (conv): Conv2d(32, 96, kernel_size=(3, 3), stride=(1, 1), padding=(1, 1), bias=False)\n",
      "            (bn): BatchNorm2d(96, eps=0.001, momentum=0.1, affine=True, track_running_stats=True)\n",
      "          )\n",
      "        )\n",
      "        (branch4): Sequential(\n",
      "          (0): MaxPool2d(kernel_size=3, stride=1, padding=1, dilation=1, ceil_mode=True)\n",
      "          (1): BasicConv2d(\n",
      "            (conv): Conv2d(256, 64, kernel_size=(1, 1), stride=(1, 1), bias=False)\n",
      "            (bn): BatchNorm2d(64, eps=0.001, momentum=0.1, affine=True, track_running_stats=True)\n",
      "          )\n",
      "        )\n",
      "      )\n",
      "      (7): MaxPool2d(kernel_size=3, stride=2, padding=0, dilation=1, ceil_mode=True)\n",
      "      (8): Inception(\n",
      "        (branch1): BasicConv2d(\n",
      "          (conv): Conv2d(480, 192, kernel_size=(1, 1), stride=(1, 1), bias=False)\n",
      "          (bn): BatchNorm2d(192, eps=0.001, momentum=0.1, affine=True, track_running_stats=True)\n",
      "        )\n",
      "        (branch2): Sequential(\n",
      "          (0): BasicConv2d(\n",
      "            (conv): Conv2d(480, 96, kernel_size=(1, 1), stride=(1, 1), bias=False)\n",
      "            (bn): BatchNorm2d(96, eps=0.001, momentum=0.1, affine=True, track_running_stats=True)\n",
      "          )\n",
      "          (1): BasicConv2d(\n",
      "            (conv): Conv2d(96, 208, kernel_size=(3, 3), stride=(1, 1), padding=(1, 1), bias=False)\n",
      "            (bn): BatchNorm2d(208, eps=0.001, momentum=0.1, affine=True, track_running_stats=True)\n",
      "          )\n",
      "        )\n",
      "        (branch3): Sequential(\n",
      "          (0): BasicConv2d(\n",
      "            (conv): Conv2d(480, 16, kernel_size=(1, 1), stride=(1, 1), bias=False)\n",
      "            (bn): BatchNorm2d(16, eps=0.001, momentum=0.1, affine=True, track_running_stats=True)\n",
      "          )\n",
      "          (1): BasicConv2d(\n",
      "            (conv): Conv2d(16, 48, kernel_size=(3, 3), stride=(1, 1), padding=(1, 1), bias=False)\n",
      "            (bn): BatchNorm2d(48, eps=0.001, momentum=0.1, affine=True, track_running_stats=True)\n",
      "          )\n",
      "        )\n",
      "        (branch4): Sequential(\n",
      "          (0): MaxPool2d(kernel_size=3, stride=1, padding=1, dilation=1, ceil_mode=True)\n",
      "          (1): BasicConv2d(\n",
      "            (conv): Conv2d(480, 64, kernel_size=(1, 1), stride=(1, 1), bias=False)\n",
      "            (bn): BatchNorm2d(64, eps=0.001, momentum=0.1, affine=True, track_running_stats=True)\n",
      "          )\n",
      "        )\n",
      "      )\n",
      "      (9): Inception(\n",
      "        (branch1): BasicConv2d(\n",
      "          (conv): Conv2d(512, 160, kernel_size=(1, 1), stride=(1, 1), bias=False)\n",
      "          (bn): BatchNorm2d(160, eps=0.001, momentum=0.1, affine=True, track_running_stats=True)\n",
      "        )\n",
      "        (branch2): Sequential(\n",
      "          (0): BasicConv2d(\n",
      "            (conv): Conv2d(512, 112, kernel_size=(1, 1), stride=(1, 1), bias=False)\n",
      "            (bn): BatchNorm2d(112, eps=0.001, momentum=0.1, affine=True, track_running_stats=True)\n",
      "          )\n",
      "          (1): BasicConv2d(\n",
      "            (conv): Conv2d(112, 224, kernel_size=(3, 3), stride=(1, 1), padding=(1, 1), bias=False)\n",
      "            (bn): BatchNorm2d(224, eps=0.001, momentum=0.1, affine=True, track_running_stats=True)\n",
      "          )\n",
      "        )\n",
      "        (branch3): Sequential(\n",
      "          (0): BasicConv2d(\n",
      "            (conv): Conv2d(512, 24, kernel_size=(1, 1), stride=(1, 1), bias=False)\n",
      "            (bn): BatchNorm2d(24, eps=0.001, momentum=0.1, affine=True, track_running_stats=True)\n",
      "          )\n",
      "          (1): BasicConv2d(\n",
      "            (conv): Conv2d(24, 64, kernel_size=(3, 3), stride=(1, 1), padding=(1, 1), bias=False)\n",
      "            (bn): BatchNorm2d(64, eps=0.001, momentum=0.1, affine=True, track_running_stats=True)\n",
      "          )\n",
      "        )\n",
      "        (branch4): Sequential(\n",
      "          (0): MaxPool2d(kernel_size=3, stride=1, padding=1, dilation=1, ceil_mode=True)\n",
      "          (1): BasicConv2d(\n",
      "            (conv): Conv2d(512, 64, kernel_size=(1, 1), stride=(1, 1), bias=False)\n",
      "            (bn): BatchNorm2d(64, eps=0.001, momentum=0.1, affine=True, track_running_stats=True)\n",
      "          )\n",
      "        )\n",
      "      )\n",
      "      (10): Inception(\n",
      "        (branch1): BasicConv2d(\n",
      "          (conv): Conv2d(512, 128, kernel_size=(1, 1), stride=(1, 1), bias=False)\n",
      "          (bn): BatchNorm2d(128, eps=0.001, momentum=0.1, affine=True, track_running_stats=True)\n",
      "        )\n",
      "        (branch2): Sequential(\n",
      "          (0): BasicConv2d(\n",
      "            (conv): Conv2d(512, 128, kernel_size=(1, 1), stride=(1, 1), bias=False)\n",
      "            (bn): BatchNorm2d(128, eps=0.001, momentum=0.1, affine=True, track_running_stats=True)\n",
      "          )\n",
      "          (1): BasicConv2d(\n",
      "            (conv): Conv2d(128, 256, kernel_size=(3, 3), stride=(1, 1), padding=(1, 1), bias=False)\n",
      "            (bn): BatchNorm2d(256, eps=0.001, momentum=0.1, affine=True, track_running_stats=True)\n",
      "          )\n",
      "        )\n",
      "        (branch3): Sequential(\n",
      "          (0): BasicConv2d(\n",
      "            (conv): Conv2d(512, 24, kernel_size=(1, 1), stride=(1, 1), bias=False)\n",
      "            (bn): BatchNorm2d(24, eps=0.001, momentum=0.1, affine=True, track_running_stats=True)\n",
      "          )\n",
      "          (1): BasicConv2d(\n",
      "            (conv): Conv2d(24, 64, kernel_size=(3, 3), stride=(1, 1), padding=(1, 1), bias=False)\n",
      "            (bn): BatchNorm2d(64, eps=0.001, momentum=0.1, affine=True, track_running_stats=True)\n",
      "          )\n",
      "        )\n",
      "        (branch4): Sequential(\n",
      "          (0): MaxPool2d(kernel_size=3, stride=1, padding=1, dilation=1, ceil_mode=True)\n",
      "          (1): BasicConv2d(\n",
      "            (conv): Conv2d(512, 64, kernel_size=(1, 1), stride=(1, 1), bias=False)\n",
      "            (bn): BatchNorm2d(64, eps=0.001, momentum=0.1, affine=True, track_running_stats=True)\n",
      "          )\n",
      "        )\n",
      "      )\n",
      "      (11): Inception(\n",
      "        (branch1): BasicConv2d(\n",
      "          (conv): Conv2d(512, 112, kernel_size=(1, 1), stride=(1, 1), bias=False)\n",
      "          (bn): BatchNorm2d(112, eps=0.001, momentum=0.1, affine=True, track_running_stats=True)\n",
      "        )\n",
      "        (branch2): Sequential(\n",
      "          (0): BasicConv2d(\n",
      "            (conv): Conv2d(512, 144, kernel_size=(1, 1), stride=(1, 1), bias=False)\n",
      "            (bn): BatchNorm2d(144, eps=0.001, momentum=0.1, affine=True, track_running_stats=True)\n",
      "          )\n",
      "          (1): BasicConv2d(\n",
      "            (conv): Conv2d(144, 288, kernel_size=(3, 3), stride=(1, 1), padding=(1, 1), bias=False)\n",
      "            (bn): BatchNorm2d(288, eps=0.001, momentum=0.1, affine=True, track_running_stats=True)\n",
      "          )\n",
      "        )\n",
      "        (branch3): Sequential(\n",
      "          (0): BasicConv2d(\n",
      "            (conv): Conv2d(512, 32, kernel_size=(1, 1), stride=(1, 1), bias=False)\n",
      "            (bn): BatchNorm2d(32, eps=0.001, momentum=0.1, affine=True, track_running_stats=True)\n",
      "          )\n",
      "          (1): BasicConv2d(\n",
      "            (conv): Conv2d(32, 64, kernel_size=(3, 3), stride=(1, 1), padding=(1, 1), bias=False)\n",
      "            (bn): BatchNorm2d(64, eps=0.001, momentum=0.1, affine=True, track_running_stats=True)\n",
      "          )\n",
      "        )\n",
      "        (branch4): Sequential(\n",
      "          (0): MaxPool2d(kernel_size=3, stride=1, padding=1, dilation=1, ceil_mode=True)\n",
      "          (1): BasicConv2d(\n",
      "            (conv): Conv2d(512, 64, kernel_size=(1, 1), stride=(1, 1), bias=False)\n",
      "            (bn): BatchNorm2d(64, eps=0.001, momentum=0.1, affine=True, track_running_stats=True)\n",
      "          )\n",
      "        )\n",
      "      )\n",
      "      (12): Inception(\n",
      "        (branch1): BasicConv2d(\n",
      "          (conv): Conv2d(528, 256, kernel_size=(1, 1), stride=(1, 1), bias=False)\n",
      "          (bn): BatchNorm2d(256, eps=0.001, momentum=0.1, affine=True, track_running_stats=True)\n",
      "        )\n",
      "        (branch2): Sequential(\n",
      "          (0): BasicConv2d(\n",
      "            (conv): Conv2d(528, 160, kernel_size=(1, 1), stride=(1, 1), bias=False)\n",
      "            (bn): BatchNorm2d(160, eps=0.001, momentum=0.1, affine=True, track_running_stats=True)\n",
      "          )\n",
      "          (1): BasicConv2d(\n",
      "            (conv): Conv2d(160, 320, kernel_size=(3, 3), stride=(1, 1), padding=(1, 1), bias=False)\n",
      "            (bn): BatchNorm2d(320, eps=0.001, momentum=0.1, affine=True, track_running_stats=True)\n",
      "          )\n",
      "        )\n",
      "        (branch3): Sequential(\n",
      "          (0): BasicConv2d(\n",
      "            (conv): Conv2d(528, 32, kernel_size=(1, 1), stride=(1, 1), bias=False)\n",
      "            (bn): BatchNorm2d(32, eps=0.001, momentum=0.1, affine=True, track_running_stats=True)\n",
      "          )\n",
      "          (1): BasicConv2d(\n",
      "            (conv): Conv2d(32, 128, kernel_size=(3, 3), stride=(1, 1), padding=(1, 1), bias=False)\n",
      "            (bn): BatchNorm2d(128, eps=0.001, momentum=0.1, affine=True, track_running_stats=True)\n",
      "          )\n",
      "        )\n",
      "        (branch4): Sequential(\n",
      "          (0): MaxPool2d(kernel_size=3, stride=1, padding=1, dilation=1, ceil_mode=True)\n",
      "          (1): BasicConv2d(\n",
      "            (conv): Conv2d(528, 128, kernel_size=(1, 1), stride=(1, 1), bias=False)\n",
      "            (bn): BatchNorm2d(128, eps=0.001, momentum=0.1, affine=True, track_running_stats=True)\n",
      "          )\n",
      "        )\n",
      "      )\n",
      "      (13): MaxPool2d(kernel_size=2, stride=2, padding=0, dilation=1, ceil_mode=True)\n",
      "      (14): Inception(\n",
      "        (branch1): BasicConv2d(\n",
      "          (conv): Conv2d(832, 256, kernel_size=(1, 1), stride=(1, 1), bias=False)\n",
      "          (bn): BatchNorm2d(256, eps=0.001, momentum=0.1, affine=True, track_running_stats=True)\n",
      "        )\n",
      "        (branch2): Sequential(\n",
      "          (0): BasicConv2d(\n",
      "            (conv): Conv2d(832, 160, kernel_size=(1, 1), stride=(1, 1), bias=False)\n",
      "            (bn): BatchNorm2d(160, eps=0.001, momentum=0.1, affine=True, track_running_stats=True)\n",
      "          )\n",
      "          (1): BasicConv2d(\n",
      "            (conv): Conv2d(160, 320, kernel_size=(3, 3), stride=(1, 1), padding=(1, 1), bias=False)\n",
      "            (bn): BatchNorm2d(320, eps=0.001, momentum=0.1, affine=True, track_running_stats=True)\n",
      "          )\n",
      "        )\n",
      "        (branch3): Sequential(\n",
      "          (0): BasicConv2d(\n",
      "            (conv): Conv2d(832, 32, kernel_size=(1, 1), stride=(1, 1), bias=False)\n",
      "            (bn): BatchNorm2d(32, eps=0.001, momentum=0.1, affine=True, track_running_stats=True)\n",
      "          )\n",
      "          (1): BasicConv2d(\n",
      "            (conv): Conv2d(32, 128, kernel_size=(3, 3), stride=(1, 1), padding=(1, 1), bias=False)\n",
      "            (bn): BatchNorm2d(128, eps=0.001, momentum=0.1, affine=True, track_running_stats=True)\n",
      "          )\n",
      "        )\n",
      "        (branch4): Sequential(\n",
      "          (0): MaxPool2d(kernel_size=3, stride=1, padding=1, dilation=1, ceil_mode=True)\n",
      "          (1): BasicConv2d(\n",
      "            (conv): Conv2d(832, 128, kernel_size=(1, 1), stride=(1, 1), bias=False)\n",
      "            (bn): BatchNorm2d(128, eps=0.001, momentum=0.1, affine=True, track_running_stats=True)\n",
      "          )\n",
      "        )\n",
      "      )\n",
      "      (15): Inception(\n",
      "        (branch1): BasicConv2d(\n",
      "          (conv): Conv2d(832, 384, kernel_size=(1, 1), stride=(1, 1), bias=False)\n",
      "          (bn): BatchNorm2d(384, eps=0.001, momentum=0.1, affine=True, track_running_stats=True)\n",
      "        )\n",
      "        (branch2): Sequential(\n",
      "          (0): BasicConv2d(\n",
      "            (conv): Conv2d(832, 192, kernel_size=(1, 1), stride=(1, 1), bias=False)\n",
      "            (bn): BatchNorm2d(192, eps=0.001, momentum=0.1, affine=True, track_running_stats=True)\n",
      "          )\n",
      "          (1): BasicConv2d(\n",
      "            (conv): Conv2d(192, 384, kernel_size=(3, 3), stride=(1, 1), padding=(1, 1), bias=False)\n",
      "            (bn): BatchNorm2d(384, eps=0.001, momentum=0.1, affine=True, track_running_stats=True)\n",
      "          )\n",
      "        )\n",
      "        (branch3): Sequential(\n",
      "          (0): BasicConv2d(\n",
      "            (conv): Conv2d(832, 48, kernel_size=(1, 1), stride=(1, 1), bias=False)\n",
      "            (bn): BatchNorm2d(48, eps=0.001, momentum=0.1, affine=True, track_running_stats=True)\n",
      "          )\n",
      "          (1): BasicConv2d(\n",
      "            (conv): Conv2d(48, 128, kernel_size=(3, 3), stride=(1, 1), padding=(1, 1), bias=False)\n",
      "            (bn): BatchNorm2d(128, eps=0.001, momentum=0.1, affine=True, track_running_stats=True)\n",
      "          )\n",
      "        )\n",
      "        (branch4): Sequential(\n",
      "          (0): MaxPool2d(kernel_size=3, stride=1, padding=1, dilation=1, ceil_mode=True)\n",
      "          (1): BasicConv2d(\n",
      "            (conv): Conv2d(832, 128, kernel_size=(1, 1), stride=(1, 1), bias=False)\n",
      "            (bn): BatchNorm2d(128, eps=0.001, momentum=0.1, affine=True, track_running_stats=True)\n",
      "          )\n",
      "        )\n",
      "      )\n",
      "      (16): AdaptiveAvgPool2d(output_size=(1, 1))\n",
      "      (17): Dropout(p=0.2)\n",
      "    )\n",
      "    (classifier): Sequential(\n",
      "      (0): Dropout(p=0.5)\n",
      "      (1): Linear(in_features=1024, out_features=512, bias=True)\n",
      "      (2): Dropout(p=0.5)\n",
      "      (3): ReLU()\n",
      "      (4): Linear(in_features=512, out_features=10, bias=True)\n",
      "    )\n",
      "  )\n",
      ")\n",
      "Params to learn:\n",
      "\t model.features.0.conv.weight\n",
      "\t model.features.0.bn.weight\n",
      "\t model.features.0.bn.bias\n",
      "\t model.features.2.conv.weight\n",
      "\t model.features.2.bn.weight\n",
      "\t model.features.2.bn.bias\n",
      "\t model.features.3.conv.weight\n",
      "\t model.features.3.bn.weight\n",
      "\t model.features.3.bn.bias\n",
      "\t model.features.5.branch1.conv.weight\n",
      "\t model.features.5.branch1.bn.weight\n",
      "\t model.features.5.branch1.bn.bias\n",
      "\t model.features.5.branch2.0.conv.weight\n",
      "\t model.features.5.branch2.0.bn.weight\n",
      "\t model.features.5.branch2.0.bn.bias\n",
      "\t model.features.5.branch2.1.conv.weight\n",
      "\t model.features.5.branch2.1.bn.weight\n",
      "\t model.features.5.branch2.1.bn.bias\n",
      "\t model.features.5.branch3.0.conv.weight\n",
      "\t model.features.5.branch3.0.bn.weight\n",
      "\t model.features.5.branch3.0.bn.bias\n",
      "\t model.features.5.branch3.1.conv.weight\n",
      "\t model.features.5.branch3.1.bn.weight\n",
      "\t model.features.5.branch3.1.bn.bias\n",
      "\t model.features.5.branch4.1.conv.weight\n",
      "\t model.features.5.branch4.1.bn.weight\n",
      "\t model.features.5.branch4.1.bn.bias\n",
      "\t model.features.6.branch1.conv.weight\n",
      "\t model.features.6.branch1.bn.weight\n",
      "\t model.features.6.branch1.bn.bias\n",
      "\t model.features.6.branch2.0.conv.weight\n",
      "\t model.features.6.branch2.0.bn.weight\n",
      "\t model.features.6.branch2.0.bn.bias\n",
      "\t model.features.6.branch2.1.conv.weight\n",
      "\t model.features.6.branch2.1.bn.weight\n",
      "\t model.features.6.branch2.1.bn.bias\n",
      "\t model.features.6.branch3.0.conv.weight\n",
      "\t model.features.6.branch3.0.bn.weight\n",
      "\t model.features.6.branch3.0.bn.bias\n",
      "\t model.features.6.branch3.1.conv.weight\n",
      "\t model.features.6.branch3.1.bn.weight\n",
      "\t model.features.6.branch3.1.bn.bias\n",
      "\t model.features.6.branch4.1.conv.weight\n",
      "\t model.features.6.branch4.1.bn.weight\n",
      "\t model.features.6.branch4.1.bn.bias\n",
      "\t model.features.8.branch1.conv.weight\n",
      "\t model.features.8.branch1.bn.weight\n",
      "\t model.features.8.branch1.bn.bias\n",
      "\t model.features.8.branch2.0.conv.weight\n",
      "\t model.features.8.branch2.0.bn.weight\n",
      "\t model.features.8.branch2.0.bn.bias\n",
      "\t model.features.8.branch2.1.conv.weight\n",
      "\t model.features.8.branch2.1.bn.weight\n",
      "\t model.features.8.branch2.1.bn.bias\n",
      "\t model.features.8.branch3.0.conv.weight\n",
      "\t model.features.8.branch3.0.bn.weight\n",
      "\t model.features.8.branch3.0.bn.bias\n",
      "\t model.features.8.branch3.1.conv.weight\n",
      "\t model.features.8.branch3.1.bn.weight\n",
      "\t model.features.8.branch3.1.bn.bias\n",
      "\t model.features.8.branch4.1.conv.weight\n",
      "\t model.features.8.branch4.1.bn.weight\n",
      "\t model.features.8.branch4.1.bn.bias\n",
      "\t model.features.9.branch1.conv.weight\n",
      "\t model.features.9.branch1.bn.weight\n",
      "\t model.features.9.branch1.bn.bias\n",
      "\t model.features.9.branch2.0.conv.weight\n",
      "\t model.features.9.branch2.0.bn.weight\n",
      "\t model.features.9.branch2.0.bn.bias\n",
      "\t model.features.9.branch2.1.conv.weight\n",
      "\t model.features.9.branch2.1.bn.weight\n",
      "\t model.features.9.branch2.1.bn.bias\n",
      "\t model.features.9.branch3.0.conv.weight\n",
      "\t model.features.9.branch3.0.bn.weight\n",
      "\t model.features.9.branch3.0.bn.bias\n",
      "\t model.features.9.branch3.1.conv.weight\n",
      "\t model.features.9.branch3.1.bn.weight\n",
      "\t model.features.9.branch3.1.bn.bias\n",
      "\t model.features.9.branch4.1.conv.weight\n",
      "\t model.features.9.branch4.1.bn.weight\n",
      "\t model.features.9.branch4.1.bn.bias\n",
      "\t model.features.10.branch1.conv.weight\n",
      "\t model.features.10.branch1.bn.weight\n",
      "\t model.features.10.branch1.bn.bias\n",
      "\t model.features.10.branch2.0.conv.weight\n",
      "\t model.features.10.branch2.0.bn.weight\n",
      "\t model.features.10.branch2.0.bn.bias\n",
      "\t model.features.10.branch2.1.conv.weight\n",
      "\t model.features.10.branch2.1.bn.weight\n",
      "\t model.features.10.branch2.1.bn.bias\n",
      "\t model.features.10.branch3.0.conv.weight\n",
      "\t model.features.10.branch3.0.bn.weight\n",
      "\t model.features.10.branch3.0.bn.bias\n",
      "\t model.features.10.branch3.1.conv.weight\n",
      "\t model.features.10.branch3.1.bn.weight\n",
      "\t model.features.10.branch3.1.bn.bias\n",
      "\t model.features.10.branch4.1.conv.weight\n",
      "\t model.features.10.branch4.1.bn.weight\n",
      "\t model.features.10.branch4.1.bn.bias\n",
      "\t model.features.11.branch1.conv.weight\n",
      "\t model.features.11.branch1.bn.weight\n",
      "\t model.features.11.branch1.bn.bias\n",
      "\t model.features.11.branch2.0.conv.weight\n",
      "\t model.features.11.branch2.0.bn.weight\n",
      "\t model.features.11.branch2.0.bn.bias\n",
      "\t model.features.11.branch2.1.conv.weight\n",
      "\t model.features.11.branch2.1.bn.weight\n",
      "\t model.features.11.branch2.1.bn.bias\n",
      "\t model.features.11.branch3.0.conv.weight\n",
      "\t model.features.11.branch3.0.bn.weight\n",
      "\t model.features.11.branch3.0.bn.bias\n",
      "\t model.features.11.branch3.1.conv.weight\n",
      "\t model.features.11.branch3.1.bn.weight\n",
      "\t model.features.11.branch3.1.bn.bias\n",
      "\t model.features.11.branch4.1.conv.weight\n",
      "\t model.features.11.branch4.1.bn.weight\n",
      "\t model.features.11.branch4.1.bn.bias\n",
      "\t model.features.12.branch1.conv.weight\n",
      "\t model.features.12.branch1.bn.weight\n",
      "\t model.features.12.branch1.bn.bias\n",
      "\t model.features.12.branch2.0.conv.weight\n",
      "\t model.features.12.branch2.0.bn.weight\n",
      "\t model.features.12.branch2.0.bn.bias\n",
      "\t model.features.12.branch2.1.conv.weight\n",
      "\t model.features.12.branch2.1.bn.weight\n",
      "\t model.features.12.branch2.1.bn.bias\n",
      "\t model.features.12.branch3.0.conv.weight\n",
      "\t model.features.12.branch3.0.bn.weight\n",
      "\t model.features.12.branch3.0.bn.bias\n",
      "\t model.features.12.branch3.1.conv.weight\n",
      "\t model.features.12.branch3.1.bn.weight\n",
      "\t model.features.12.branch3.1.bn.bias\n",
      "\t model.features.12.branch4.1.conv.weight\n",
      "\t model.features.12.branch4.1.bn.weight\n",
      "\t model.features.12.branch4.1.bn.bias\n",
      "\t model.features.14.branch1.conv.weight\n",
      "\t model.features.14.branch1.bn.weight\n",
      "\t model.features.14.branch1.bn.bias\n",
      "\t model.features.14.branch2.0.conv.weight\n",
      "\t model.features.14.branch2.0.bn.weight\n",
      "\t model.features.14.branch2.0.bn.bias\n",
      "\t model.features.14.branch2.1.conv.weight\n",
      "\t model.features.14.branch2.1.bn.weight\n",
      "\t model.features.14.branch2.1.bn.bias\n",
      "\t model.features.14.branch3.0.conv.weight\n",
      "\t model.features.14.branch3.0.bn.weight\n",
      "\t model.features.14.branch3.0.bn.bias\n",
      "\t model.features.14.branch3.1.conv.weight\n",
      "\t model.features.14.branch3.1.bn.weight\n",
      "\t model.features.14.branch3.1.bn.bias\n",
      "\t model.features.14.branch4.1.conv.weight\n",
      "\t model.features.14.branch4.1.bn.weight\n",
      "\t model.features.14.branch4.1.bn.bias\n",
      "\t model.features.15.branch1.conv.weight\n",
      "\t model.features.15.branch1.bn.weight\n",
      "\t model.features.15.branch1.bn.bias\n",
      "\t model.features.15.branch2.0.conv.weight\n",
      "\t model.features.15.branch2.0.bn.weight\n",
      "\t model.features.15.branch2.0.bn.bias\n",
      "\t model.features.15.branch2.1.conv.weight\n",
      "\t model.features.15.branch2.1.bn.weight\n",
      "\t model.features.15.branch2.1.bn.bias\n",
      "\t model.features.15.branch3.0.conv.weight\n",
      "\t model.features.15.branch3.0.bn.weight\n",
      "\t model.features.15.branch3.0.bn.bias\n",
      "\t model.features.15.branch3.1.conv.weight\n",
      "\t model.features.15.branch3.1.bn.weight\n",
      "\t model.features.15.branch3.1.bn.bias\n",
      "\t model.features.15.branch4.1.conv.weight\n",
      "\t model.features.15.branch4.1.bn.weight\n",
      "\t model.features.15.branch4.1.bn.bias\n",
      "\t model.classifier.1.weight\n",
      "\t model.classifier.1.bias\n",
      "\t model.classifier.4.weight\n",
      "\t model.classifier.4.bias\n",
      "Epoch [1/60], Step [100/245], Loss: 0.8710\n",
      "Epoch [1/60], Step [200/245], Loss: 0.5164\n",
      "Validataion accuracy is: 85.1 %\n",
      "Epoch [2/60], Step [100/245], Loss: 0.2717\n",
      "Epoch [2/60], Step [200/245], Loss: 0.2647\n",
      "Validataion accuracy is: 88.0 %\n",
      "Epoch [3/60], Step [100/245], Loss: 0.3133\n",
      "Epoch [3/60], Step [200/245], Loss: 0.2692\n",
      "Validataion accuracy is: 89.6 %\n",
      "Epoch [4/60], Step [100/245], Loss: 0.2763\n",
      "Epoch [4/60], Step [200/245], Loss: 0.2324\n",
      "Validataion accuracy is: 89.5 %\n",
      "Epoch [5/60], Step [100/245], Loss: 0.2147\n",
      "Epoch [5/60], Step [200/245], Loss: 0.2985\n",
      "Validataion accuracy is: 91.3 %\n",
      "Epoch [6/60], Step [100/245], Loss: 0.1596\n",
      "Epoch [6/60], Step [200/245], Loss: 0.2104\n",
      "Validataion accuracy is: 91.0 %\n",
      "Epoch [7/60], Step [100/245], Loss: 0.1684\n",
      "Epoch [7/60], Step [200/245], Loss: 0.2099\n",
      "Validataion accuracy is: 92.5 %\n",
      "Epoch [8/60], Step [100/245], Loss: 0.1788\n",
      "Epoch [8/60], Step [200/245], Loss: 0.1529\n",
      "Validataion accuracy is: 92.6 %\n",
      "Epoch [9/60], Step [100/245], Loss: 0.1571\n",
      "Epoch [9/60], Step [200/245], Loss: 0.1519\n",
      "Validataion accuracy is: 92.4 %\n",
      "Epoch [10/60], Step [100/245], Loss: 0.1396\n",
      "Epoch [10/60], Step [200/245], Loss: 0.1103\n",
      "Validataion accuracy is: 93.1 %\n",
      "Epoch [11/60], Step [100/245], Loss: 0.1253\n",
      "Epoch [11/60], Step [200/245], Loss: 0.1429\n",
      "Validataion accuracy is: 91.8 %\n",
      "Epoch [12/60], Step [100/245], Loss: 0.1788\n",
      "Epoch [12/60], Step [200/245], Loss: 0.1263\n",
      "Validataion accuracy is: 92.0 %\n",
      "Epoch [13/60], Step [100/245], Loss: 0.0777\n",
      "Epoch [13/60], Step [200/245], Loss: 0.1059\n",
      "Validataion accuracy is: 92.3 %\n",
      "Epoch [14/60], Step [100/245], Loss: 0.1527\n",
      "Epoch [14/60], Step [200/245], Loss: 0.1551\n",
      "Validataion accuracy is: 93.6 %\n",
      "Epoch [15/60], Step [100/245], Loss: 0.1304\n",
      "Epoch [15/60], Step [200/245], Loss: 0.0975\n",
      "Validataion accuracy is: 93.2 %\n",
      "Epoch [16/60], Step [100/245], Loss: 0.0616\n",
      "Epoch [16/60], Step [200/245], Loss: 0.1413\n",
      "Validataion accuracy is: 92.5 %\n",
      "Epoch [17/60], Step [100/245], Loss: 0.0707\n",
      "Epoch [17/60], Step [200/245], Loss: 0.1656\n",
      "Validataion accuracy is: 92.7 %\n",
      "Epoch [18/60], Step [100/245], Loss: 0.1023\n",
      "Epoch [18/60], Step [200/245], Loss: 0.0831\n",
      "Validataion accuracy is: 92.5 %\n",
      "Epoch [19/60], Step [100/245], Loss: 0.1701\n",
      "Epoch [19/60], Step [200/245], Loss: 0.1661\n",
      "Validataion accuracy is: 92.7 %\n",
      "Epoch [20/60], Step [100/245], Loss: 0.1425\n",
      "Epoch [20/60], Step [200/245], Loss: 0.0847\n",
      "Validataion accuracy is: 94.2 %\n",
      "Epoch [21/60], Step [100/245], Loss: 0.1095\n",
      "Epoch [21/60], Step [200/245], Loss: 0.1222\n",
      "Validataion accuracy is: 92.0 %\n",
      "Epoch [22/60], Step [100/245], Loss: 0.1086\n",
      "Epoch [22/60], Step [200/245], Loss: 0.0981\n",
      "Validataion accuracy is: 92.9 %\n",
      "Epoch [23/60], Step [100/245], Loss: 0.0761\n",
      "Epoch [23/60], Step [200/245], Loss: 0.1229\n",
      "Validataion accuracy is: 92.5 %\n",
      "Epoch [24/60], Step [100/245], Loss: 0.1366\n",
      "Epoch [24/60], Step [200/245], Loss: 0.0918\n",
      "Validataion accuracy is: 92.0 %\n",
      "Epoch [25/60], Step [100/245], Loss: 0.1501\n",
      "Epoch [25/60], Step [200/245], Loss: 0.0804\n",
      "Validataion accuracy is: 93.7 %\n",
      "Epoch [26/60], Step [100/245], Loss: 0.1993\n",
      "Epoch [26/60], Step [200/245], Loss: 0.1245\n",
      "Validataion accuracy is: 92.9 %\n",
      "Epoch [27/60], Step [100/245], Loss: 0.1500\n",
      "Epoch [27/60], Step [200/245], Loss: 0.0676\n",
      "Validataion accuracy is: 93.2 %\n",
      "Epoch [28/60], Step [100/245], Loss: 0.0692\n",
      "Epoch [28/60], Step [200/245], Loss: 0.1536\n",
      "Validataion accuracy is: 93.1 %\n",
      "Epoch [29/60], Step [100/245], Loss: 0.0765\n",
      "Epoch [29/60], Step [200/245], Loss: 0.1147\n",
      "Validataion accuracy is: 93.1 %\n",
      "Epoch [30/60], Step [100/245], Loss: 0.0867\n",
      "Epoch [30/60], Step [200/245], Loss: 0.1605\n",
      "Validataion accuracy is: 92.1 %\n",
      "Epoch [31/60], Step [100/245], Loss: 0.1233\n",
      "Epoch [31/60], Step [200/245], Loss: 0.1100\n",
      "Validataion accuracy is: 92.8 %\n",
      "Epoch [32/60], Step [100/245], Loss: 0.1591\n",
      "Epoch [32/60], Step [200/245], Loss: 0.1167\n",
      "Validataion accuracy is: 91.6 %\n",
      "Epoch [33/60], Step [100/245], Loss: 0.1046\n",
      "Epoch [33/60], Step [200/245], Loss: 0.1258\n",
      "Validataion accuracy is: 93.4 %\n",
      "Epoch [34/60], Step [100/245], Loss: 0.1335\n",
      "Epoch [34/60], Step [200/245], Loss: 0.0905\n",
      "Validataion accuracy is: 92.9 %\n",
      "Epoch [35/60], Step [100/245], Loss: 0.0554\n",
      "Epoch [35/60], Step [200/245], Loss: 0.1627\n",
      "Validataion accuracy is: 93.8 %\n",
      "Epoch [36/60], Step [100/245], Loss: 0.0612\n",
      "Epoch [36/60], Step [200/245], Loss: 0.0974\n",
      "Validataion accuracy is: 92.1 %\n",
      "Epoch [37/60], Step [100/245], Loss: 0.1027\n",
      "Epoch [37/60], Step [200/245], Loss: 0.1117\n",
      "Validataion accuracy is: 92.1 %\n",
      "Epoch [38/60], Step [100/245], Loss: 0.1524\n",
      "Epoch [38/60], Step [200/245], Loss: 0.0989\n",
      "Validataion accuracy is: 93.7 %\n",
      "Epoch [39/60], Step [100/245], Loss: 0.1194\n",
      "Epoch [39/60], Step [200/245], Loss: 0.0838\n",
      "Validataion accuracy is: 92.7 %\n",
      "Epoch [40/60], Step [100/245], Loss: 0.1071\n",
      "Epoch [40/60], Step [200/245], Loss: 0.1117\n",
      "Validataion accuracy is: 92.9 %\n",
      "Epoch [41/60], Step [100/245], Loss: 0.1624\n",
      "Epoch [41/60], Step [200/245], Loss: 0.0826\n",
      "Validataion accuracy is: 93.9 %\n",
      "Epoch [42/60], Step [100/245], Loss: 0.1674\n",
      "Epoch [42/60], Step [200/245], Loss: 0.1120\n",
      "Validataion accuracy is: 92.4 %\n",
      "Epoch [43/60], Step [100/245], Loss: 0.0772\n",
      "Epoch [43/60], Step [200/245], Loss: 0.0946\n",
      "Validataion accuracy is: 93.2 %\n",
      "Epoch [44/60], Step [100/245], Loss: 0.1137\n",
      "Epoch [44/60], Step [200/245], Loss: 0.1152\n",
      "Validataion accuracy is: 92.4 %\n",
      "Epoch [45/60], Step [100/245], Loss: 0.1353\n",
      "Epoch [45/60], Step [200/245], Loss: 0.1044\n",
      "Validataion accuracy is: 92.8 %\n",
      "Epoch [46/60], Step [100/245], Loss: 0.0580\n",
      "Epoch [46/60], Step [200/245], Loss: 0.0468\n",
      "Validataion accuracy is: 92.7 %\n",
      "Epoch [47/60], Step [100/245], Loss: 0.0697\n",
      "Epoch [47/60], Step [200/245], Loss: 0.1309\n",
      "Validataion accuracy is: 94.0 %\n",
      "Epoch [48/60], Step [100/245], Loss: 0.1304\n",
      "Epoch [48/60], Step [200/245], Loss: 0.0867\n",
      "Validataion accuracy is: 92.8 %\n",
      "Epoch [49/60], Step [100/245], Loss: 0.1190\n",
      "Epoch [49/60], Step [200/245], Loss: 0.1293\n",
      "Validataion accuracy is: 93.1 %\n",
      "Epoch [50/60], Step [100/245], Loss: 0.0983\n",
      "Epoch [50/60], Step [200/245], Loss: 0.0562\n",
      "Validataion accuracy is: 92.3 %\n",
      "Epoch [51/60], Step [100/245], Loss: 0.1752\n",
      "Epoch [51/60], Step [200/245], Loss: 0.0793\n",
      "Validataion accuracy is: 93.5 %\n",
      "Epoch [52/60], Step [100/245], Loss: 0.0947\n",
      "Epoch [52/60], Step [200/245], Loss: 0.0835\n",
      "Validataion accuracy is: 93.9 %\n",
      "Epoch [53/60], Step [100/245], Loss: 0.0808\n",
      "Epoch [53/60], Step [200/245], Loss: 0.0705\n",
      "Validataion accuracy is: 92.1 %\n",
      "Epoch [54/60], Step [100/245], Loss: 0.0692\n",
      "Epoch [54/60], Step [200/245], Loss: 0.0682\n",
      "Validataion accuracy is: 92.3 %\n",
      "Epoch [55/60], Step [100/245], Loss: 0.1832\n",
      "Epoch [55/60], Step [200/245], Loss: 0.0595\n",
      "Validataion accuracy is: 93.0 %\n",
      "Epoch [56/60], Step [100/245], Loss: 0.0953\n",
      "Epoch [56/60], Step [200/245], Loss: 0.0742\n",
      "Validataion accuracy is: 93.8 %\n",
      "Epoch [57/60], Step [100/245], Loss: 0.1173\n",
      "Epoch [57/60], Step [200/245], Loss: 0.0561\n",
      "Validataion accuracy is: 92.4 %\n",
      "Epoch [58/60], Step [100/245], Loss: 0.0725\n",
      "Epoch [58/60], Step [200/245], Loss: 0.1060\n",
      "Validataion accuracy is: 92.8 %\n",
      "Epoch [59/60], Step [100/245], Loss: 0.1264\n",
      "Epoch [59/60], Step [200/245], Loss: 0.0751\n",
      "Validataion accuracy is: 93.2 %\n",
      "Epoch [60/60], Step [100/245], Loss: 0.0785\n",
      "Epoch [60/60], Step [200/245], Loss: 0.1344\n",
      "Validataion accuracy is: 93.4 %\n",
      "Testing ........................................\n",
      "Accuracy of the best network on the 10000 test images: 95.78 %\n",
      "Best Epoch:  20\n",
      "Accuracy of the last network on the 10000 test images: 95.91 %\n"
     ]
    },
    {
     "data": {
      "image/png": "[encoded data removed]",
      "text/plain": [
       "<Figure size 432x288 with 1 Axes>"
      ]
     },
     "metadata": {
      "tags": []
     },
     "output_type": "display_data"
    },
    {
     "data": {
      "image/png": "[encoded data removed]",
      "text/plain": [
       "<Figure size 432x288 with 1 Axes>"
      ]
     },
     "metadata": {
      "tags": []
     },
     "output_type": "display_data"
    }
   ],
   "source": [
    "setSeeds(2)\n",
    "input_size = 32 * 32 * 3\n",
    "num_classes = 10\n",
    "\n",
    "num_epochs = 60\n",
    "learning_rate = 1e-4\n",
    "learning_rate_decay = 0.85\n",
    "reg=0.001\n",
    "\n",
    "googlenet, accGOOGLE = trainAndTest(GoogLeNetModel , num_classes, fine_tune=False, pretrained=True, nameOfModel='googleNetModel')"
   ]
  },
  {
   "cell_type": "markdown",
   "metadata": {
    "colab_type": "text",
    "id": "Ymbtg3EGC1nn"
   },
   "source": [
    "## 4.7 Training the ResNet Model"
   ]
  },
  {
   "cell_type": "code",
   "execution_count": 0,
   "metadata": {
    "colab": {
     "base_uri": "https://localhost:8080/",
     "height": 1000
    },
    "colab_type": "code",
    "id": "51mFcxp7RrKD",
    "outputId": "a9d35ee7-7cb6-48ea-9260-56ff4d66f87b"
   },
   "outputs": [
    {
     "name": "stdout",
     "output_type": "stream",
     "text": [
      "ResNetModel(\n",
      "  (input): Interpolate()\n",
      "  (model): Sequential(\n",
      "    (features): Sequential(\n",
      "      (0): Conv2d(3, 64, kernel_size=(7, 7), stride=(2, 2), padding=(3, 3), bias=False)\n",
      "      (1): BatchNorm2d(64, eps=1e-05, momentum=0.1, affine=True, track_running_stats=True)\n",
      "      (2): ReLU(inplace)\n",
      "      (3): MaxPool2d(kernel_size=3, stride=2, padding=1, dilation=1, ceil_mode=False)\n",
      "      (4): Sequential(\n",
      "        (0): BasicBlock(\n",
      "          (conv1): Conv2d(64, 64, kernel_size=(3, 3), stride=(1, 1), padding=(1, 1), bias=False)\n",
      "          (bn1): BatchNorm2d(64, eps=1e-05, momentum=0.1, affine=True, track_running_stats=True)\n",
      "          (relu): ReLU(inplace)\n",
      "          (conv2): Conv2d(64, 64, kernel_size=(3, 3), stride=(1, 1), padding=(1, 1), bias=False)\n",
      "          (bn2): BatchNorm2d(64, eps=1e-05, momentum=0.1, affine=True, track_running_stats=True)\n",
      "        )\n",
      "        (1): BasicBlock(\n",
      "          (conv1): Conv2d(64, 64, kernel_size=(3, 3), stride=(1, 1), padding=(1, 1), bias=False)\n",
      "          (bn1): BatchNorm2d(64, eps=1e-05, momentum=0.1, affine=True, track_running_stats=True)\n",
      "          (relu): ReLU(inplace)\n",
      "          (conv2): Conv2d(64, 64, kernel_size=(3, 3), stride=(1, 1), padding=(1, 1), bias=False)\n",
      "          (bn2): BatchNorm2d(64, eps=1e-05, momentum=0.1, affine=True, track_running_stats=True)\n",
      "        )\n",
      "        (2): BasicBlock(\n",
      "          (conv1): Conv2d(64, 64, kernel_size=(3, 3), stride=(1, 1), padding=(1, 1), bias=False)\n",
      "          (bn1): BatchNorm2d(64, eps=1e-05, momentum=0.1, affine=True, track_running_stats=True)\n",
      "          (relu): ReLU(inplace)\n",
      "          (conv2): Conv2d(64, 64, kernel_size=(3, 3), stride=(1, 1), padding=(1, 1), bias=False)\n",
      "          (bn2): BatchNorm2d(64, eps=1e-05, momentum=0.1, affine=True, track_running_stats=True)\n",
      "        )\n",
      "      )\n",
      "      (5): Sequential(\n",
      "        (0): BasicBlock(\n",
      "          (conv1): Conv2d(64, 128, kernel_size=(3, 3), stride=(2, 2), padding=(1, 1), bias=False)\n",
      "          (bn1): BatchNorm2d(128, eps=1e-05, momentum=0.1, affine=True, track_running_stats=True)\n",
      "          (relu): ReLU(inplace)\n",
      "          (conv2): Conv2d(128, 128, kernel_size=(3, 3), stride=(1, 1), padding=(1, 1), bias=False)\n",
      "          (bn2): BatchNorm2d(128, eps=1e-05, momentum=0.1, affine=True, track_running_stats=True)\n",
      "          (downsample): Sequential(\n",
      "            (0): Conv2d(64, 128, kernel_size=(1, 1), stride=(2, 2), bias=False)\n",
      "            (1): BatchNorm2d(128, eps=1e-05, momentum=0.1, affine=True, track_running_stats=True)\n",
      "          )\n",
      "        )\n",
      "        (1): BasicBlock(\n",
      "          (conv1): Conv2d(128, 128, kernel_size=(3, 3), stride=(1, 1), padding=(1, 1), bias=False)\n",
      "          (bn1): BatchNorm2d(128, eps=1e-05, momentum=0.1, affine=True, track_running_stats=True)\n",
      "          (relu): ReLU(inplace)\n",
      "          (conv2): Conv2d(128, 128, kernel_size=(3, 3), stride=(1, 1), padding=(1, 1), bias=False)\n",
      "          (bn2): BatchNorm2d(128, eps=1e-05, momentum=0.1, affine=True, track_running_stats=True)\n",
      "        )\n",
      "        (2): BasicBlock(\n",
      "          (conv1): Conv2d(128, 128, kernel_size=(3, 3), stride=(1, 1), padding=(1, 1), bias=False)\n",
      "          (bn1): BatchNorm2d(128, eps=1e-05, momentum=0.1, affine=True, track_running_stats=True)\n",
      "          (relu): ReLU(inplace)\n",
      "          (conv2): Conv2d(128, 128, kernel_size=(3, 3), stride=(1, 1), padding=(1, 1), bias=False)\n",
      "          (bn2): BatchNorm2d(128, eps=1e-05, momentum=0.1, affine=True, track_running_stats=True)\n",
      "        )\n",
      "        (3): BasicBlock(\n",
      "          (conv1): Conv2d(128, 128, kernel_size=(3, 3), stride=(1, 1), padding=(1, 1), bias=False)\n",
      "          (bn1): BatchNorm2d(128, eps=1e-05, momentum=0.1, affine=True, track_running_stats=True)\n",
      "          (relu): ReLU(inplace)\n",
      "          (conv2): Conv2d(128, 128, kernel_size=(3, 3), stride=(1, 1), padding=(1, 1), bias=False)\n",
      "          (bn2): BatchNorm2d(128, eps=1e-05, momentum=0.1, affine=True, track_running_stats=True)\n",
      "        )\n",
      "      )\n",
      "      (6): Sequential(\n",
      "        (0): BasicBlock(\n",
      "          (conv1): Conv2d(128, 256, kernel_size=(3, 3), stride=(2, 2), padding=(1, 1), bias=False)\n",
      "          (bn1): BatchNorm2d(256, eps=1e-05, momentum=0.1, affine=True, track_running_stats=True)\n",
      "          (relu): ReLU(inplace)\n",
      "          (conv2): Conv2d(256, 256, kernel_size=(3, 3), stride=(1, 1), padding=(1, 1), bias=False)\n",
      "          (bn2): BatchNorm2d(256, eps=1e-05, momentum=0.1, affine=True, track_running_stats=True)\n",
      "          (downsample): Sequential(\n",
      "            (0): Conv2d(128, 256, kernel_size=(1, 1), stride=(2, 2), bias=False)\n",
      "            (1): BatchNorm2d(256, eps=1e-05, momentum=0.1, affine=True, track_running_stats=True)\n",
      "          )\n",
      "        )\n",
      "        (1): BasicBlock(\n",
      "          (conv1): Conv2d(256, 256, kernel_size=(3, 3), stride=(1, 1), padding=(1, 1), bias=False)\n",
      "          (bn1): BatchNorm2d(256, eps=1e-05, momentum=0.1, affine=True, track_running_stats=True)\n",
      "          (relu): ReLU(inplace)\n",
      "          (conv2): Conv2d(256, 256, kernel_size=(3, 3), stride=(1, 1), padding=(1, 1), bias=False)\n",
      "          (bn2): BatchNorm2d(256, eps=1e-05, momentum=0.1, affine=True, track_running_stats=True)\n",
      "        )\n",
      "        (2): BasicBlock(\n",
      "          (conv1): Conv2d(256, 256, kernel_size=(3, 3), stride=(1, 1), padding=(1, 1), bias=False)\n",
      "          (bn1): BatchNorm2d(256, eps=1e-05, momentum=0.1, affine=True, track_running_stats=True)\n",
      "          (relu): ReLU(inplace)\n",
      "          (conv2): Conv2d(256, 256, kernel_size=(3, 3), stride=(1, 1), padding=(1, 1), bias=False)\n",
      "          (bn2): BatchNorm2d(256, eps=1e-05, momentum=0.1, affine=True, track_running_stats=True)\n",
      "        )\n",
      "        (3): BasicBlock(\n",
      "          (conv1): Conv2d(256, 256, kernel_size=(3, 3), stride=(1, 1), padding=(1, 1), bias=False)\n",
      "          (bn1): BatchNorm2d(256, eps=1e-05, momentum=0.1, affine=True, track_running_stats=True)\n",
      "          (relu): ReLU(inplace)\n",
      "          (conv2): Conv2d(256, 256, kernel_size=(3, 3), stride=(1, 1), padding=(1, 1), bias=False)\n",
      "          (bn2): BatchNorm2d(256, eps=1e-05, momentum=0.1, affine=True, track_running_stats=True)\n",
      "        )\n",
      "        (4): BasicBlock(\n",
      "          (conv1): Conv2d(256, 256, kernel_size=(3, 3), stride=(1, 1), padding=(1, 1), bias=False)\n",
      "          (bn1): BatchNorm2d(256, eps=1e-05, momentum=0.1, affine=True, track_running_stats=True)\n",
      "          (relu): ReLU(inplace)\n",
      "          (conv2): Conv2d(256, 256, kernel_size=(3, 3), stride=(1, 1), padding=(1, 1), bias=False)\n",
      "          (bn2): BatchNorm2d(256, eps=1e-05, momentum=0.1, affine=True, track_running_stats=True)\n",
      "        )\n",
      "        (5): BasicBlock(\n",
      "          (conv1): Conv2d(256, 256, kernel_size=(3, 3), stride=(1, 1), padding=(1, 1), bias=False)\n",
      "          (bn1): BatchNorm2d(256, eps=1e-05, momentum=0.1, affine=True, track_running_stats=True)\n",
      "          (relu): ReLU(inplace)\n",
      "          (conv2): Conv2d(256, 256, kernel_size=(3, 3), stride=(1, 1), padding=(1, 1), bias=False)\n",
      "          (bn2): BatchNorm2d(256, eps=1e-05, momentum=0.1, affine=True, track_running_stats=True)\n",
      "        )\n",
      "      )\n",
      "      (7): Sequential(\n",
      "        (0): BasicBlock(\n",
      "          (conv1): Conv2d(256, 512, kernel_size=(3, 3), stride=(2, 2), padding=(1, 1), bias=False)\n",
      "          (bn1): BatchNorm2d(512, eps=1e-05, momentum=0.1, affine=True, track_running_stats=True)\n",
      "          (relu): ReLU(inplace)\n",
      "          (conv2): Conv2d(512, 512, kernel_size=(3, 3), stride=(1, 1), padding=(1, 1), bias=False)\n",
      "          (bn2): BatchNorm2d(512, eps=1e-05, momentum=0.1, affine=True, track_running_stats=True)\n",
      "          (downsample): Sequential(\n",
      "            (0): Conv2d(256, 512, kernel_size=(1, 1), stride=(2, 2), bias=False)\n",
      "            (1): BatchNorm2d(512, eps=1e-05, momentum=0.1, affine=True, track_running_stats=True)\n",
      "          )\n",
      "        )\n",
      "        (1): BasicBlock(\n",
      "          (conv1): Conv2d(512, 512, kernel_size=(3, 3), stride=(1, 1), padding=(1, 1), bias=False)\n",
      "          (bn1): BatchNorm2d(512, eps=1e-05, momentum=0.1, affine=True, track_running_stats=True)\n",
      "          (relu): ReLU(inplace)\n",
      "          (conv2): Conv2d(512, 512, kernel_size=(3, 3), stride=(1, 1), padding=(1, 1), bias=False)\n",
      "          (bn2): BatchNorm2d(512, eps=1e-05, momentum=0.1, affine=True, track_running_stats=True)\n",
      "        )\n",
      "        (2): BasicBlock(\n",
      "          (conv1): Conv2d(512, 512, kernel_size=(3, 3), stride=(1, 1), padding=(1, 1), bias=False)\n",
      "          (bn1): BatchNorm2d(512, eps=1e-05, momentum=0.1, affine=True, track_running_stats=True)\n",
      "          (relu): ReLU(inplace)\n",
      "          (conv2): Conv2d(512, 512, kernel_size=(3, 3), stride=(1, 1), padding=(1, 1), bias=False)\n",
      "          (bn2): BatchNorm2d(512, eps=1e-05, momentum=0.1, affine=True, track_running_stats=True)\n",
      "        )\n",
      "      )\n",
      "      (8): AdaptiveAvgPool2d(output_size=(1, 1))\n",
      "    )\n",
      "    (classifier): Sequential(\n",
      "      (0): Dropout(p=0.5)\n",
      "      (1): Linear(in_features=512, out_features=512, bias=True)\n",
      "      (2): Dropout(p=0.5)\n",
      "      (3): ReLU()\n",
      "      (4): Linear(in_features=512, out_features=10, bias=True)\n",
      "    )\n",
      "  )\n",
      ")\n",
      "Params to learn:\n",
      "\t model.features.0.weight\n",
      "\t model.features.1.weight\n",
      "\t model.features.1.bias\n",
      "\t model.features.4.0.conv1.weight\n",
      "\t model.features.4.0.bn1.weight\n",
      "\t model.features.4.0.bn1.bias\n",
      "\t model.features.4.0.conv2.weight\n",
      "\t model.features.4.0.bn2.weight\n",
      "\t model.features.4.0.bn2.bias\n",
      "\t model.features.4.1.conv1.weight\n",
      "\t model.features.4.1.bn1.weight\n",
      "\t model.features.4.1.bn1.bias\n",
      "\t model.features.4.1.conv2.weight\n",
      "\t model.features.4.1.bn2.weight\n",
      "\t model.features.4.1.bn2.bias\n",
      "\t model.features.4.2.conv1.weight\n",
      "\t model.features.4.2.bn1.weight\n",
      "\t model.features.4.2.bn1.bias\n",
      "\t model.features.4.2.conv2.weight\n",
      "\t model.features.4.2.bn2.weight\n",
      "\t model.features.4.2.bn2.bias\n",
      "\t model.features.5.0.conv1.weight\n",
      "\t model.features.5.0.bn1.weight\n",
      "\t model.features.5.0.bn1.bias\n",
      "\t model.features.5.0.conv2.weight\n",
      "\t model.features.5.0.bn2.weight\n",
      "\t model.features.5.0.bn2.bias\n",
      "\t model.features.5.0.downsample.0.weight\n",
      "\t model.features.5.0.downsample.1.weight\n",
      "\t model.features.5.0.downsample.1.bias\n",
      "\t model.features.5.1.conv1.weight\n",
      "\t model.features.5.1.bn1.weight\n",
      "\t model.features.5.1.bn1.bias\n",
      "\t model.features.5.1.conv2.weight\n",
      "\t model.features.5.1.bn2.weight\n",
      "\t model.features.5.1.bn2.bias\n",
      "\t model.features.5.2.conv1.weight\n",
      "\t model.features.5.2.bn1.weight\n",
      "\t model.features.5.2.bn1.bias\n",
      "\t model.features.5.2.conv2.weight\n",
      "\t model.features.5.2.bn2.weight\n",
      "\t model.features.5.2.bn2.bias\n",
      "\t model.features.5.3.conv1.weight\n",
      "\t model.features.5.3.bn1.weight\n",
      "\t model.features.5.3.bn1.bias\n",
      "\t model.features.5.3.conv2.weight\n",
      "\t model.features.5.3.bn2.weight\n",
      "\t model.features.5.3.bn2.bias\n",
      "\t model.features.6.0.conv1.weight\n",
      "\t model.features.6.0.bn1.weight\n",
      "\t model.features.6.0.bn1.bias\n",
      "\t model.features.6.0.conv2.weight\n",
      "\t model.features.6.0.bn2.weight\n",
      "\t model.features.6.0.bn2.bias\n",
      "\t model.features.6.0.downsample.0.weight\n",
      "\t model.features.6.0.downsample.1.weight\n",
      "\t model.features.6.0.downsample.1.bias\n",
      "\t model.features.6.1.conv1.weight\n",
      "\t model.features.6.1.bn1.weight\n",
      "\t model.features.6.1.bn1.bias\n",
      "\t model.features.6.1.conv2.weight\n",
      "\t model.features.6.1.bn2.weight\n",
      "\t model.features.6.1.bn2.bias\n",
      "\t model.features.6.2.conv1.weight\n",
      "\t model.features.6.2.bn1.weight\n",
      "\t model.features.6.2.bn1.bias\n",
      "\t model.features.6.2.conv2.weight\n",
      "\t model.features.6.2.bn2.weight\n",
      "\t model.features.6.2.bn2.bias\n",
      "\t model.features.6.3.conv1.weight\n",
      "\t model.features.6.3.bn1.weight\n",
      "\t model.features.6.3.bn1.bias\n",
      "\t model.features.6.3.conv2.weight\n",
      "\t model.features.6.3.bn2.weight\n",
      "\t model.features.6.3.bn2.bias\n",
      "\t model.features.6.4.conv1.weight\n",
      "\t model.features.6.4.bn1.weight\n",
      "\t model.features.6.4.bn1.bias\n",
      "\t model.features.6.4.conv2.weight\n",
      "\t model.features.6.4.bn2.weight\n",
      "\t model.features.6.4.bn2.bias\n",
      "\t model.features.6.5.conv1.weight\n",
      "\t model.features.6.5.bn1.weight\n",
      "\t model.features.6.5.bn1.bias\n",
      "\t model.features.6.5.conv2.weight\n",
      "\t model.features.6.5.bn2.weight\n",
      "\t model.features.6.5.bn2.bias\n",
      "\t model.features.7.0.conv1.weight\n",
      "\t model.features.7.0.bn1.weight\n",
      "\t model.features.7.0.bn1.bias\n",
      "\t model.features.7.0.conv2.weight\n",
      "\t model.features.7.0.bn2.weight\n",
      "\t model.features.7.0.bn2.bias\n",
      "\t model.features.7.0.downsample.0.weight\n",
      "\t model.features.7.0.downsample.1.weight\n",
      "\t model.features.7.0.downsample.1.bias\n",
      "\t model.features.7.1.conv1.weight\n",
      "\t model.features.7.1.bn1.weight\n",
      "\t model.features.7.1.bn1.bias\n",
      "\t model.features.7.1.conv2.weight\n",
      "\t model.features.7.1.bn2.weight\n",
      "\t model.features.7.1.bn2.bias\n",
      "\t model.features.7.2.conv1.weight\n",
      "\t model.features.7.2.bn1.weight\n",
      "\t model.features.7.2.bn1.bias\n",
      "\t model.features.7.2.conv2.weight\n",
      "\t model.features.7.2.bn2.weight\n",
      "\t model.features.7.2.bn2.bias\n",
      "\t model.classifier.1.weight\n",
      "\t model.classifier.1.bias\n",
      "\t model.classifier.4.weight\n",
      "\t model.classifier.4.bias\n",
      "Epoch [1/40], Step [100/245], Loss: 0.7076\n",
      "Epoch [1/40], Step [200/245], Loss: 0.5233\n",
      "Validataion accuracy is: 80.5 %\n",
      "Epoch [2/40], Step [100/245], Loss: 0.4949\n",
      "Epoch [2/40], Step [200/245], Loss: 0.5304\n",
      "Validataion accuracy is: 85.3 %\n",
      "Epoch [3/40], Step [100/245], Loss: 0.2870\n",
      "Epoch [3/40], Step [200/245], Loss: 0.5271\n",
      "Validataion accuracy is: 86.9 %\n",
      "Epoch [4/40], Step [100/245], Loss: 0.3511\n",
      "Epoch [4/40], Step [200/245], Loss: 0.3632\n",
      "Validataion accuracy is: 87.8 %\n",
      "Epoch [5/40], Step [100/245], Loss: 0.2642\n",
      "Epoch [5/40], Step [200/245], Loss: 0.2639\n",
      "Validataion accuracy is: 89.0 %\n",
      "Epoch [6/40], Step [100/245], Loss: 0.2726\n",
      "Epoch [6/40], Step [200/245], Loss: 0.2573\n",
      "Validataion accuracy is: 89.5 %\n",
      "Epoch [7/40], Step [100/245], Loss: 0.1358\n",
      "Epoch [7/40], Step [200/245], Loss: 0.1814\n",
      "Validataion accuracy is: 91.3 %\n",
      "Epoch [8/40], Step [100/245], Loss: 0.2145\n",
      "Epoch [8/40], Step [200/245], Loss: 0.1287\n",
      "Validataion accuracy is: 92.8 %\n",
      "Epoch [9/40], Step [100/245], Loss: 0.2261\n",
      "Epoch [9/40], Step [200/245], Loss: 0.0925\n",
      "Validataion accuracy is: 92.5 %\n",
      "Epoch [10/40], Step [100/245], Loss: 0.2315\n",
      "Epoch [10/40], Step [200/245], Loss: 0.1348\n",
      "Validataion accuracy is: 92.2 %\n",
      "Epoch [11/40], Step [100/245], Loss: 0.1478\n",
      "Epoch [11/40], Step [200/245], Loss: 0.1517\n",
      "Validataion accuracy is: 93.0 %\n",
      "Epoch [12/40], Step [100/245], Loss: 0.0880\n",
      "Epoch [12/40], Step [200/245], Loss: 0.1194\n",
      "Validataion accuracy is: 92.5 %\n",
      "Epoch [13/40], Step [100/245], Loss: 0.1451\n",
      "Epoch [13/40], Step [200/245], Loss: 0.0602\n",
      "Validataion accuracy is: 93.1 %\n",
      "Epoch [14/40], Step [100/245], Loss: 0.0962\n",
      "Epoch [14/40], Step [200/245], Loss: 0.0730\n",
      "Validataion accuracy is: 93.5 %\n",
      "Epoch [15/40], Step [100/245], Loss: 0.0789\n",
      "Epoch [15/40], Step [200/245], Loss: 0.0796\n",
      "Validataion accuracy is: 93.9 %\n",
      "Epoch [16/40], Step [100/245], Loss: 0.0479\n",
      "Epoch [16/40], Step [200/245], Loss: 0.0967\n",
      "Validataion accuracy is: 94.0 %\n",
      "Epoch [17/40], Step [100/245], Loss: 0.0270\n",
      "Epoch [17/40], Step [200/245], Loss: 0.0448\n",
      "Validataion accuracy is: 95.0 %\n",
      "Epoch [18/40], Step [100/245], Loss: 0.0359\n",
      "Epoch [18/40], Step [200/245], Loss: 0.0608\n",
      "Validataion accuracy is: 94.7 %\n",
      "Epoch [19/40], Step [100/245], Loss: 0.0593\n",
      "Epoch [19/40], Step [200/245], Loss: 0.0336\n",
      "Validataion accuracy is: 94.0 %\n",
      "Epoch [20/40], Step [100/245], Loss: 0.0745\n",
      "Epoch [20/40], Step [200/245], Loss: 0.0638\n",
      "Validataion accuracy is: 95.1 %\n",
      "Epoch [21/40], Step [100/245], Loss: 0.0403\n",
      "Epoch [21/40], Step [200/245], Loss: 0.0213\n",
      "Validataion accuracy is: 94.4 %\n",
      "Epoch [22/40], Step [100/245], Loss: 0.0965\n",
      "Epoch [22/40], Step [200/245], Loss: 0.0506\n",
      "Validataion accuracy is: 93.8 %\n",
      "Epoch [23/40], Step [100/245], Loss: 0.0665\n",
      "Epoch [23/40], Step [200/245], Loss: 0.0397\n",
      "Validataion accuracy is: 94.9 %\n",
      "Epoch [24/40], Step [100/245], Loss: 0.0596\n",
      "Epoch [24/40], Step [200/245], Loss: 0.0342\n",
      "Validataion accuracy is: 94.4 %\n",
      "Epoch [25/40], Step [100/245], Loss: 0.0257\n",
      "Epoch [25/40], Step [200/245], Loss: 0.0256\n",
      "Validataion accuracy is: 95.1 %\n",
      "Epoch [26/40], Step [100/245], Loss: 0.0273\n",
      "Epoch [26/40], Step [200/245], Loss: 0.0132\n",
      "Validataion accuracy is: 94.3 %\n",
      "Epoch [27/40], Step [100/245], Loss: 0.0236\n",
      "Epoch [27/40], Step [200/245], Loss: 0.0200\n",
      "Validataion accuracy is: 95.0 %\n",
      "Epoch [28/40], Step [100/245], Loss: 0.0779\n",
      "Epoch [28/40], Step [200/245], Loss: 0.0438\n",
      "Validataion accuracy is: 93.1 %\n",
      "Epoch [29/40], Step [100/245], Loss: 0.0248\n",
      "Epoch [29/40], Step [200/245], Loss: 0.0099\n",
      "Validataion accuracy is: 95.5 %\n",
      "Epoch [30/40], Step [100/245], Loss: 0.0410\n",
      "Epoch [30/40], Step [200/245], Loss: 0.0253\n",
      "Validataion accuracy is: 94.5 %\n",
      "Epoch [31/40], Step [100/245], Loss: 0.0565\n",
      "Epoch [31/40], Step [200/245], Loss: 0.0276\n",
      "Validataion accuracy is: 95.6 %\n",
      "Epoch [32/40], Step [100/245], Loss: 0.0321\n",
      "Epoch [32/40], Step [200/245], Loss: 0.0437\n",
      "Validataion accuracy is: 93.7 %\n",
      "Epoch [33/40], Step [100/245], Loss: 0.0303\n",
      "Epoch [33/40], Step [200/245], Loss: 0.0308\n",
      "Validataion accuracy is: 94.5 %\n",
      "Epoch [34/40], Step [100/245], Loss: 0.0797\n",
      "Epoch [34/40], Step [200/245], Loss: 0.0147\n",
      "Validataion accuracy is: 95.4 %\n",
      "Epoch [35/40], Step [100/245], Loss: 0.0424\n",
      "Epoch [35/40], Step [200/245], Loss: 0.0333\n",
      "Validataion accuracy is: 96.0 %\n",
      "Epoch [36/40], Step [100/245], Loss: 0.0852\n",
      "Epoch [36/40], Step [200/245], Loss: 0.0395\n",
      "Validataion accuracy is: 95.0 %\n",
      "Epoch [37/40], Step [100/245], Loss: 0.0204\n",
      "Epoch [37/40], Step [200/245], Loss: 0.0476\n",
      "Validataion accuracy is: 94.7 %\n",
      "Epoch [38/40], Step [100/245], Loss: 0.0194\n",
      "Epoch [38/40], Step [200/245], Loss: 0.0498\n",
      "Validataion accuracy is: 95.8 %\n",
      "Epoch [39/40], Step [100/245], Loss: 0.0549\n",
      "Epoch [39/40], Step [200/245], Loss: 0.0315\n",
      "Validataion accuracy is: 95.2 %\n",
      "Epoch [40/40], Step [100/245], Loss: 0.0389\n",
      "Epoch [40/40], Step [200/245], Loss: 0.0437\n",
      "Validataion accuracy is: 94.4 %\n",
      "Testing ........................................\n",
      "Accuracy of the best network on the 10000 test images: 96.42 %\n",
      "Best Epoch:  35\n",
      "Accuracy of the last network on the 10000 test images: 96.48 %\n"
     ]
    },
    {
     "data": {
      "image/png": "[encoded data removed]",
      "text/plain": [
       "<Figure size 432x288 with 1 Axes>"
      ]
     },
     "metadata": {
      "tags": []
     },
     "output_type": "display_data"
    },
    {
     "data": {
      "image/png": "[encoded data removed]",
      "text/plain": [
       "<Figure size 432x288 with 1 Axes>"
      ]
     },
     "metadata": {
      "tags": []
     },
     "output_type": "display_data"
    }
   ],
   "source": [
    "setSeeds(2)\n",
    "input_size = 32 * 32 * 3\n",
    "num_classes = 10\n",
    "\n",
    "num_epochs = 40\n",
    "learning_rate = 0.5e-3\n",
    "learning_rate_decay = 0.8\n",
    "reg=0.001\n",
    "\n",
    "resnet, accRES = trainAndTest(ResNetModel , num_classes, fine_tune=False, pretrained=True, nameOfModel='resnetModel')"
   ]
  },
  {
   "cell_type": "markdown",
   "metadata": {
    "colab_type": "text",
    "id": "84dUx6vdC1nv"
   },
   "source": [
    "# 5. Testing the trained models"
   ]
  },
  {
   "cell_type": "code",
   "execution_count": 0,
   "metadata": {
    "colab": {},
    "colab_type": "code",
    "id": "zmtgucmTRrKO"
   },
   "outputs": [],
   "source": [
    "def loadModelAndTest(modelClass, modelName, fine_tune, pretrained):\n",
    "  \n",
    "    model= modelClass(num_classes, fine_tune, pretrained)\n",
    "    model.load_state_dict(torch.load(path+'TransferLearning_models/'+ modelName +'.ckpt'))\n",
    "    model.to(device)\n",
    "    model.eval()\n",
    "    with torch.no_grad():\n",
    "        correct = 0\n",
    "        total = 0\n",
    "        allPredLabels = []\n",
    "        for images, labels in test_loader:\n",
    "            images = images.to(device)\n",
    "            labels = labels.to(device)\n",
    "            \n",
    "            outputs = model(images)\n",
    "            _, predicted = torch.max(outputs.data, 1)\n",
    "            allPredLabels.append(predicted)\n",
    "            \n",
    "            total += labels.size(0)\n",
    "            correct += (predicted == labels).sum().item()\n",
    "        \n",
    "        acc = 100 * correct / total\n",
    "        print('Accuracy of the best network on the {} test images: {} %'.format(total, acc))\n",
    "        \n",
    "    allPredLabels = [i.tolist() for i in allPredLabels]\n",
    "    y_pred = [item for sublist in allPredLabels for item in sublist]\n",
    "        \n",
    "    return model, acc, y_pred"
   ]
  },
  {
   "cell_type": "markdown",
   "metadata": {
    "colab_type": "text",
    "id": "3ZxlmBE_C1ny"
   },
   "source": [
    "## 5.1 Testing"
   ]
  },
  {
   "cell_type": "code",
   "execution_count": 0,
   "metadata": {
    "colab": {},
    "colab_type": "code",
    "id": "xhU1i3K_MpXr"
   },
   "outputs": [],
   "source": [
    "setSeeds(2)\n",
    "input_size = 32 * 32 * 3\n",
    "layer_config= [512, 256]\n",
    "num_classes = 10\n",
    "num_epochs = 60\n",
    "batch_size = 600\n",
    "learning_rate = 1e-4\n",
    "learning_rate_decay = 0.9\n",
    "reg=0.001"
   ]
  },
  {
   "cell_type": "code",
   "execution_count": 91,
   "metadata": {
    "colab": {
     "base_uri": "https://localhost:8080/",
     "height": 34
    },
    "colab_type": "code",
    "id": "YD16rfLN0YFy",
    "outputId": "5f07d03e-b898-4924-b857-9d0e5241a054"
   },
   "outputs": [
    {
     "name": "stdout",
     "output_type": "stream",
     "text": [
      "Accuracy of the best network on the 10000 test images: 91.06 %\n"
     ]
    }
   ],
   "source": [
    "vgg, accVGG, y_pred_vgg = loadModelAndTest(VggModel, 'vggModel', fine_tune=False, pretrained=True)\n",
    "\n"
   ]
  },
  {
   "cell_type": "code",
   "execution_count": 92,
   "metadata": {
    "colab": {
     "base_uri": "https://localhost:8080/",
     "height": 34
    },
    "colab_type": "code",
    "id": "-FIMSyNB8Ls9",
    "outputId": "7c2688e4-7cdf-47cd-d891-9d4c22cf9a83"
   },
   "outputs": [
    {
     "name": "stdout",
     "output_type": "stream",
     "text": [
      "Accuracy of the best network on the 10000 test images: 90.05 %\n"
     ]
    }
   ],
   "source": [
    "alex, accALEX, y_pred_alex = loadModelAndTest(AlexModel, 'alexModel', fine_tune=False, pretrained=True)\n"
   ]
  },
  {
   "cell_type": "code",
   "execution_count": 93,
   "metadata": {
    "colab": {
     "base_uri": "https://localhost:8080/",
     "height": 34
    },
    "colab_type": "code",
    "id": "RzCRnT2v8LxC",
    "outputId": "7e49f0dd-5816-4d5f-9bde-260aa30722e8"
   },
   "outputs": [
    {
     "name": "stdout",
     "output_type": "stream",
     "text": [
      "Accuracy of the best network on the 10000 test images: 95.78 %\n"
     ]
    }
   ],
   "source": [
    "googlenet, accGOOGLE, y_pred_google = loadModelAndTest(GoogLeNetModel, 'googleNetModel', fine_tune=False, pretrained=True)\n",
    "\n"
   ]
  },
  {
   "cell_type": "code",
   "execution_count": 94,
   "metadata": {
    "colab": {
     "base_uri": "https://localhost:8080/",
     "height": 34
    },
    "colab_type": "code",
    "id": "QLkcltXb8L3n",
    "outputId": "6d35275c-de85-4be3-e5cb-4679cabd4848"
   },
   "outputs": [
    {
     "name": "stdout",
     "output_type": "stream",
     "text": [
      "Accuracy of the best network on the 10000 test images: 96.42 %\n"
     ]
    }
   ],
   "source": [
    "resnet, accRES, y_pred_resnet = loadModelAndTest(ResNetModel, 'resnetModel', fine_tune=False, pretrained=True)\n"
   ]
  },
  {
   "cell_type": "code",
   "execution_count": 95,
   "metadata": {
    "colab": {
     "base_uri": "https://localhost:8080/",
     "height": 501
    },
    "colab_type": "code",
    "id": "whN_qzuzQ3BV",
    "outputId": "b6cced60-d214-4abf-e1e2-3c3c78e98e5e"
   },
   "outputs": [
    {
     "data": {
      "image/png": "[encoded data removed]",
      "text/plain": [
       "<Figure size 720x576 with 1 Axes>"
      ]
     },
     "metadata": {
      "tags": []
     },
     "output_type": "display_data"
    }
   ],
   "source": [
    "height = [accVGG, accALEX, accGOOGLE, accRES]\n",
    "bars = ('VGG', 'ALEX', 'GoogLe', 'Resnet')\n",
    "y_pos = np.arange(len(bars))\n",
    " \n",
    "# Create bars\n",
    "plt.bar(y_pos, height)\n",
    " \n",
    "# Create names on the x-axis\n",
    "plt.xticks(y_pos, bars)\n",
    "plt.xlabel('Different Models trained')\n",
    "plt.ylabel('Test Acc')\n",
    "plt.ylim([87,100])\n",
    " \n",
    "# Show graphic\n",
    "plt.show()"
   ]
  },
  {
   "cell_type": "markdown",
   "metadata": {
    "colab_type": "text",
    "id": "fK5G0Fg4C1oH"
   },
   "source": [
    "## 5.2 Visualizing some filters"
   ]
  },
  {
   "cell_type": "code",
   "execution_count": 0,
   "metadata": {
    "colab": {},
    "colab_type": "code",
    "id": "ZA9c_8wlRrKL"
   },
   "outputs": [],
   "source": [
    "def VisualizeFilter(mod, superTitle):\n",
    "    \n",
    "    tensor = torch.ones(mod.model.features[0].weight.data.size())\n",
    "    tensor = mod.model.features[0].weight.clone().detach().requires_grad_(False)\n",
    "    tensor = tensor.permute(0, 2, 3, 1) \n",
    "    tensor = tensor.cpu().data.numpy()\n",
    "    \n",
    "    t_max = np.amax(tensor)\n",
    "    t_min = np.amin(tensor)\n",
    "\n",
    "    tensor = (tensor - t_min) / (t_max - t_min) \n",
    "\n",
    "    num_cols = 16\n",
    "    num_kernels = tensor.shape[0]\n",
    "    num_rows = 1+ num_kernels // num_cols\n",
    "    fig = plt.figure(figsize=(num_cols,num_rows))\n",
    "    fig.set_facecolor(\"black\")\n",
    "\n",
    "    for i in range(tensor.shape[0]):\n",
    "        ax1 = fig.add_subplot(num_rows,num_cols,i+1)\n",
    "        ax1.imshow(tensor[i],)\n",
    "        ax1.axis('off')\n",
    "        ax1.set_xticklabels([])\n",
    "        ax1.set_yticklabels([])\n",
    "    \n",
    "    fig.suptitle(superTitle, color='white')\n",
    "    plt.subplots_adjust(wspace=0.1, hspace=0.1)\n",
    "    plt.show()"
   ]
  },
  {
   "cell_type": "code",
   "execution_count": 97,
   "metadata": {
    "colab": {
     "base_uri": "https://localhost:8080/",
     "height": 303
    },
    "colab_type": "code",
    "id": "h1m50A8Y8MCV",
    "outputId": "f6639f06-bd2a-402f-dc85-49e9bb41c2d3"
   },
   "outputs": [
    {
     "data": {
      "image/png": "[encoded data removed]",
      "text/plain": [
       "<Figure size 1152x360 with 64 Axes>"
      ]
     },
     "metadata": {
      "tags": []
     },
     "output_type": "display_data"
    }
   ],
   "source": [
    "VisualizeFilter(vgg, 'First Conv Layer Learned Filter of VGG')\n"
   ]
  },
  {
   "cell_type": "code",
   "execution_count": 98,
   "metadata": {
    "colab": {
     "base_uri": "https://localhost:8080/",
     "height": 303
    },
    "colab_type": "code",
    "id": "K-rbxEgs8MFz",
    "outputId": "14886a60-a9ce-4f70-984b-15d5611226b4"
   },
   "outputs": [
    {
     "data": {
      "image/png": "[encoded data removed]",
      "text/plain": [
       "<Figure size 1152x360 with 64 Axes>"
      ]
     },
     "metadata": {
      "tags": []
     },
     "output_type": "display_data"
    }
   ],
   "source": [
    "VisualizeFilter(alex, 'First Conv Layer Learned Filter of AlexNet')\n"
   ]
  },
  {
   "cell_type": "markdown",
   "metadata": {
    "colab_type": "text",
    "id": "eGhy7mpZC1oS"
   },
   "source": [
    "## 5.3 Displaying Classification Results"
   ]
  },
  {
   "cell_type": "code",
   "execution_count": 0,
   "metadata": {
    "colab": {},
    "colab_type": "code",
    "id": "t3FsFNaFRrKQ"
   },
   "outputs": [],
   "source": [
    "def getLabels(dataset):\n",
    "    labels = []\n",
    "    for i in range(len(dataset)):\n",
    "        labels.append(dataset[i][1])\n",
    "    return labels\n",
    "    \n",
    "def display_classification_results(y_test, y_pred, labelNames,title=\"Accuracy Heatmap\",show_report=True):\n",
    "    \n",
    "    print(\"Test accuracy: %.2f%%\"%(sklearn.metrics.accuracy_score(y_test, y_pred)*100))\n",
    "    \n",
    "    if show_report:\n",
    "        print(\"Classification Report:\\n\",sklearn.metrics.classification_report(y_test, y_pred))\n",
    "    \n",
    "    conf_mat = sklearn.metrics.confusion_matrix(y_test,y_pred)\n",
    "    print(\"Confusion Matrix:\\n\",conf_mat)\n",
    "    \n",
    "    plt.rcParams['figure.figsize'] = (10.0, 8.0)\n",
    "    ax = sns.heatmap(conf_mat, xticklabels=labelNames, yticklabels=labelNames, annot=True, fmt=\"d\", cbar_kws={'label': 'Num Correct'})\n",
    "    ax.set(title=title, xlabel=\"Actual Classes\", ylabel=\"Predicted Classes\")"
   ]
  },
  {
   "cell_type": "code",
   "execution_count": 0,
   "metadata": {
    "colab": {},
    "colab_type": "code",
    "id": "OowtOJv7Vnvc"
   },
   "outputs": [],
   "source": [
    "def unpickle(file):\n",
    "    import pickle\n",
    "    with open(file, 'rb') as fo:\n",
    "        dict = pickle.load(fo, encoding='bytes')\n",
    "    return dict"
   ]
  },
  {
   "cell_type": "code",
   "execution_count": 101,
   "metadata": {
    "colab": {
     "base_uri": "https://localhost:8080/",
     "height": 187
    },
    "colab_type": "code",
    "id": "KgUni4p_Vfzk",
    "outputId": "e4dc6930-a51f-480d-fbf9-5213d7204bd0"
   },
   "outputs": [
    {
     "data": {
      "text/plain": [
       "['airplane',\n",
       " 'automobile',\n",
       " 'bird',\n",
       " 'cat',\n",
       " 'deer',\n",
       " 'dog',\n",
       " 'frog',\n",
       " 'horse',\n",
       " 'ship',\n",
       " 'truck']"
      ]
     },
     "execution_count": 101,
     "metadata": {
      "tags": []
     },
     "output_type": "execute_result"
    }
   ],
   "source": [
    "metaDataPath = path+'dataset/cifar-10-batches-py/batches.meta'\n",
    "metaData = unpickle(metaDataPath)\n",
    "label_names_bin = 'label_names'.encode('utf-8')\n",
    "labelNames = metaData[label_names_bin]\n",
    "labelNames = [x.decode() for x in labelNames]\n",
    "labelNames"
   ]
  },
  {
   "cell_type": "code",
   "execution_count": 0,
   "metadata": {
    "colab": {},
    "colab_type": "code",
    "id": "i4sjCpPyRrKS"
   },
   "outputs": [],
   "source": [
    "y_test = testLabels = getLabels(test_dataset)"
   ]
  },
  {
   "cell_type": "code",
   "execution_count": 103,
   "metadata": {
    "colab": {
     "base_uri": "https://localhost:8080/",
     "height": 1000
    },
    "colab_type": "code",
    "id": "QaeFhBItRrKU",
    "outputId": "73eea161-a383-40e7-ea7c-df87283196a8"
   },
   "outputs": [
    {
     "name": "stdout",
     "output_type": "stream",
     "text": [
      "Test accuracy: 91.06%\n",
      "Classification Report:\n",
      "               precision    recall  f1-score   support\n",
      "\n",
      "           0       0.93      0.94      0.93      1000\n",
      "           1       0.95      0.96      0.96      1000\n",
      "           2       0.88      0.91      0.89      1000\n",
      "           3       0.85      0.77      0.81      1000\n",
      "           4       0.88      0.91      0.90      1000\n",
      "           5       0.86      0.83      0.84      1000\n",
      "           6       0.92      0.94      0.93      1000\n",
      "           7       0.94      0.94      0.94      1000\n",
      "           8       0.96      0.95      0.96      1000\n",
      "           9       0.94      0.94      0.94      1000\n",
      "\n",
      "    accuracy                           0.91     10000\n",
      "   macro avg       0.91      0.91      0.91     10000\n",
      "weighted avg       0.91      0.91      0.91     10000\n",
      "\n",
      "Confusion Matrix:\n",
      " [[941   5  19   1   4   0   1   2  17  10]\n",
      " [  5 964   0   0   0   0   1   0   5  25]\n",
      " [  9   0 911   9  25  12  21  10   2   1]\n",
      " [  7   2  30 773  34  95  36  10   3  10]\n",
      " [  5   1  35   9 908  10  11  20   1   0]\n",
      " [  4   1  21  90  25 832  11  10   1   5]\n",
      " [  6   0  15  16  11   4 945   2   0   1]\n",
      " [  8   0   7   7  18  18   1 938   1   2]\n",
      " [ 19  11   3   1   1   0   0   2 954   9]\n",
      " [ 13  31   0   3   0   1   1   0  11 940]]\n"
     ]
    },
    {
     "data": {
      "image/png": "[encoded data removed]",
      "text/plain": [
       "<Figure size 720x576 with 2 Axes>"
      ]
     },
     "metadata": {
      "tags": []
     },
     "output_type": "display_data"
    }
   ],
   "source": [
    "display_classification_results(y_test, y_pred_vgg,labelNames ,title=\"Accuracy Heatmap for VGG\",show_report=True)"
   ]
  },
  {
   "cell_type": "code",
   "execution_count": 104,
   "metadata": {
    "colab": {
     "base_uri": "https://localhost:8080/",
     "height": 1000
    },
    "colab_type": "code",
    "id": "dtzRkXEHR2M_",
    "outputId": "411315c9-c82b-44b4-845c-9f44b4cadd2d"
   },
   "outputs": [
    {
     "name": "stdout",
     "output_type": "stream",
     "text": [
      "Test accuracy: 90.05%\n",
      "Classification Report:\n",
      "               precision    recall  f1-score   support\n",
      "\n",
      "           0       0.89      0.93      0.91      1000\n",
      "           1       0.93      0.95      0.94      1000\n",
      "           2       0.88      0.88      0.88      1000\n",
      "           3       0.85      0.77      0.81      1000\n",
      "           4       0.85      0.92      0.88      1000\n",
      "           5       0.89      0.82      0.85      1000\n",
      "           6       0.91      0.95      0.93      1000\n",
      "           7       0.92      0.92      0.92      1000\n",
      "           8       0.95      0.93      0.94      1000\n",
      "           9       0.94      0.93      0.93      1000\n",
      "\n",
      "    accuracy                           0.90     10000\n",
      "   macro avg       0.90      0.90      0.90     10000\n",
      "weighted avg       0.90      0.90      0.90     10000\n",
      "\n",
      "Confusion Matrix:\n",
      " [[932   7  16   4   5   1   0   5  22   8]\n",
      " [  7 955   0   1   1   0   1   0   4  31]\n",
      " [ 20   2 880  20  35  12  20   9   1   1]\n",
      " [ 12   3  37 773  43  67  37  14   9   5]\n",
      " [  3   1  21   8 917   9  21  20   0   0]\n",
      " [  4   0  18  81  40 816  13  25   1   2]\n",
      " [  3   3  21  11   8   4 947   2   1   0]\n",
      " [  9   1  11   9  31   8   2 922   1   6]\n",
      " [ 45  11   1   1   0   0   2   0 932   8]\n",
      " [ 18  40   0   2   1   0   0   0   8 931]]\n"
     ]
    },
    {
     "data": {
      "image/png": "[encoded data removed]",
      "text/plain": [
       "<Figure size 720x576 with 2 Axes>"
      ]
     },
     "metadata": {
      "tags": []
     },
     "output_type": "display_data"
    }
   ],
   "source": [
    "display_classification_results(y_test, y_pred_alex,labelNames , title=\"Accuracy Heatmap for Alex Net\",show_report=True)"
   ]
  },
  {
   "cell_type": "code",
   "execution_count": 105,
   "metadata": {
    "colab": {
     "base_uri": "https://localhost:8080/",
     "height": 1000
    },
    "colab_type": "code",
    "id": "P_oml48Y8Kvi",
    "outputId": "60b3b8bb-d0d5-47c0-ee6f-099dba890856"
   },
   "outputs": [
    {
     "name": "stdout",
     "output_type": "stream",
     "text": [
      "Test accuracy: 95.78%\n",
      "Classification Report:\n",
      "               precision    recall  f1-score   support\n",
      "\n",
      "           0       0.96      0.97      0.97      1000\n",
      "           1       0.98      0.98      0.98      1000\n",
      "           2       0.96      0.96      0.96      1000\n",
      "           3       0.92      0.89      0.90      1000\n",
      "           4       0.95      0.97      0.96      1000\n",
      "           5       0.93      0.92      0.92      1000\n",
      "           6       0.96      0.99      0.97      1000\n",
      "           7       0.98      0.96      0.97      1000\n",
      "           8       0.98      0.97      0.97      1000\n",
      "           9       0.97      0.97      0.97      1000\n",
      "\n",
      "    accuracy                           0.96     10000\n",
      "   macro avg       0.96      0.96      0.96     10000\n",
      "weighted avg       0.96      0.96      0.96     10000\n",
      "\n",
      "Confusion Matrix:\n",
      " [[973   1   6   2   2   0   1   0  12   3]\n",
      " [  2 978   0   0   0   0   0   0   2  18]\n",
      " [  5   0 957  14   9   8   4   1   2   0]\n",
      " [  4   1  15 888  12  52  18   4   3   3]\n",
      " [  1   0   5   6 972   2   6   6   1   1]\n",
      " [  0   0   6  49  10 916   8   8   1   2]\n",
      " [  1   0   5   5   2   0 987   0   0   0]\n",
      " [  5   0   3   6  14   9   0 963   0   0]\n",
      " [ 15   3   2   0   1   0   1   0 972   6]\n",
      " [  7  18   0   0   0   0   0   0   3 972]]\n"
     ]
    },
    {
     "data": {
      "image/png": "[encoded data removed]",
      "text/plain": [
       "<Figure size 720x576 with 2 Axes>"
      ]
     },
     "metadata": {
      "tags": []
     },
     "output_type": "display_data"
    }
   ],
   "source": [
    "display_classification_results(y_test, y_pred_google, labelNames, title=\"Accuracy Heatmap for Google Net\",show_report=True)"
   ]
  },
  {
   "cell_type": "code",
   "execution_count": 106,
   "metadata": {
    "colab": {
     "base_uri": "https://localhost:8080/",
     "height": 1000
    },
    "colab_type": "code",
    "id": "jHNUELre8KzF",
    "outputId": "cd9f9c6d-7705-41b3-9e09-9ac1f2f46ca0"
   },
   "outputs": [
    {
     "name": "stdout",
     "output_type": "stream",
     "text": [
      "Test accuracy: 96.42%\n",
      "Classification Report:\n",
      "               precision    recall  f1-score   support\n",
      "\n",
      "           0       0.97      0.98      0.97      1000\n",
      "           1       0.97      0.99      0.98      1000\n",
      "           2       0.95      0.97      0.96      1000\n",
      "           3       0.92      0.91      0.92      1000\n",
      "           4       0.97      0.98      0.97      1000\n",
      "           5       0.95      0.92      0.93      1000\n",
      "           6       0.98      0.98      0.98      1000\n",
      "           7       0.99      0.98      0.98      1000\n",
      "           8       0.98      0.97      0.97      1000\n",
      "           9       0.98      0.97      0.97      1000\n",
      "\n",
      "    accuracy                           0.96     10000\n",
      "   macro avg       0.96      0.96      0.96     10000\n",
      "weighted avg       0.96      0.96      0.96     10000\n",
      "\n",
      "Confusion Matrix:\n",
      " [[981   1   6   0   2   0   1   0   7   2]\n",
      " [  2 986   1   0   1   0   0   0   1   9]\n",
      " [  5   0 974   8   5   3   3   0   2   0]\n",
      " [  1   1  17 912  10  40  11   2   4   2]\n",
      " [  0   0   7   9 977   2   1   4   0   0]\n",
      " [  1   0  10  51   9 917   4   7   1   0]\n",
      " [  0   0   9   7   1   0 981   0   2   0]\n",
      " [  2   0   4   4   7   2   2 979   0   0]\n",
      " [ 18   6   1   1   0   0   0   0 968   6]\n",
      " [  5  21   0   1   0   0   0   0   6 967]]\n"
     ]
    },
    {
     "data": {
      "image/png": "[encoded data removed]",
      "text/plain": [
       "<Figure size 720x576 with 2 Axes>"
      ]
     },
     "metadata": {
      "tags": []
     },
     "output_type": "display_data"
    }
   ],
   "source": [
    "display_classification_results(y_test, y_pred_resnet,labelNames,title=\"Accuracy Heatmap for Resnet\",show_report=True)"
   ]
  },
  {
   "cell_type": "markdown",
   "metadata": {
    "colab_type": "text",
    "id": "kPxG-49ULNSu"
   },
   "source": [
    "# 6. Visualizing incorrect Predictions by the best model ie. Resnet 30 "
   ]
  },
  {
   "cell_type": "code",
   "execution_count": 0,
   "metadata": {
    "colab": {},
    "colab_type": "code",
    "id": "UVt82TOcLFDD"
   },
   "outputs": [],
   "source": [
    "def visualizePreds(y_test, y_pred, test_dataset, labelNames, visualizeCorrect=False):\n",
    "    \n",
    "    correct = np.array(y_test) == np.array(y_pred)\n",
    "    pos = []\n",
    "    posPredLabel = []\n",
    "    posTrueLabel = []\n",
    "    \n",
    "    if visualizeCorrect:\n",
    "        while len(pos) <= 10:\n",
    "            i = random.randint(0, len(y_pred))\n",
    "            if y_test[i] == y_pred[i]:\n",
    "\n",
    "                \n",
    "                pos.append(i)\n",
    "                posPredLabel.append(y_pred[i])\n",
    "                posTrueLabel.append(y_test[i])\n",
    "\n",
    "    else:\n",
    "        while len(pos) <= 10:\n",
    "            i = random.randint(0, len(y_pred))\n",
    "            if y_test[i] != y_pred[i]:\n",
    "                pos.append(i)\n",
    "                posPredLabel.append(y_pred[i])\n",
    "                posTrueLabel.append(y_test[i])\n",
    "                \n",
    "    \n",
    "    fig, ax = plt.subplots(nrows=5, ncols=2, figsize=(16,16))\n",
    "\n",
    "    i = 0\n",
    "    for row in ax:\n",
    "        for col in row:\n",
    "            img = test_dataset[pos[i]][0]\n",
    "#             img = np.rollaxis(np.array(img),0,3)\n",
    "            minVal = float(img.min())\n",
    "            maxVal = float(img.max())\n",
    "            col.imshow(toimage(img.data.numpy(), minVal, maxVal))\n",
    "            col.set_title('True Label: '+str(y_test[pos[i]])+' '+labelNames[y_test[pos[i]]]+'\\n Pred Label: '+str(y_pred[pos[i]])+' '+labelNames[y_pred[pos[i]]])\n",
    "            col.set_xticks([])\n",
    "            col.set_yticks([])\n",
    "            i += 1\n",
    "            \n",
    "    plt.tight_layout()\n",
    "    plt.show()"
   ]
  },
  {
   "cell_type": "code",
   "execution_count": 0,
   "metadata": {
    "colab": {},
    "colab_type": "code",
    "id": "JqjSey80NROr"
   },
   "outputs": [],
   "source": [
    "def toimage(imgArray, minVal, maxVal):\n",
    "    \n",
    "    minVal = -1 * minVal    \n",
    "    imgArray = np.rollaxis(np.array(imgArray),0,3)\n",
    "    if len(imgArray.shape) == 3:\n",
    "\n",
    "        processed = []\n",
    "        for channel in range(3):\n",
    "            channelImg = imgArray[:,:, channel]\n",
    "\n",
    "            for i in range(imgArray.shape[0]):\n",
    "                for j in range(imgArray.shape[1]):\n",
    "                    channelImg[i,j] = (channelImg[i,j] + minVal) / (minVal+maxVal) \n",
    "\n",
    "            processed.append(channelImg)\n",
    "\n",
    "        img = np.rollaxis(np.array(processed),0,3)\n",
    "    else:\n",
    "        img = imgArray[:,:]\n",
    "\n",
    "        for i in range(imgArray.shape[0]):\n",
    "            for j in range(imgArray.shape[1]):\n",
    "                img[i,j] = (img[i,j]+1)/2\n",
    "            \n",
    "       \n",
    "    return img"
   ]
  },
  {
   "cell_type": "code",
   "execution_count": 147,
   "metadata": {
    "colab": {
     "base_uri": "https://localhost:8080/",
     "height": 1000
    },
    "colab_type": "code",
    "id": "16qtyWBILFsb",
    "outputId": "86499650-aab5-4ad6-b3f6-4c9fe21876fa"
   },
   "outputs": [
    {
     "data": {
      "image/png": "[encoded data removed]",
      "text/plain": [
       "<Figure size 1152x1152 with 10 Axes>"
      ]
     },
     "metadata": {
      "tags": []
     },
     "output_type": "display_data"
    }
   ],
   "source": [
    "# Visualizing incorrect predictions\n",
    "visualizePreds(y_test, y_pred_resnet,test_dataset, labelNames)"
   ]
  },
  {
   "cell_type": "code",
   "execution_count": 0,
   "metadata": {
    "colab": {},
    "colab_type": "code",
    "id": "dtMid2PJUjXX"
   },
   "outputs": [],
   "source": []
  }
 ],
 "metadata": {
  "accelerator": "GPU",
  "colab": {
   "collapsed_sections": [],
   "name": "cifar10TransferLearningFinal.ipynb",
   "provenance": [],
   "version": "0.3.2"
  },
  "kernelspec": {
   "display_name": "Python 3",
   "language": "python",
   "name": "python3"
  },
  "language_info": {
   "codemirror_mode": {
    "name": "ipython",
    "version": 3
   },
   "file_extension": ".py",
   "mimetype": "text/x-python",
   "name": "python",
   "nbconvert_exporter": "python",
   "pygments_lexer": "ipython3",
   "version": "3.6.8"
  }
 },
 "nbformat": 4,
 "nbformat_minor": 1
}

{
 "cells": [
  {
   "cell_type": "code",
   "execution_count": 1,
   "metadata": {},
   "outputs": [
    {
     "data": {
      "text/html": [
       "<style>.container { width:100% !important; }</style>"
      ],
      "text/plain": [
       "<IPython.core.display.HTML object>"
      ]
     },
     "metadata": {},
     "output_type": "display_data"
    }
   ],
   "source": [
    "from IPython.core.display import display, HTML\n",
    "display(HTML(\"<style>.container { width:100% !important; }</style>\"))"
   ]
  },
  {
   "cell_type": "code",
   "execution_count": 2,
   "metadata": {},
   "outputs": [],
   "source": [
    "import torch\n",
    "import torch.nn as nn\n",
    "import torchvision\n",
    "import torchvision.transforms as transforms\n",
    "import numpy as np\n",
    "import matplotlib.pyplot as plt\n",
    "import os\n",
    "import cv2\n",
    "import random\n",
    "from scipy.misc import toimage\n",
    "import matplotlib.gridspec as gridspec\n",
    "from matplotlib.ticker import MaxNLocator\n",
    "import PIL\n",
    "import sys\n",
    "import seaborn as sns\n",
    "import sklearn.metrics\n",
    "import pickle"
   ]
  },
  {
   "cell_type": "code",
   "execution_count": 3,
   "metadata": {},
   "outputs": [],
   "source": [
    "import warnings\n",
    "warnings.filterwarnings(\"ignore\")"
   ]
  },
  {
   "cell_type": "code",
   "execution_count": 4,
   "metadata": {},
   "outputs": [
    {
     "name": "stdout",
     "output_type": "stream",
     "text": [
      "tensor([[ 0.0000e+00,  0.0000e+00,  0.0000e+00],\n",
      "        [ 0.0000e+00,  1.4013e-45,  0.0000e+00],\n",
      "        [ 0.0000e+00,  0.0000e+00, -1.6339e-36],\n",
      "        [ 4.5590e-41, -4.7332e-05,  3.0822e-41],\n",
      "        [ 0.0000e+00,  0.0000e+00,  1.0965e-38]], device='cuda:1')\n"
     ]
    }
   ],
   "source": [
    "torch.cuda.set_device(1)\n",
    "x=torch.Tensor(5,3)\n",
    "print(x.cuda())"
   ]
  },
  {
   "cell_type": "code",
   "execution_count": 5,
   "metadata": {},
   "outputs": [
    {
     "name": "stdout",
     "output_type": "stream",
     "text": [
      "1.1.0a0+828a6a3\n"
     ]
    }
   ],
   "source": [
    "print(torch.__version__)"
   ]
  },
  {
   "cell_type": "code",
   "execution_count": 23,
   "metadata": {},
   "outputs": [],
   "source": [
    "data_aug = True \n",
    "early_stopping = True"
   ]
  },
  {
   "cell_type": "code",
   "execution_count": 24,
   "metadata": {},
   "outputs": [],
   "source": [
    "data_aug_transforms = []\n",
    "\n",
    "if data_aug == True:\n",
    "\n",
    "    data_aug_transforms = [\n",
    "        transforms.RandomCrop((32,32), padding=4),\n",
    "#         transforms.RandomHorizontalFlip(),\n",
    "#         transforms.RandomRotation(15),\n",
    "#         transforms.RandomAffine(degrees=0, translate=(.3,.7)),\n",
    "#         transforms.ColorJitter(\n",
    "#                 brightness=float(0.1*np.random.rand(1)),\n",
    "#                 contrast=float(0.1*np.random.rand(1)),\n",
    "#                 saturation=float(0.1*np.random.rand(1)),\n",
    "#                 hue=float(0.1*np.random.rand(1))),\n",
    "#         \n",
    "#         transforms.Resize((224,224)),\n",
    "        transforms.ColorJitter(hue=.25, saturation=.25),\n",
    "        transforms.RandomHorizontalFlip(),\n",
    "        transforms.RandomRotation(20, resample=PIL.Image.BILINEAR),\n",
    "        transforms.RandomGrayscale(p=0.1)\n",
    "                    ]"
   ]
  },
  {
   "cell_type": "code",
   "execution_count": 25,
   "metadata": {},
   "outputs": [],
   "source": [
    "norm_transform = transforms.Compose(data_aug_transforms+[transforms.ToTensor(),\n",
    "                                     transforms.Normalize((0.5, 0.5, 0.5), (0.5, 0.5, 0.5))\n",
    "                                     ])\n",
    "test_transform = transforms.Compose([transforms.ToTensor(),\n",
    "                                     transforms.Normalize((0.5, 0.5, 0.5), (0.5, 0.5, 0.5))\n",
    "                                     ])"
   ]
  },
  {
   "cell_type": "code",
   "execution_count": 26,
   "metadata": {},
   "outputs": [],
   "source": [
    "# cifar_dataset = torchvision.datasets.CIFAR10(root='dataset/',\n",
    "#                                            train=True,\n",
    "#                                            transform=norm_transform,\n",
    "#                                            download=False)\n",
    "\n",
    "# test_dataset = torchvision.datasets.CIFAR10(root='dataset/',\n",
    "#                                           train=False,\n",
    "#                                           transform=test_transform)"
   ]
  },
  {
   "cell_type": "code",
   "execution_count": 27,
   "metadata": {},
   "outputs": [],
   "source": [
    "cifar_dataset = torchvision.datasets.CIFAR10(root='../dataset/',\n",
    "                                           train=True,\n",
    "                                           transform=norm_transform,\n",
    "                                           download=False)\n",
    "\n",
    "test_dataset = torchvision.datasets.CIFAR10(root='../dataset/',\n",
    "                                          train=False,\n",
    "                                          transform=test_transform)"
   ]
  },
  {
   "cell_type": "code",
   "execution_count": 28,
   "metadata": {},
   "outputs": [
    {
     "data": {
      "text/plain": [
       "<torch._C.Generator at 0x7f1674ed89d0>"
      ]
     },
     "execution_count": 28,
     "metadata": {},
     "output_type": "execute_result"
    }
   ],
   "source": [
    "n = 2\n",
    "np.random.seed(n)\n",
    "torch.cuda.manual_seed_all(n)\n",
    "torch.manual_seed(n)"
   ]
  },
  {
   "cell_type": "code",
   "execution_count": 29,
   "metadata": {},
   "outputs": [],
   "source": [
    "def weights_init(m):\n",
    "    if type(m) == nn.Linear:\n",
    "        nn.init.normal_(m.weight.data, mean=0.0, std=1e-3)\n",
    "        m.bias.data.fill_(0.0)\n",
    "        \n",
    "    if isinstance(m, nn.Conv2d):\n",
    "        nn.init.xavier_normal_(m.weight.data) \n",
    "        m.bias.data.fill_(0.0)\n",
    "\n",
    "def update_lr(optimizer, lr):\n",
    "    for param_group in optimizer.param_groups:\n",
    "        param_group['lr'] = lr"
   ]
  },
  {
   "cell_type": "code",
   "execution_count": 30,
   "metadata": {},
   "outputs": [
    {
     "name": "stdout",
     "output_type": "stream",
     "text": [
      "Using device: cuda\n"
     ]
    }
   ],
   "source": [
    "device = torch.device('cuda' if torch.cuda.is_available() else 'cpu')\n",
    "print('Using device: %s'%device)"
   ]
  },
  {
   "cell_type": "code",
   "execution_count": 32,
   "metadata": {},
   "outputs": [],
   "source": [
    "mask = list(range(num_training))\n",
    "train_dataset = torch.utils.data.Subset(cifar_dataset, mask)\n",
    "mask = list(range(num_training, num_training + num_validation))\n",
    "val_dataset = torch.utils.data.Subset(cifar_dataset, mask)\n",
    "\n",
    "train_loader = torch.utils.data.DataLoader(dataset=train_dataset,\n",
    "                                           batch_size=batch_size,\n",
    "                                           shuffle=True)\n",
    "\n",
    "val_loader = torch.utils.data.DataLoader(dataset=val_dataset,\n",
    "                                           batch_size=batch_size,\n",
    "                                           shuffle=False)\n",
    "\n",
    "test_loader = torch.utils.data.DataLoader(dataset=test_dataset,\n",
    "                                          batch_size=batch_size,\n",
    "                                          shuffle=False)"
   ]
  },
  {
   "cell_type": "code",
   "execution_count": 38,
   "metadata": {},
   "outputs": [],
   "source": [
    "class ConvNet(nn.Module):\n",
    "    def __init__(self, input_size, hidden_layers, num_classes, dropout):\n",
    "        super(ConvNet, self).__init__()\n",
    "            \n",
    "        self.conv = nn.Sequential(\n",
    "                    nn.Conv2d(in_channels=input_size, out_channels=hidden_layers[0], kernel_size=3, stride=1, padding=1),\n",
    "                    nn.BatchNorm2d(hidden_layers[0]),\n",
    "                    nn.MaxPool2d(kernel_size=2, stride=2),\n",
    "                    nn.ReLU(),\n",
    "                    nn.Dropout2d(dropout),\n",
    "\n",
    "                    nn.Conv2d(in_channels=hidden_layers[0], out_channels=hidden_layers[1], kernel_size=3, stride=1, padding=1),\n",
    "                    nn.BatchNorm2d(hidden_layers[1]),\n",
    "                    nn.MaxPool2d(kernel_size=2, stride=2),\n",
    "                    nn.ReLU(),\n",
    "                    nn.Dropout2d(dropout),\n",
    "\n",
    "                    nn.Conv2d(in_channels=hidden_layers[1], out_channels=hidden_layers[2], kernel_size=3, stride=1, padding=1),\n",
    "                    nn.BatchNorm2d(hidden_layers[2]),\n",
    "                    nn.MaxPool2d(kernel_size=2, stride=2),\n",
    "                    nn.ReLU(),\n",
    "                    nn.Dropout2d(dropout),\n",
    "\n",
    "                    nn.Conv2d(in_channels=hidden_layers[2], out_channels=hidden_layers[3], kernel_size=3, stride=1, padding=1),\n",
    "                    nn.BatchNorm2d(hidden_layers[3]),\n",
    "                    nn.MaxPool2d(kernel_size=2, stride=2),\n",
    "                    nn.ReLU(),\n",
    "                    nn.Dropout2d(dropout),\n",
    "\n",
    "                    nn.Conv2d(in_channels=hidden_layers[3], out_channels=hidden_layers[4], kernel_size=3, stride=1, padding=1),\n",
    "                    nn.BatchNorm2d(hidden_layers[4]),\n",
    "                    nn.MaxPool2d(kernel_size=2, stride=2),\n",
    "                    nn.ReLU(),\n",
    "                    nn.Dropout2d(dropout)    )\n",
    "\n",
    "        self.fc = nn.Sequential(\n",
    "                    nn.Linear(hidden_layers[4], hidden_layers[5]),\n",
    "                    nn.BatchNorm1d(hidden_layers[5]),\n",
    "                    nn.ReLU(),\n",
    "\n",
    "                    nn.Linear(hidden_layers[5], num_classes)\n",
    "                        )\n",
    "\n",
    "    def forward(self, x):\n",
    "        \n",
    "        x = self.conv(x)\n",
    "        x = x.squeeze()\n",
    "        out = self.fc(x)\n",
    "        \n",
    "        return out"
   ]
  },
  {
   "cell_type": "code",
   "execution_count": 39,
   "metadata": {},
   "outputs": [],
   "source": [
    "def PrintModelSize(model, disp=True):\n",
    "    model_sz = sum(p.numel() for p in model.parameters() if p.requires_grad)\n",
    "    print(\"Number of trainable parameters = \",model_sz)\n",
    "    return model_sz"
   ]
  },
  {
   "cell_type": "code",
   "execution_count": 95,
   "metadata": {},
   "outputs": [],
   "source": [
    "def VisualizeFilter(model, superTitle):\n",
    "    \n",
    "    tensor = torch.ones(model.conv[0].weight.data.size())\n",
    "    tensor = model.conv[0].weight.clone().detach().requires_grad_(False)\n",
    "    tensor = tensor.cpu().data.numpy()\n",
    "    \n",
    "    t_max = np.amax(tensor)\n",
    "    t_min = np.amin(tensor)\n",
    "\n",
    "    tensor = (tensor - t_min) / (t_max - t_min) \n",
    "\n",
    "    num_cols = 16\n",
    "    num_kernels = tensor.shape[0]\n",
    "    num_rows = 1+ num_kernels // num_cols\n",
    "    fig = plt.figure(figsize=(num_cols,num_rows))\n",
    "    fig.set_facecolor(\"black\")\n",
    "\n",
    "    for i in range(tensor.shape[0]):\n",
    "        ax1 = fig.add_subplot(num_rows,num_cols,i+1)\n",
    "        ax1.imshow(tensor[i],)\n",
    "        ax1.axis('off')\n",
    "        ax1.set_xticklabels([])\n",
    "        ax1.set_yticklabels([])\n",
    "    \n",
    "    fig.suptitle(superTitle, color='white')\n",
    "    plt.subplots_adjust(wspace=0.1, hspace=0.1)\n",
    "    plt.show()"
   ]
  },
  {
   "cell_type": "code",
   "execution_count": 85,
   "metadata": {},
   "outputs": [],
   "source": [
    "input_size = 3\n",
    "num_classes = 10\n",
    "hidden_size = [128, 512, 512, 512, 512, 512]\n",
    "num_epochs = 2\n",
    "batch_size = 200\n",
    "learning_rate = 2e-3\n",
    "learning_rate_decay = 0.95\n",
    "reg=0.001\n",
    "num_training= 49000\n",
    "num_validation =1000"
   ]
  },
  {
   "cell_type": "code",
   "execution_count": 86,
   "metadata": {},
   "outputs": [],
   "source": [
    "dropoutVals = [i/10 for i in range(1,10)]\n",
    "dropoutVals = [.1,.2,.3]"
   ]
  },
  {
   "cell_type": "code",
   "execution_count": 89,
   "metadata": {
    "scrolled": true
   },
   "outputs": [
    {
     "name": "stdout",
     "output_type": "stream",
     "text": [
      "######################################################################\n",
      "Current value of dropout is: 0.1\n",
      "######################################################################\n",
      "ConvNet(\n",
      "  (conv): Sequential(\n",
      "    (0): Conv2d(3, 128, kernel_size=(3, 3), stride=(1, 1), padding=(1, 1))\n",
      "    (1): BatchNorm2d(128, eps=1e-05, momentum=0.1, affine=True, track_running_stats=True)\n",
      "    (2): MaxPool2d(kernel_size=2, stride=2, padding=0, dilation=1, ceil_mode=False)\n",
      "    (3): ReLU()\n",
      "    (4): Dropout2d(p=0.1)\n",
      "    (5): Conv2d(128, 512, kernel_size=(3, 3), stride=(1, 1), padding=(1, 1))\n",
      "    (6): BatchNorm2d(512, eps=1e-05, momentum=0.1, affine=True, track_running_stats=True)\n",
      "    (7): MaxPool2d(kernel_size=2, stride=2, padding=0, dilation=1, ceil_mode=False)\n",
      "    (8): ReLU()\n",
      "    (9): Dropout2d(p=0.1)\n",
      "    (10): Conv2d(512, 512, kernel_size=(3, 3), stride=(1, 1), padding=(1, 1))\n",
      "    (11): BatchNorm2d(512, eps=1e-05, momentum=0.1, affine=True, track_running_stats=True)\n",
      "    (12): MaxPool2d(kernel_size=2, stride=2, padding=0, dilation=1, ceil_mode=False)\n",
      "    (13): ReLU()\n",
      "    (14): Dropout2d(p=0.1)\n",
      "    (15): Conv2d(512, 512, kernel_size=(3, 3), stride=(1, 1), padding=(1, 1))\n",
      "    (16): BatchNorm2d(512, eps=1e-05, momentum=0.1, affine=True, track_running_stats=True)\n",
      "    (17): MaxPool2d(kernel_size=2, stride=2, padding=0, dilation=1, ceil_mode=False)\n",
      "    (18): ReLU()\n",
      "    (19): Dropout2d(p=0.1)\n",
      "    (20): Conv2d(512, 512, kernel_size=(3, 3), stride=(1, 1), padding=(1, 1))\n",
      "    (21): BatchNorm2d(512, eps=1e-05, momentum=0.1, affine=True, track_running_stats=True)\n",
      "    (22): MaxPool2d(kernel_size=2, stride=2, padding=0, dilation=1, ceil_mode=False)\n",
      "    (23): ReLU()\n",
      "    (24): Dropout2d(p=0.1)\n",
      "  )\n",
      "  (fc): Sequential(\n",
      "    (0): Linear(in_features=512, out_features=512, bias=True)\n",
      "    (1): BatchNorm1d(512, eps=1e-05, momentum=0.1, affine=True, track_running_stats=True)\n",
      "    (2): ReLU()\n",
      "    (3): Linear(in_features=512, out_features=10, bias=True)\n",
      "  )\n",
      ")\n",
      "Number of trainable parameters =  7946506\n",
      "Epoch [1/2], Step [100/245], Loss: 1.6532\n",
      "Epoch [1/2], Step [200/245], Loss: 1.6324\n",
      "Validataion accuracy is: 45.9 %\n",
      "Epoch [2/2], Step [100/245], Loss: 1.4610\n",
      "Epoch [2/2], Step [200/245], Loss: 1.4506\n",
      "Validataion accuracy is: 50.7 %\n",
      "Testing .................\n",
      "Accuracy of the best network on the 10000 test images: 56.44 %\n",
      "Best Epoch:  2\n",
      "Accuracy of the last network on the 10000 test images: 56.44 %\n",
      "######################################################################\n",
      "Current value of dropout is: 0.2\n",
      "######################################################################\n",
      "ConvNet(\n",
      "  (conv): Sequential(\n",
      "    (0): Conv2d(3, 128, kernel_size=(3, 3), stride=(1, 1), padding=(1, 1))\n",
      "    (1): BatchNorm2d(128, eps=1e-05, momentum=0.1, affine=True, track_running_stats=True)\n",
      "    (2): MaxPool2d(kernel_size=2, stride=2, padding=0, dilation=1, ceil_mode=False)\n",
      "    (3): ReLU()\n",
      "    (4): Dropout2d(p=0.2)\n",
      "    (5): Conv2d(128, 512, kernel_size=(3, 3), stride=(1, 1), padding=(1, 1))\n",
      "    (6): BatchNorm2d(512, eps=1e-05, momentum=0.1, affine=True, track_running_stats=True)\n",
      "    (7): MaxPool2d(kernel_size=2, stride=2, padding=0, dilation=1, ceil_mode=False)\n",
      "    (8): ReLU()\n",
      "    (9): Dropout2d(p=0.2)\n",
      "    (10): Conv2d(512, 512, kernel_size=(3, 3), stride=(1, 1), padding=(1, 1))\n",
      "    (11): BatchNorm2d(512, eps=1e-05, momentum=0.1, affine=True, track_running_stats=True)\n",
      "    (12): MaxPool2d(kernel_size=2, stride=2, padding=0, dilation=1, ceil_mode=False)\n",
      "    (13): ReLU()\n",
      "    (14): Dropout2d(p=0.2)\n",
      "    (15): Conv2d(512, 512, kernel_size=(3, 3), stride=(1, 1), padding=(1, 1))\n",
      "    (16): BatchNorm2d(512, eps=1e-05, momentum=0.1, affine=True, track_running_stats=True)\n",
      "    (17): MaxPool2d(kernel_size=2, stride=2, padding=0, dilation=1, ceil_mode=False)\n",
      "    (18): ReLU()\n",
      "    (19): Dropout2d(p=0.2)\n",
      "    (20): Conv2d(512, 512, kernel_size=(3, 3), stride=(1, 1), padding=(1, 1))\n",
      "    (21): BatchNorm2d(512, eps=1e-05, momentum=0.1, affine=True, track_running_stats=True)\n",
      "    (22): MaxPool2d(kernel_size=2, stride=2, padding=0, dilation=1, ceil_mode=False)\n",
      "    (23): ReLU()\n",
      "    (24): Dropout2d(p=0.2)\n",
      "  )\n",
      "  (fc): Sequential(\n",
      "    (0): Linear(in_features=512, out_features=512, bias=True)\n",
      "    (1): BatchNorm1d(512, eps=1e-05, momentum=0.1, affine=True, track_running_stats=True)\n",
      "    (2): ReLU()\n",
      "    (3): Linear(in_features=512, out_features=10, bias=True)\n",
      "  )\n",
      ")\n",
      "Number of trainable parameters =  7946506\n",
      "Epoch [1/2], Step [100/245], Loss: 1.8183\n",
      "Epoch [1/2], Step [200/245], Loss: 1.6446\n",
      "Validataion accuracy is: 43.4 %\n",
      "Epoch [2/2], Step [100/245], Loss: 1.6344\n",
      "Epoch [2/2], Step [200/245], Loss: 1.5335\n",
      "Validataion accuracy is: 48.3 %\n",
      "Testing .................\n",
      "Accuracy of the best network on the 10000 test images: 55.01 %\n",
      "Best Epoch:  2\n",
      "Accuracy of the last network on the 10000 test images: 55.01 %\n",
      "######################################################################\n",
      "Current value of dropout is: 0.3\n",
      "######################################################################\n",
      "ConvNet(\n",
      "  (conv): Sequential(\n",
      "    (0): Conv2d(3, 128, kernel_size=(3, 3), stride=(1, 1), padding=(1, 1))\n",
      "    (1): BatchNorm2d(128, eps=1e-05, momentum=0.1, affine=True, track_running_stats=True)\n",
      "    (2): MaxPool2d(kernel_size=2, stride=2, padding=0, dilation=1, ceil_mode=False)\n",
      "    (3): ReLU()\n",
      "    (4): Dropout2d(p=0.3)\n",
      "    (5): Conv2d(128, 512, kernel_size=(3, 3), stride=(1, 1), padding=(1, 1))\n",
      "    (6): BatchNorm2d(512, eps=1e-05, momentum=0.1, affine=True, track_running_stats=True)\n",
      "    (7): MaxPool2d(kernel_size=2, stride=2, padding=0, dilation=1, ceil_mode=False)\n",
      "    (8): ReLU()\n",
      "    (9): Dropout2d(p=0.3)\n",
      "    (10): Conv2d(512, 512, kernel_size=(3, 3), stride=(1, 1), padding=(1, 1))\n",
      "    (11): BatchNorm2d(512, eps=1e-05, momentum=0.1, affine=True, track_running_stats=True)\n",
      "    (12): MaxPool2d(kernel_size=2, stride=2, padding=0, dilation=1, ceil_mode=False)\n",
      "    (13): ReLU()\n",
      "    (14): Dropout2d(p=0.3)\n",
      "    (15): Conv2d(512, 512, kernel_size=(3, 3), stride=(1, 1), padding=(1, 1))\n",
      "    (16): BatchNorm2d(512, eps=1e-05, momentum=0.1, affine=True, track_running_stats=True)\n",
      "    (17): MaxPool2d(kernel_size=2, stride=2, padding=0, dilation=1, ceil_mode=False)\n",
      "    (18): ReLU()\n",
      "    (19): Dropout2d(p=0.3)\n",
      "    (20): Conv2d(512, 512, kernel_size=(3, 3), stride=(1, 1), padding=(1, 1))\n",
      "    (21): BatchNorm2d(512, eps=1e-05, momentum=0.1, affine=True, track_running_stats=True)\n",
      "    (22): MaxPool2d(kernel_size=2, stride=2, padding=0, dilation=1, ceil_mode=False)\n",
      "    (23): ReLU()\n",
      "    (24): Dropout2d(p=0.3)\n",
      "  )\n",
      "  (fc): Sequential(\n",
      "    (0): Linear(in_features=512, out_features=512, bias=True)\n",
      "    (1): BatchNorm1d(512, eps=1e-05, momentum=0.1, affine=True, track_running_stats=True)\n",
      "    (2): ReLU()\n",
      "    (3): Linear(in_features=512, out_features=10, bias=True)\n",
      "  )\n",
      ")\n",
      "Number of trainable parameters =  7946506\n",
      "Epoch [1/2], Step [100/245], Loss: 1.9042\n",
      "Epoch [1/2], Step [200/245], Loss: 1.6937\n",
      "Validataion accuracy is: 38.6 %\n",
      "Epoch [2/2], Step [100/245], Loss: 1.6933\n",
      "Epoch [2/2], Step [200/245], Loss: 1.6022\n",
      "Validataion accuracy is: 45.5 %\n",
      "Testing .................\n",
      "Accuracy of the best network on the 10000 test images: 49.16 %\n",
      "Best Epoch:  2\n",
      "Accuracy of the last network on the 10000 test images: 49.16 %\n"
     ]
    }
   ],
   "source": [
    "listOfAllLosses = []\n",
    "listOfAllValAccs = []\n",
    "\n",
    "testAcc = []\n",
    "trainAcc = []\n",
    "\n",
    "for dropout in dropoutVals :\n",
    "\n",
    "    print(\"######################################################################\")\n",
    "    print(\"Current value of dropout is:\", dropout)\n",
    "    print(\"######################################################################\")\n",
    "\n",
    "    model = ConvNet(input_size, hidden_size, num_classes, dropout).to(device)\n",
    "    model.apply(weights_init)\n",
    "    \n",
    "    # Print the model\n",
    "    print(model)\n",
    "    \n",
    "    # Print model size\n",
    "    PrintModelSize(model)\n",
    "\n",
    "    # Loss and optimizer\n",
    "    criterion = nn.CrossEntropyLoss()\n",
    "    optimizer = torch.optim.Adam(model.parameters(), lr=learning_rate, weight_decay=reg)\n",
    "\n",
    "    # Train the model\n",
    "    lr = learning_rate\n",
    "    total_step = len(train_loader)\n",
    "\n",
    "    losses = []\n",
    "    valAcc = []\n",
    "    \n",
    "    for epoch in range(num_epochs):\n",
    "        for i, (images, labels) in enumerate(train_loader):\n",
    "            # Move tensors to the configured device\n",
    "            images = images.to(device)\n",
    "            labels = labels.to(device)\n",
    "\n",
    "            # Forward pass\n",
    "            outputs = model(images)\n",
    "\n",
    "            loss = criterion(outputs, labels)\n",
    "            losses.append(loss)\n",
    "\n",
    "            # Backward and optimize\n",
    "            optimizer.zero_grad()\n",
    "            loss.backward()\n",
    "            optimizer.step()\n",
    "\n",
    "            if (i+1) % 100 == 0:\n",
    "                print ('Epoch [{}/{}], Step [{}/{}], Loss: {:.4f}'\n",
    "                    .format(epoch+1, num_epochs, i+1, total_step, loss.item()))\n",
    "\n",
    "        # Code to update the lr\n",
    "        lr *= learning_rate_decay\n",
    "        update_lr(optimizer, lr)\n",
    "        model.eval()\n",
    "        with torch.no_grad():\n",
    "            correct = 0\n",
    "            total = 0\n",
    "            for images, labels in val_loader:\n",
    "                images = images.to(device)\n",
    "                labels = labels.to(device)\n",
    "                outputs = model(images)\n",
    "                _, predicted = torch.max(outputs.data, 1)\n",
    "                total += labels.size(0)\n",
    "                correct += (predicted == labels).sum().item()\n",
    "\n",
    "            print('Validataion accuracy is: {} %'.format(100 * correct / total))\n",
    "            best_model = None\n",
    "        \n",
    "            current_valAcc = 100 * correct / total\n",
    "            valAcc.append(current_valAcc)\n",
    "\n",
    "            if early_stopping == True:\n",
    "                if current_valAcc >= np.amax(valAcc):\n",
    "                    torch.save(model.state_dict(), 'CNN_models/ES/model'+str(epoch+1)+'.ckpt')\n",
    "\n",
    "        model.train()\n",
    "\n",
    "    trainAcc.append(100 * correct / total)    \n",
    "        \n",
    "    \n",
    "    # Test the model\n",
    "    print('Testing .................')\n",
    "    \n",
    "    model.eval()\n",
    "    if early_stopping == True:\n",
    "        last_model = model\n",
    "        best_id = np.argmax(valAcc)\n",
    "        bestESmodel = ConvNet(input_size, hidden_size, num_classes, dropout).to(device)\n",
    "        bestESmodel.load_state_dict(torch.load('CNN_models/ES/model'+str(best_id+1)+'.ckpt'))\n",
    "        bestESmodel.eval()\n",
    "        \n",
    "    with torch.no_grad():\n",
    "        correct = 0\n",
    "        total = 0\n",
    "        for images, labels in test_loader:\n",
    "            images = images.to(device)\n",
    "            labels = labels.to(device)\n",
    "            outputs = bestESmodel(images)\n",
    "            _, predicted = torch.max(outputs.data, 1)\n",
    "            total += labels.size(0)\n",
    "            correct += (predicted == labels).sum().item()\n",
    "\n",
    "        print('Accuracy of the best network on the {} test images: {} %'.format(total, 100 * correct / total))\n",
    "        testAcc.append(100 * correct / total)\n",
    "        if early_stopping: \n",
    "            print(\"Best Epoch: \", best_id+1)\n",
    "\n",
    "            with torch.no_grad():\n",
    "                correct = 0\n",
    "                total = 0\n",
    "                for images, labels in test_loader:\n",
    "                    images = images.to(device)\n",
    "                    labels = labels.to(device)\n",
    "                    outputs = last_model(images)\n",
    "                    _, predicted = torch.max(outputs.data, 1)\n",
    "                    total += labels.size(0)\n",
    "                    correct += (predicted == labels).sum().item()\n",
    "\n",
    "                print('Accuracy of the last network on the {} test images: {} %'.format(total, 100 * correct / total))\n",
    "    \n",
    "    torch.save(bestESmodel.state_dict(), 'CNN_models/bestESModel'+str(dropout)+'.ckpt')\n",
    "    \n",
    "    listOfAllLosses.append(losses)\n",
    "    listOfAllTestAccs.append(testAcc)\n",
    "    listOfAllTrainAccs.append(trainAcc)\n",
    "    listOfAllValAccs.append(valAcc)"
   ]
  },
  {
   "cell_type": "code",
   "execution_count": 90,
   "metadata": {},
   "outputs": [
    {
     "data": {
      "image/png": "[encoded data removed]",
      "text/plain": [
       "<Figure size 432x288 with 1 Axes>"
      ]
     },
     "metadata": {
      "needs_background": "light"
     },
     "output_type": "display_data"
    },
    {
     "data": {
      "image/png": "[encoded data removed]",
      "text/plain": [
       "<Figure size 432x288 with 1 Axes>"
      ]
     },
     "metadata": {
      "needs_background": "light"
     },
     "output_type": "display_data"
    },
    {
     "data": {
      "image/png": "[encoded data removed]",
      "text/plain": [
       "<Figure size 432x288 with 1 Axes>"
      ]
     },
     "metadata": {
      "needs_background": "light"
     },
     "output_type": "display_data"
    }
   ],
   "source": [
    "PosOfbestDropoutValue = np.argmax(testAcc)\n",
    "plt.plot(listOfAllValAccs[PosOfbestDropoutValue], label = \"Val Acc\")\n",
    "plt.xlabel(\"Epochs\")\n",
    "plt.ylabel(\"Validation Accuracy\")\n",
    "plt.title('Val Acc v/s Epochs for best value of dropout ='+str(dropoutVals[PosOfbestDropoutValue]))\n",
    "plt.legend(loc=\"upper right\")\n",
    "plt.show()\n",
    "\n",
    "plt.plot(listOfAllLosses[PosOfbestDropoutValue], label = \"Loss\")\n",
    "plt.xlabel(\"Iterations\")\n",
    "plt.ylabel(\"Loss\")\n",
    "plt.title('Loss v/s Iterations for best value of dropout ='+str(dropoutVals[PosOfbestDropoutValue]))\n",
    "plt.legend(loc=\"upper right\")\n",
    "plt.show()\n",
    "\n",
    "plt.plot(dropoutVals, testAcc, label = \"Test Acc\")\n",
    "plt.plot(dropoutVals, trainAcc, label = \"Train Acc\")\n",
    "plt.xlabel(\"Dropout Probability\")\n",
    "plt.ylabel(\"Accuracy\")\n",
    "plt.title('Dropout v/s Accuracy')\n",
    "plt.legend(loc=\"upper right\")\n",
    "plt.show()"
   ]
  },
  {
   "cell_type": "code",
   "execution_count": 91,
   "metadata": {},
   "outputs": [
    {
     "name": "stdout",
     "output_type": "stream",
     "text": [
      "ConvNet(\n",
      "  (conv): Sequential(\n",
      "    (0): Conv2d(3, 128, kernel_size=(3, 3), stride=(1, 1), padding=(1, 1))\n",
      "    (1): BatchNorm2d(128, eps=1e-05, momentum=0.1, affine=True, track_running_stats=True)\n",
      "    (2): MaxPool2d(kernel_size=2, stride=2, padding=0, dilation=1, ceil_mode=False)\n",
      "    (3): ReLU()\n",
      "    (4): Dropout2d(p=0.3)\n",
      "    (5): Conv2d(128, 512, kernel_size=(3, 3), stride=(1, 1), padding=(1, 1))\n",
      "    (6): BatchNorm2d(512, eps=1e-05, momentum=0.1, affine=True, track_running_stats=True)\n",
      "    (7): MaxPool2d(kernel_size=2, stride=2, padding=0, dilation=1, ceil_mode=False)\n",
      "    (8): ReLU()\n",
      "    (9): Dropout2d(p=0.3)\n",
      "    (10): Conv2d(512, 512, kernel_size=(3, 3), stride=(1, 1), padding=(1, 1))\n",
      "    (11): BatchNorm2d(512, eps=1e-05, momentum=0.1, affine=True, track_running_stats=True)\n",
      "    (12): MaxPool2d(kernel_size=2, stride=2, padding=0, dilation=1, ceil_mode=False)\n",
      "    (13): ReLU()\n",
      "    (14): Dropout2d(p=0.3)\n",
      "    (15): Conv2d(512, 512, kernel_size=(3, 3), stride=(1, 1), padding=(1, 1))\n",
      "    (16): BatchNorm2d(512, eps=1e-05, momentum=0.1, affine=True, track_running_stats=True)\n",
      "    (17): MaxPool2d(kernel_size=2, stride=2, padding=0, dilation=1, ceil_mode=False)\n",
      "    (18): ReLU()\n",
      "    (19): Dropout2d(p=0.3)\n",
      "    (20): Conv2d(512, 512, kernel_size=(3, 3), stride=(1, 1), padding=(1, 1))\n",
      "    (21): BatchNorm2d(512, eps=1e-05, momentum=0.1, affine=True, track_running_stats=True)\n",
      "    (22): MaxPool2d(kernel_size=2, stride=2, padding=0, dilation=1, ceil_mode=False)\n",
      "    (23): ReLU()\n",
      "    (24): Dropout2d(p=0.3)\n",
      "  )\n",
      "  (fc): Sequential(\n",
      "    (0): Linear(in_features=512, out_features=512, bias=True)\n",
      "    (1): BatchNorm1d(512, eps=1e-05, momentum=0.1, affine=True, track_running_stats=True)\n",
      "    (2): ReLU()\n",
      "    (3): Linear(in_features=512, out_features=10, bias=True)\n",
      "  )\n",
      ")\n",
      "Number of trainable parameters =  7946506\n"
     ]
    },
    {
     "data": {
      "text/plain": [
       "7946506"
      ]
     },
     "execution_count": 91,
     "metadata": {},
     "output_type": "execute_result"
    }
   ],
   "source": [
    "modelBeforeTraining = ConvNet(input_size, hidden_size, num_classes, dropoutVals[PosOfbestDropoutValue]).to(device)\n",
    "modelBeforeTraining.apply(weights_init)\n",
    "print(model)\n",
    "PrintModelSize(model)"
   ]
  },
  {
   "cell_type": "code",
   "execution_count": 96,
   "metadata": {},
   "outputs": [
    {
     "data": {
      "image/png": "[encoded data removed]",
      "text/plain": [
       "<Figure size 1152x648 with 128 Axes>"
      ]
     },
     "metadata": {},
     "output_type": "display_data"
    }
   ],
   "source": [
    "superTitle = 'Filters of First Conv Layer BEFORE training'\n",
    "VisualizeFilter(modelBeforeTraining, superTitle)"
   ]
  },
  {
   "cell_type": "code",
   "execution_count": 97,
   "metadata": {},
   "outputs": [],
   "source": [
    "bestDropoutModel = ConvNet(input_size, hidden_size, num_classes,  dropoutVals[PosOfbestDropoutValue]).to(device)\n",
    "bestDropoutModel.load_state_dict(torch.load('CNN_models/bestESModel'+str(dropoutVals[PosOfbestDropoutValue])+'.ckpt'))"
   ]
  },
  {
   "cell_type": "code",
   "execution_count": 98,
   "metadata": {},
   "outputs": [
    {
     "data": {
      "image/png": "[encoded data removed]",
      "text/plain": [
       "<Figure size 1152x648 with 128 Axes>"
      ]
     },
     "metadata": {},
     "output_type": "display_data"
    }
   ],
   "source": [
    "superTitle = 'Filters of First Conv Layer AFTER training'\n",
    "VisualizeFilter(bestDropoutModel, superTitle)"
   ]
  },
  {
   "cell_type": "code",
   "execution_count": 123,
   "metadata": {},
   "outputs": [],
   "source": [
    "def getLabels(dataset):\n",
    "    labels = []\n",
    "    for i in range(len(dataset)):\n",
    "        labels.append(dataset[i][1])\n",
    "    return labels\n",
    "\n",
    "def run_testing_labels(model, test_loader):\n",
    "\n",
    "    # Test the model\n",
    "    with torch.no_grad():\n",
    "        correct = 0\n",
    "        total = 0\n",
    "        allPredLabels = []\n",
    "        for images, labels in test_loader:\n",
    "            images = images.to(device)\n",
    "            labels = labels.to(device)\n",
    "            \n",
    "            outputs = model(images)\n",
    "            _ , predicted = torch.max(outputs, 1)\n",
    "            allPredLabels.append(predicted)\n",
    "\n",
    "            total += labels.size(0)\n",
    "            correct += (predicted == labels).sum().item()\n",
    "\n",
    "        testAcc = 100 * correct / total\n",
    "        print('Accuracy of the network on the {} test images: {} %'.format(total, testAcc))\n",
    "        \n",
    "        return testAcc, allPredLabels\n",
    "    \n",
    "def display_classification_results(y_test, y_pred,title=\"Accuracy Heatmap\",show_report=True):\n",
    "    print(\"Test accuracy: %.2f%%\"%(sklearn.metrics.accuracy_score(y_test, y_pred)*100))\n",
    "    if show_report:\n",
    "        print(\"Classification Report:\\n\",sklearn.metrics.classification_report(y_test, y_pred))\n",
    "    plt.rcParams['figure.figsize'] = (10.0, 8.0)\n",
    "    conf_mat = sklearn.metrics.confusion_matrix(y_test,y_pred)\n",
    "    print(\"Confusion Matrix:\\n\",conf_mat)\n",
    "    ax = sns.heatmap(conf_mat);\n",
    "    ax.set(title=title, xlabel=\"CIFAR10 Classes\", ylabel=\"CIFAR10 Classes\")"
   ]
  },
  {
   "cell_type": "code",
   "execution_count": 124,
   "metadata": {},
   "outputs": [],
   "source": [
    "testLabels = getLabels(test_dataset)"
   ]
  },
  {
   "cell_type": "code",
   "execution_count": 128,
   "metadata": {},
   "outputs": [
    {
     "name": "stdout",
     "output_type": "stream",
     "text": [
      "Accuracy of the network on the 10000 test images: 55.9 %\n"
     ]
    }
   ],
   "source": [
    "_, bestModelPreds = run_testing_labels(bestDropoutModel, test_loader)\n",
    "bestModelPreds = [i.tolist() for i in bestModelPreds]\n",
    "bestModelPreds = [item for sublist in bestModelPreds for item in sublist]"
   ]
  },
  {
   "cell_type": "code",
   "execution_count": 129,
   "metadata": {},
   "outputs": [
    {
     "name": "stdout",
     "output_type": "stream",
     "text": [
      "Test accuracy: 55.90%\n",
      "Classification Report:\n",
      "               precision    recall  f1-score   support\n",
      "\n",
      "           0       0.63      0.57      0.60      1000\n",
      "           1       0.69      0.80      0.74      1000\n",
      "           2       0.40      0.30      0.34      1000\n",
      "           3       0.32      0.24      0.28      1000\n",
      "           4       0.46      0.40      0.42      1000\n",
      "           5       0.49      0.51      0.50      1000\n",
      "           6       0.60      0.68      0.64      1000\n",
      "           7       0.54      0.67      0.59      1000\n",
      "           8       0.67      0.73      0.70      1000\n",
      "           9       0.66      0.70      0.68      1000\n",
      "\n",
      "    accuracy                           0.56     10000\n",
      "   macro avg       0.55      0.56      0.55     10000\n",
      "weighted avg       0.55      0.56      0.55     10000\n",
      "\n",
      "Confusion Matrix:\n",
      " [[569  54 126  24   4  14   6  14 151  38]\n",
      " [ 12 798   0  13   1   9  23   7  49  88]\n",
      " [ 78  16 305  93 193 100  92  68  31  24]\n",
      " [ 20  18  86 243  63 264 127 103  30  46]\n",
      " [ 38  24  96  52 395  35 124 206  14  16]\n",
      " [  9  11  67 126  68 510  39 127  13  30]\n",
      " [  4  14  32 115  81  18 678  24   7  27]\n",
      " [ 41  22  35  41  58  63  10 666   8  56]\n",
      " [115  45  19  22   0  14  10   9 729  37]\n",
      " [ 18 157   5  24   2  11  18  17  51 697]]\n"
     ]
    },
    {
     "data": {
      "image/png": "[encoded data removed]",
      "text/plain": [
       "<Figure size 720x576 with 2 Axes>"
      ]
     },
     "metadata": {
      "needs_background": "light"
     },
     "output_type": "display_data"
    }
   ],
   "source": [
    "display_classification_results(testLabels, bestModelPreds, title=\"Accuracy Heatmap\",show_report=True)"
   ]
  },
  {
   "cell_type": "code",
   "execution_count": null,
   "metadata": {},
   "outputs": [],
   "source": []
  },
  {
   "cell_type": "code",
   "execution_count": null,
   "metadata": {},
   "outputs": [],
   "source": []
  },
  {
   "cell_type": "code",
   "execution_count": null,
   "metadata": {},
   "outputs": [],
   "source": []
  }
 ],
 "metadata": {
  "kernelspec": {
   "display_name": "Python 3",
   "language": "python",
   "name": "python3"
  },
  "language_info": {
   "codemirror_mode": {
    "name": "ipython",
    "version": 3
   },
   "file_extension": ".py",
   "mimetype": "text/x-python",
   "name": "python",
   "nbconvert_exporter": "python",
   "pygments_lexer": "ipython3",
   "version": "3.6.8"
  }
 },
 "nbformat": 4,
 "nbformat_minor": 2
}
